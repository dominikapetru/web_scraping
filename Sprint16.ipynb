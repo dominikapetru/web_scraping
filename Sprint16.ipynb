{
 "cells": [
  {
   "cell_type": "markdown",
   "id": "67b49562-8058-4dda-929c-c6e829d8c2f8",
   "metadata": {},
   "source": [
    "# Sprint 16: Web scraping"
   ]
  },
  {
   "cell_type": "markdown",
   "id": "3b75bafa-2c90-4e4f-aa36-9f91f1d43a99",
   "metadata": {},
   "source": [
    "#### Imports"
   ]
  },
  {
   "cell_type": "code",
   "execution_count": 2,
   "id": "3b4467a6-12c9-4a91-88b0-1dc14c22dd94",
   "metadata": {
    "tags": []
   },
   "outputs": [],
   "source": [
    "import requests\n",
    "import numpy as np\n",
    "from bs4 import BeautifulSoup\n",
    "import pandas as pd\n",
    "import seaborn as sns\n",
    "import matplotlib.pyplot as plt\n",
    "\n",
    "import warnings\n",
    "warnings.filterwarnings('ignore')"
   ]
  },
  {
   "cell_type": "markdown",
   "id": "f7d10fd3-a034-4a84-bb1b-920458f8ad73",
   "metadata": {},
   "source": [
    "## Level 1"
   ]
  },
  {
   "cell_type": "markdown",
   "id": "e0840fbe-d770-4a16-adfb-86bee927a166",
   "metadata": {},
   "source": [
    "### Exercise 1"
   ]
  },
  {
   "cell_type": "markdown",
   "id": "76afee33-860c-45bb-8c0c-ce91f5a0c40f",
   "metadata": {},
   "source": [
    "#### Web scraping of the Madrid stock exchange with BeautifulSoup and Selenium"
   ]
  },
  {
   "cell_type": "markdown",
   "id": "6a5d3033-6048-4959-961a-6c6f277d79ef",
   "metadata": {},
   "source": [
    "### BeautifulSoup"
   ]
  },
  {
   "cell_type": "markdown",
   "id": "d05930ae-7bb2-4870-8dd5-c45178e35e5b",
   "metadata": {},
   "source": [
    "Tool for pulling out information from a webpage. Extracting tables, lists, paragraphs from single url. Perfect for small projects."
   ]
  },
  {
   "cell_type": "code",
   "execution_count": 13,
   "id": "059e56dd-262e-4a47-a91a-44dfc004ad8b",
   "metadata": {
    "scrolled": true,
    "tags": []
   },
   "outputs": [],
   "source": [
    "#scrape html content\n",
    "url = \"https://www.bolsamadrid.es\"\n",
    "page = requests.get(url)"
   ]
  },
  {
   "cell_type": "markdown",
   "id": "dcae27be-5183-4e06-9c1e-59d9c359c99a",
   "metadata": {},
   "source": [
    "##### Playing around with BeautifulSoup"
   ]
  },
  {
   "cell_type": "code",
   "execution_count": 14,
   "id": "c2f39d9e-3433-4ebc-8c83-944826c13e9a",
   "metadata": {
    "tags": []
   },
   "outputs": [],
   "source": [
    "#parse html code with beautiful soup\n",
    "soup = BeautifulSoup(page.content, \"html.parser\")"
   ]
  },
  {
   "cell_type": "code",
   "execution_count": 15,
   "id": "2f139871-f96d-4646-b3a1-6741d8c48996",
   "metadata": {
    "tags": []
   },
   "outputs": [],
   "source": [
    "#find elements by ID\n",
    "results = soup.find(id=\"PortBolsa\")\n",
    "\n",
    "#results fomat pretty\n",
    "#results.prettify()"
   ]
  },
  {
   "cell_type": "code",
   "execution_count": 16,
   "id": "dae54598-3cf9-4b93-aaf7-795fa7864ecf",
   "metadata": {
    "tags": []
   },
   "outputs": [],
   "source": [
    "#find elements by class\n",
    "column = results.find_all(\"div\", class_=\"coln1\")\n",
    "#for coln1 in column:\n",
    "    #print(coln1, end=\"\\n\"*2)"
   ]
  },
  {
   "cell_type": "code",
   "execution_count": 17,
   "id": "9f43af7f-9ac3-46f4-9d67-6fa9da7f928c",
   "metadata": {
    "tags": []
   },
   "outputs": [],
   "source": [
    "#pick out child elements\n",
    "for coln1 in column:\n",
    "    element1 = coln1.findAll(\"div\", class_=\"mclick\")\n",
    "    #print(element1)"
   ]
  },
  {
   "cell_type": "code",
   "execution_count": 20,
   "id": "7e0b4ec3-eb91-4d38-8890-79b89edf6cb0",
   "metadata": {
    "tags": []
   },
   "outputs": [],
   "source": [
    "#find child div element\n",
    "for x in element1:\n",
    "    element2 = x.find(\"div\")\n",
    "#print(element2)    "
   ]
  },
  {
   "cell_type": "code",
   "execution_count": 19,
   "id": "98b5c842-12ba-45c3-958a-f4d6e513e81a",
   "metadata": {
    "tags": []
   },
   "outputs": [
    {
     "name": "stdout",
     "output_type": "stream",
     "text": [
      "Los índices bursátiles como referencia en tiempos de crisis\n"
     ]
    }
   ],
   "source": [
    "#print out just text\n",
    "print(element2.text)"
   ]
  },
  {
   "cell_type": "code",
   "execution_count": 22,
   "id": "45c76ef7-8b59-4b5e-b05e-bd0048e9eb39",
   "metadata": {
    "tags": []
   },
   "outputs": [
    {
     "name": "stdout",
     "output_type": "stream",
     "text": [
      "85\n"
     ]
    }
   ],
   "source": [
    "#find elements by class name and text content\n",
    "#find all elements with text crisis\n",
    "crisis = results.find_all(\"div\", string=lambda text: \"crisis\")\n",
    "#how many maching jobs we have?\n",
    "print(len(crisis))"
   ]
  },
  {
   "cell_type": "code",
   "execution_count": 23,
   "id": "2103bb98-c90c-4b8c-a4c0-9a5410a07d03",
   "metadata": {
    "tags": []
   },
   "outputs": [],
   "source": [
    "#fetching url elements\n",
    "urls = []\n",
    "\n",
    "for w in crisis:\n",
    "    links = w.find_all(\"a\")\n",
    "    for link in links:\n",
    "        urls.append(link.get('href'))\n",
    "        link_url = link[\"href\"] \n",
    "        #print(f\"URL: {link_url}\\n\") "
   ]
  },
  {
   "cell_type": "code",
   "execution_count": 24,
   "id": "acba8eb9-9add-4918-bd66-993bbb6440ef",
   "metadata": {
    "tags": []
   },
   "outputs": [
    {
     "data": {
      "text/plain": [
       "['https://www.bolsasymercados.es/esp/Sala-Comunicacion/Nota-Prensa/20211122/nota_20211122_1/Javier_Hernani_y_Thomas_Zeeb_destacan_el_papel_de_la_Bolsa_como_punto_de_encuentro_con_America_Latina',\n",
       " 'https://youtu.be/lzIVRMtoJQg']"
      ]
     },
     "execution_count": 24,
     "metadata": {},
     "output_type": "execute_result"
    }
   ],
   "source": [
    "urls[:2]"
   ]
  },
  {
   "cell_type": "markdown",
   "id": "c2f7f93e-6754-4efd-aaef-0acc7c7bb274",
   "metadata": {},
   "source": [
    "##### Search for Indices Summary"
   ]
  },
  {
   "cell_type": "code",
   "execution_count": 20,
   "id": "3d13a4a8-46b3-4afb-9446-a4692d0679de",
   "metadata": {
    "tags": []
   },
   "outputs": [
    {
     "data": {
      "text/plain": [
       "'/esp/aspx/Indices/Resumen.aspx'"
      ]
     },
     "execution_count": 20,
     "metadata": {},
     "output_type": "execute_result"
    }
   ],
   "source": [
    "link = soup.find('a', string='Resumen de Índices')\n",
    "new_url = link.get('href')\n",
    "new_url"
   ]
  },
  {
   "cell_type": "code",
   "execution_count": 21,
   "id": "9e9808d8-9cb3-43ca-bd1d-7a102d265130",
   "metadata": {
    "tags": []
   },
   "outputs": [
    {
     "data": {
      "text/plain": [
       "'https://www.bolsamadrid.es/esp/aspx/Indices/Resumen.aspx'"
      ]
     },
     "execution_count": 21,
     "metadata": {},
     "output_type": "execute_result"
    }
   ],
   "source": [
    "link = url+new_url\n",
    "link"
   ]
  },
  {
   "cell_type": "code",
   "execution_count": 22,
   "id": "966e77d4-d764-43fa-bc3a-2b85264b044c",
   "metadata": {
    "tags": []
   },
   "outputs": [],
   "source": [
    "html_indices = requests.get(link)\n",
    "soup_indices = BeautifulSoup(html_indices.content, 'html.parser')"
   ]
  },
  {
   "cell_type": "code",
   "execution_count": 23,
   "id": "9d9b6523-b36a-4d4c-a93c-39b4b6270d9d",
   "metadata": {
    "tags": []
   },
   "outputs": [
    {
     "data": {
      "text/plain": [
       "[<th scope=\"col\">Nombre</th>,\n",
       " <th scope=\"col\">Anterior</th>,\n",
       " <th scope=\"col\">Último</th>,\n",
       " <th scope=\"col\">% Dif.</th>,\n",
       " <th scope=\"col\">Máximo</th>,\n",
       " <th scope=\"col\">Mínimo</th>,\n",
       " <th scope=\"col\">Fecha</th>,\n",
       " <th scope=\"col\">Hora</th>,\n",
       " <th class=\"Ult\" scope=\"col\">% Dif.<br/>Año 2021</th>]"
      ]
     },
     "execution_count": 23,
     "metadata": {},
     "output_type": "execute_result"
    }
   ],
   "source": [
    "table_indices = soup_indices.find(\"table\",class_=\"TblPort\")\n",
    "table_indices.find_all(\"th\")"
   ]
  },
  {
   "cell_type": "code",
   "execution_count": 24,
   "id": "e225a75f-5666-4af3-a42e-9360da1b7970",
   "metadata": {
    "tags": []
   },
   "outputs": [
    {
     "name": "stdout",
     "output_type": "stream",
     "text": [
      "['Nombre', 'Anterior', 'Último', '% Dif.', 'Máximo', 'Mínimo', 'Fecha', 'Hora', '% Dif.Año 2021']\n"
     ]
    }
   ],
   "source": [
    "columns=[]\n",
    "for element in table_indices.find_all(\"th\"):\n",
    "    columns.append(element.get_text())\n",
    "print(columns)"
   ]
  },
  {
   "cell_type": "code",
   "execution_count": 25,
   "id": "f3489cac-3209-42a9-ab79-8d3a3ea9ee07",
   "metadata": {
    "tags": []
   },
   "outputs": [],
   "source": [
    "results=[]\n",
    "for element in table_indices.find_all(\"td\"):\n",
    "    results.append(element.get_text())"
   ]
  },
  {
   "cell_type": "code",
   "execution_count": 26,
   "id": "71f4cd3b-0e7c-4327-acb2-1061485ec7b8",
   "metadata": {
    "tags": []
   },
   "outputs": [],
   "source": [
    "data = {}\n",
    "for i in range(9):\n",
    "    data[columns[i]]=results[i::9]\n",
    "\n",
    "df = pd.DataFrame(data)"
   ]
  },
  {
   "cell_type": "code",
   "execution_count": 27,
   "id": "b0a26a04-37db-4141-b277-a3326e258e4b",
   "metadata": {
    "tags": []
   },
   "outputs": [
    {
     "data": {
      "text/html": [
       "<div>\n",
       "<style scoped>\n",
       "    .dataframe tbody tr th:only-of-type {\n",
       "        vertical-align: middle;\n",
       "    }\n",
       "\n",
       "    .dataframe tbody tr th {\n",
       "        vertical-align: top;\n",
       "    }\n",
       "\n",
       "    .dataframe thead th {\n",
       "        text-align: right;\n",
       "    }\n",
       "</style>\n",
       "<table border=\"1\" class=\"dataframe\">\n",
       "  <thead>\n",
       "    <tr style=\"text-align: right;\">\n",
       "      <th></th>\n",
       "      <th>Nombre</th>\n",
       "      <th>Anterior</th>\n",
       "      <th>Último</th>\n",
       "      <th>% Dif.</th>\n",
       "      <th>Máximo</th>\n",
       "      <th>Mínimo</th>\n",
       "      <th>Fecha</th>\n",
       "      <th>Hora</th>\n",
       "      <th>% Dif.Año 2021</th>\n",
       "    </tr>\n",
       "  </thead>\n",
       "  <tbody>\n",
       "    <tr>\n",
       "      <th>0</th>\n",
       "      <td>IBEX 35®</td>\n",
       "      <td>8.402,70</td>\n",
       "      <td>8.455,20</td>\n",
       "      <td>0,62</td>\n",
       "      <td>8.562,00</td>\n",
       "      <td>8.431,70</td>\n",
       "      <td>29/11/2021</td>\n",
       "      <td>17:38:00</td>\n",
       "      <td>4,73</td>\n",
       "    </tr>\n",
       "    <tr>\n",
       "      <th>1</th>\n",
       "      <td>IBEX 35® con Dividendos</td>\n",
       "      <td>25.846,10</td>\n",
       "      <td>26.007,70</td>\n",
       "      <td>0,63</td>\n",
       "      <td>26.336,20</td>\n",
       "      <td>25.935,40</td>\n",
       "      <td>29/11/2021</td>\n",
       "      <td>17:38:00</td>\n",
       "      <td>7,20</td>\n",
       "    </tr>\n",
       "    <tr>\n",
       "      <th>2</th>\n",
       "      <td>IBEX MEDIUM CAP®</td>\n",
       "      <td>12.992,60</td>\n",
       "      <td>13.071,80</td>\n",
       "      <td>0,61</td>\n",
       "      <td>13.183,00</td>\n",
       "      <td>13.029,90</td>\n",
       "      <td>29/11/2021</td>\n",
       "      <td>17:38:00</td>\n",
       "      <td>2,80</td>\n",
       "    </tr>\n",
       "    <tr>\n",
       "      <th>3</th>\n",
       "      <td>IBEX SMALL CAP®</td>\n",
       "      <td>7.862,50</td>\n",
       "      <td>7.874,30</td>\n",
       "      <td>0,15</td>\n",
       "      <td>7.966,40</td>\n",
       "      <td>7.866,60</td>\n",
       "      <td>29/11/2021</td>\n",
       "      <td>17:38:00</td>\n",
       "      <td>-2,76</td>\n",
       "    </tr>\n",
       "    <tr>\n",
       "      <th>4</th>\n",
       "      <td>IBEX 35® Bancos</td>\n",
       "      <td>435,20</td>\n",
       "      <td>434,30</td>\n",
       "      <td>-0,21</td>\n",
       "      <td>445,90</td>\n",
       "      <td>433,40</td>\n",
       "      <td>29/11/2021</td>\n",
       "      <td>17:38:00</td>\n",
       "      <td>15,47</td>\n",
       "    </tr>\n",
       "    <tr>\n",
       "      <th>...</th>\n",
       "      <td>...</td>\n",
       "      <td>...</td>\n",
       "      <td>...</td>\n",
       "      <td>...</td>\n",
       "      <td>...</td>\n",
       "      <td>...</td>\n",
       "      <td>...</td>\n",
       "      <td>...</td>\n",
       "      <td>...</td>\n",
       "    </tr>\n",
       "    <tr>\n",
       "      <th>73</th>\n",
       "      <td>Índice ITX Inverso X3</td>\n",
       "      <td>199,40</td>\n",
       "      <td>190,30</td>\n",
       "      <td>-4,56</td>\n",
       "      <td>196,60</td>\n",
       "      <td>180,90</td>\n",
       "      <td>29/11/2021</td>\n",
       "      <td>17:38:00</td>\n",
       "      <td>-62,81</td>\n",
       "    </tr>\n",
       "    <tr>\n",
       "      <th>74</th>\n",
       "      <td>Índice TEF Inverso X5</td>\n",
       "      <td>12.036,30</td>\n",
       "      <td>11.197,90</td>\n",
       "      <td>-6,97</td>\n",
       "      <td>12.098,60</td>\n",
       "      <td>10.759,20</td>\n",
       "      <td>29/11/2021</td>\n",
       "      <td>17:38:00</td>\n",
       "      <td>440,67</td>\n",
       "    </tr>\n",
       "    <tr>\n",
       "      <th>75</th>\n",
       "      <td>Índice SAN Inverso X5</td>\n",
       "      <td>5.838,10</td>\n",
       "      <td>5.818,30</td>\n",
       "      <td>-0,34</td>\n",
       "      <td>5.902,20</td>\n",
       "      <td>5.057,80</td>\n",
       "      <td>29/11/2021</td>\n",
       "      <td>17:38:00</td>\n",
       "      <td>940,42</td>\n",
       "    </tr>\n",
       "    <tr>\n",
       "      <th>76</th>\n",
       "      <td>Índice BBVA Inverso X5</td>\n",
       "      <td>11.933,10</td>\n",
       "      <td>12.438,90</td>\n",
       "      <td>4,24</td>\n",
       "      <td>12.451,20</td>\n",
       "      <td>10.339,60</td>\n",
       "      <td>29/11/2021</td>\n",
       "      <td>17:38:00</td>\n",
       "      <td>40,04</td>\n",
       "    </tr>\n",
       "    <tr>\n",
       "      <th>77</th>\n",
       "      <td>Índice ITX Inverso X5</td>\n",
       "      <td>1.072,00</td>\n",
       "      <td>990,50</td>\n",
       "      <td>-7,60</td>\n",
       "      <td>1.047,30</td>\n",
       "      <td>906,20</td>\n",
       "      <td>29/11/2021</td>\n",
       "      <td>17:38:00</td>\n",
       "      <td>-85,96</td>\n",
       "    </tr>\n",
       "  </tbody>\n",
       "</table>\n",
       "<p>78 rows × 9 columns</p>\n",
       "</div>"
      ],
      "text/plain": [
       "                     Nombre   Anterior     Último % Dif.     Máximo  \\\n",
       "0                  IBEX 35®   8.402,70   8.455,20   0,62   8.562,00   \n",
       "1   IBEX 35® con Dividendos  25.846,10  26.007,70   0,63  26.336,20   \n",
       "2          IBEX MEDIUM CAP®  12.992,60  13.071,80   0,61  13.183,00   \n",
       "3           IBEX SMALL CAP®   7.862,50   7.874,30   0,15   7.966,40   \n",
       "4           IBEX 35® Bancos     435,20     434,30  -0,21     445,90   \n",
       "..                      ...        ...        ...    ...        ...   \n",
       "73    Índice ITX Inverso X3     199,40     190,30  -4,56     196,60   \n",
       "74    Índice TEF Inverso X5  12.036,30  11.197,90  -6,97  12.098,60   \n",
       "75    Índice SAN Inverso X5   5.838,10   5.818,30  -0,34   5.902,20   \n",
       "76   Índice BBVA Inverso X5  11.933,10  12.438,90   4,24  12.451,20   \n",
       "77    Índice ITX Inverso X5   1.072,00     990,50  -7,60   1.047,30   \n",
       "\n",
       "       Mínimo       Fecha      Hora % Dif.Año 2021  \n",
       "0    8.431,70  29/11/2021  17:38:00           4,73  \n",
       "1   25.935,40  29/11/2021  17:38:00           7,20  \n",
       "2   13.029,90  29/11/2021  17:38:00           2,80  \n",
       "3    7.866,60  29/11/2021  17:38:00          -2,76  \n",
       "4      433,40  29/11/2021  17:38:00          15,47  \n",
       "..        ...         ...       ...            ...  \n",
       "73     180,90  29/11/2021  17:38:00         -62,81  \n",
       "74  10.759,20  29/11/2021  17:38:00         440,67  \n",
       "75   5.057,80  29/11/2021  17:38:00         940,42  \n",
       "76  10.339,60  29/11/2021  17:38:00          40,04  \n",
       "77     906,20  29/11/2021  17:38:00         -85,96  \n",
       "\n",
       "[78 rows x 9 columns]"
      ]
     },
     "execution_count": 27,
     "metadata": {},
     "output_type": "execute_result"
    }
   ],
   "source": [
    "df"
   ]
  },
  {
   "cell_type": "code",
   "execution_count": 28,
   "id": "c66d140e-adc8-48a9-955a-ac9f99cd86a1",
   "metadata": {
    "tags": []
   },
   "outputs": [],
   "source": [
    "df.to_csv('Indices.csv')"
   ]
  },
  {
   "cell_type": "markdown",
   "id": "84524b6f-0c0f-4db4-96b2-daa0826b0ea2",
   "metadata": {},
   "source": [
    "### Selenium"
   ]
  },
  {
   "cell_type": "markdown",
   "id": "52a5297a-28f5-4eb2-ac81-ebb136a6f136",
   "metadata": {},
   "source": [
    "Tool for pulling out information from a webpage. Simulates a real browser and reads also JavaScript. Testing of web applications and midium sized projects."
   ]
  },
  {
   "cell_type": "code",
   "execution_count": 29,
   "id": "b8ab36cc-cb0e-4511-ad9b-45cfccec7e49",
   "metadata": {
    "tags": []
   },
   "outputs": [],
   "source": [
    "from selenium.webdriver import Firefox\n",
    "from selenium.webdriver.firefox.options import Options\n",
    "from selenium.webdriver.common.by import By \n",
    "\n",
    "opts = Options()\n",
    "#operating in headless mode\n",
    "opts.headless = True\n",
    "browser = Firefox(options=opts)\n",
    "browser.get('https://www.bolsamadrid.es')"
   ]
  },
  {
   "cell_type": "code",
   "execution_count": 31,
   "id": "a2e858f6-c37f-4809-ae22-4e97b138062f",
   "metadata": {
    "tags": []
   },
   "outputs": [
    {
     "name": "stdout",
     "output_type": "stream",
     "text": [
      "Nombre Último % Dif.  \n",
      "ACCIONA 159,0000 -0,19\n",
      "ACERINOX 10,1250 0,15\n",
      "ACS 21,5400 2,47\n",
      "AENA 129,3500 0,70\n",
      "ALMIRALL 10,7900 0,37\n"
     ]
    }
   ],
   "source": [
    "#query the DOM - Document Object Model\n",
    "#fetching elements in table IBEX35\n",
    "ibex35 = browser.find_element(By.CLASS_NAME, \"TblAccPort\")\n",
    "print(ibex35.text)"
   ]
  },
  {
   "cell_type": "code",
   "execution_count": 32,
   "id": "149d45db-f420-4710-8f96-d5958a9166a4",
   "metadata": {
    "tags": []
   },
   "outputs": [
    {
     "name": "stdout",
     "output_type": "stream",
     "text": [
      "Evento/Indicador País Periodo Anterior Previsto Actual\n",
      "Ventas al por menor  Japón Octubre -0,5% (r) 1,1% 0,9%\n",
      "IPC armonizado provisional  España Noviembre 5,4% 5,6% 5,6%\n",
      "IPC provisional  España Noviembre 5,4% 4,0% 5,6%\n",
      "Precios industriales  Italia Octubre 13,3% 20,4%\n",
      "Confianza del consumidor final  UEM Noviembre -4,8 (r) -6,8 -6,8\n",
      "IPC provisional  Alemania Noviembre 4,5% 5,0% 5,2%\n",
      "IPC armonizado provisional  Alemania Noviembre 4,6% 5,5% 6,0%\n",
      "Ventas pendientes de viviendas  EEUU Octubre -2,4% (r) 0,9% 7,5%\n"
     ]
    }
   ],
   "source": [
    "#fetching elements in table Daily schedule\n",
    "schedule = browser.find_element(By.CLASS_NAME, \"TblPort\")\n",
    "print(schedule.text)"
   ]
  },
  {
   "cell_type": "code",
   "execution_count": 33,
   "id": "4a56cb02-0924-435a-965f-02c0d3b5d6b5",
   "metadata": {
    "tags": []
   },
   "outputs": [],
   "source": [
    "#search for link to dividents\n",
    "links = browser.find_element(By.LINK_TEXT, \"Dividendos\")\n",
    "links.click()"
   ]
  },
  {
   "cell_type": "code",
   "execution_count": 34,
   "id": "8e2caa3e-b937-4b8b-bcee-81842721b093",
   "metadata": {
    "tags": []
   },
   "outputs": [],
   "source": [
    "#search for id of table\n",
    "table = browser.find_element(By.ID, \"ctl00_Contenido_tblDatos\")"
   ]
  },
  {
   "cell_type": "code",
   "execution_count": 35,
   "id": "83e67d24-8f91-4f85-9610-20fe855198a6",
   "metadata": {
    "tags": []
   },
   "outputs": [
    {
     "name": "stdout",
     "output_type": "stream",
     "text": [
      "Fecha\n",
      "Descuento Fecha\n",
      "Abono Emisora Valor ISIN Valor Ejercicio Tipo Importe Bruto\n",
      "21/12/2021 23/12/2021 CLINICA BAVIERA, S.A. CLINICA BAVIERA ES0119037010 A cuenta 2021 Ord. (*)\n",
      "20/12/2021 22/12/2021 VISCOFAN, S.A. VISCOFAN ES0184262212 A cuenta 2021 Ord. (*)\n",
      "17/12/2021 21/12/2021 ENAGAS, S.A. ENAGAS ES0130960018 A cuenta 2021 Ord. (*)\n",
      "17/12/2021 29/12/2021 BRADESPAR,S.A. BRADESPAR ORDINARIAS BRBRAPACNOR5 A cuenta 2021 Ord. (*)\n",
      "17/12/2021 29/12/2021 BRADESPAR,S.A. BRADESPAR PREFERENTES BRBRAPACNPR2 A cuenta 2021 Ord. (*)\n",
      "14/12/2021 16/12/2021 ATRESMEDIA CORP. DE MEDIOS DE COM. S.A. ATRESMEDIA CORP. DE MEDIOS DE COM. ES0109427734 A cuenta 2021 Ord. (*)\n",
      "14/12/2021 16/12/2021 PRIM, S.A. PRIM ES0170884417 A cuenta 2021 Ord. (*)\n",
      "07/12/2021 10/12/2021 HISPANOTELS INVERSIONES SOCIMI, S.A. HISPANOTELS INVERSIONES ES0105379004 RESERVAS 2021 Ord. (*)\n",
      "30/11/2021 02/12/2021 ALTIA CONSULTORES, S.A. ALTIA CONSULTORES ES0113312005 A cuenta 2021 Ord. (*)\n",
      "30/11/2021 02/12/2021 WEALTH RENDITE, SICAV, S.A. WEALTH RENDITE ES0145837037 RESERVAS 2021 Ord. (*)\n",
      "26/11/2021 30/11/2021 MAPFRE, S.A. MAPFRE, S.A. ES0124244E34 A cuenta 2021 Ord. 0,0606\n",
      "26/11/2021 29/11/2021 INVERSIONES DOALCA, SOCIMI, S.A. INVERSIONES DOALCA ES0105120002 A cuenta 2021 Ord. 0,2600\n",
      "24/11/2021 26/11/2021 CASTELLANA PROPERTIES SOCIMI, S.A. CASTELLANA PROPERTIES ES0105360004 A cuenta 2021 Ord. 0,0696\n",
      "23/11/2021 25/11/2021 ARRIENDA RENTAL PROPERTIES SOCIMI,S.A. ARRIENDA RENTAL ES0105383006 A cuenta 2021 Ord. 0,0298\n",
      "22/11/2021 24/11/2021 BEGOINVEST DE INVERSIONES,SICAV,S.A. BEGOINVEST DE INVERSIONES ES0114427034 RESERVAS 2021 Ord. 0,3400\n",
      "19/11/2021 03/12/2021 MERLIN PROPERTIES, SOCIMI, S.A. MERLIN PROPERTIES ES0105025003 A cuenta 2021 Ord. (*)\n",
      "18/11/2021 06/12/2021 COCA-COLA EUROPACIFIC PARTNERS PLC COCA-COLA EUROPACIFIC PARTNERS GB00BDCPN049 A cuenta 2021 Ord. (*)\n",
      "12/11/2021 09/12/2021 APERAM, SOCIETE ANONYME APERAM LU0569974404 A cuenta 2021 Ord. (*)\n",
      "11/11/2021 15/11/2021 RENTA CORPORACION REAL ESTATE, S.A. RENTA CORPORACION ES0173365018 A cuenta 2021 Ord. (*)\n",
      "11/11/2021 15/11/2021 NATURGY ENERGY GROUP, S.A. NATURGY ENERGY GROUP ES0116870314 A cuenta 2021 Ord. (*)\n",
      "10/11/2021 12/11/2021 ALANTRA PARTNERS, S.A. ALANTRA PARTNERS ES0126501131 A cuenta 2021 Ord. (*)\n",
      "09/11/2021 11/11/2021 PREVISION SANITARIA NACIONAL GEST. S.A. PREVISION SANITARIA NACIONAL ES0170756037 A cuenta 2021 Ord. (*)\n",
      "04/11/2021 08/11/2021 AMERICA MOVIL S,A,B, AMERICA MOVIL SERIE L MXP001691213 A cuenta 2021 Ord. (*)\n",
      "03/11/2021 19/11/2021 FERROVIAL, S.A. FERROVIAL ES0118900010 A cuenta 2021 Div. Op. (*)\n",
      "01/11/2021 03/11/2021 FLUIDRA, S.A. FLUIDRA ES0137650018 A cuenta 2021 Ord. (*)\n"
     ]
    }
   ],
   "source": [
    "print(table.text)"
   ]
  },
  {
   "cell_type": "code",
   "execution_count": 36,
   "id": "16cdc794-5837-44aa-804c-22e7341fb2d3",
   "metadata": {
    "tags": []
   },
   "outputs": [
    {
     "name": "stdout",
     "output_type": "stream",
     "text": [
      "['Fecha\\nDescuento', 'Fecha\\nAbono', 'Emisora', 'Valor', 'ISIN Valor', 'Ejercicio', 'Tipo', 'Importe Bruto']\n"
     ]
    }
   ],
   "source": [
    "columns=[]\n",
    "\n",
    "for element in table.find_elements(By.TAG_NAME, \"th\"):    \n",
    "    columns.append(element.text)\n",
    "    \n",
    "print(columns)"
   ]
  },
  {
   "cell_type": "code",
   "execution_count": 37,
   "id": "def61070-c9dc-4d3e-bf4e-543d6a342983",
   "metadata": {
    "tags": []
   },
   "outputs": [
    {
     "name": "stdout",
     "output_type": "stream",
     "text": [
      "['21/12/2021', '23/12/2021', 'CLINICA BAVIERA, S.A.', 'CLINICA BAVIERA', 'ES0119037010', 'A cuenta 2021', 'Ord.', '(*)', '20/12/2021', '22/12/2021', 'VISCOFAN, S.A.', 'VISCOFAN', 'ES0184262212', 'A cuenta 2021', 'Ord.', '(*)', '17/12/2021', '21/12/2021', 'ENAGAS, S.A.', 'ENAGAS', 'ES0130960018', 'A cuenta 2021', 'Ord.', '(*)', '17/12/2021', '29/12/2021', 'BRADESPAR,S.A.', 'BRADESPAR ORDINARIAS', 'BRBRAPACNOR5', 'A cuenta 2021', 'Ord.', '(*)', '17/12/2021', '29/12/2021', 'BRADESPAR,S.A.', 'BRADESPAR PREFERENTES', 'BRBRAPACNPR2', 'A cuenta 2021', 'Ord.', '(*)', '14/12/2021', '16/12/2021', 'ATRESMEDIA CORP. DE MEDIOS DE COM. S.A.', 'ATRESMEDIA CORP. DE MEDIOS DE COM.', 'ES0109427734', 'A cuenta 2021', 'Ord.', '(*)', '14/12/2021', '16/12/2021', 'PRIM, S.A.', 'PRIM', 'ES0170884417', 'A cuenta 2021', 'Ord.', '(*)', '07/12/2021', '10/12/2021', 'HISPANOTELS INVERSIONES SOCIMI, S.A.', 'HISPANOTELS INVERSIONES', 'ES0105379004', 'RESERVAS 2021', 'Ord.', '(*)', '30/11/2021', '02/12/2021', 'ALTIA CONSULTORES, S.A.', 'ALTIA CONSULTORES', 'ES0113312005', 'A cuenta 2021', 'Ord.', '(*)', '30/11/2021', '02/12/2021', 'WEALTH RENDITE, SICAV, S.A.', 'WEALTH RENDITE', 'ES0145837037', 'RESERVAS 2021', 'Ord.', '(*)', '26/11/2021', '30/11/2021', 'MAPFRE, S.A.', 'MAPFRE, S.A.', 'ES0124244E34', 'A cuenta 2021', 'Ord.', '0,0606', '26/11/2021', '29/11/2021', 'INVERSIONES DOALCA, SOCIMI, S.A.', 'INVERSIONES DOALCA', 'ES0105120002', 'A cuenta 2021', 'Ord.', '0,2600', '24/11/2021', '26/11/2021', 'CASTELLANA PROPERTIES SOCIMI, S.A.', 'CASTELLANA PROPERTIES', 'ES0105360004', 'A cuenta 2021', 'Ord.', '0,0696', '23/11/2021', '25/11/2021', 'ARRIENDA RENTAL PROPERTIES SOCIMI,S.A.', 'ARRIENDA RENTAL', 'ES0105383006', 'A cuenta 2021', 'Ord.', '0,0298', '22/11/2021', '24/11/2021', 'BEGOINVEST DE INVERSIONES,SICAV,S.A.', 'BEGOINVEST DE INVERSIONES', 'ES0114427034', 'RESERVAS 2021', 'Ord.', '0,3400', '19/11/2021', '03/12/2021', 'MERLIN PROPERTIES, SOCIMI, S.A.', 'MERLIN PROPERTIES', 'ES0105025003', 'A cuenta 2021', 'Ord.', '(*)', '18/11/2021', '06/12/2021', 'COCA-COLA EUROPACIFIC PARTNERS PLC', 'COCA-COLA EUROPACIFIC PARTNERS', 'GB00BDCPN049', 'A cuenta 2021', 'Ord.', '(*)', '12/11/2021', '09/12/2021', 'APERAM, SOCIETE ANONYME', 'APERAM', 'LU0569974404', 'A cuenta 2021', 'Ord.', '(*)', '11/11/2021', '15/11/2021', 'RENTA CORPORACION REAL ESTATE, S.A.', 'RENTA CORPORACION', 'ES0173365018', 'A cuenta 2021', 'Ord.', '(*)', '11/11/2021', '15/11/2021', 'NATURGY ENERGY GROUP, S.A.', 'NATURGY ENERGY GROUP', 'ES0116870314', 'A cuenta 2021', 'Ord.', '(*)', '10/11/2021', '12/11/2021', 'ALANTRA PARTNERS, S.A.', 'ALANTRA PARTNERS', 'ES0126501131', 'A cuenta 2021', 'Ord.', '(*)', '09/11/2021', '11/11/2021', 'PREVISION SANITARIA NACIONAL GEST. S.A.', 'PREVISION SANITARIA NACIONAL', 'ES0170756037', 'A cuenta 2021', 'Ord.', '(*)', '04/11/2021', '08/11/2021', 'AMERICA MOVIL S,A,B,', 'AMERICA MOVIL SERIE L', 'MXP001691213', 'A cuenta 2021', 'Ord.', '(*)', '03/11/2021', '19/11/2021', 'FERROVIAL, S.A.', 'FERROVIAL', 'ES0118900010', 'A cuenta 2021', 'Div. Op.', '(*)', '01/11/2021', '03/11/2021', 'FLUIDRA, S.A.', 'FLUIDRA', 'ES0137650018', 'A cuenta 2021', 'Ord.', '(*)']\n"
     ]
    }
   ],
   "source": [
    "results=[]\n",
    "\n",
    "for element in table.find_elements(By.TAG_NAME, \"td\"):    \n",
    "    results.append(element.text)\n",
    "\n",
    "print(results)"
   ]
  },
  {
   "cell_type": "code",
   "execution_count": 38,
   "id": "bd52392f-23f1-4af6-8f99-ee0ce2a39a3f",
   "metadata": {
    "tags": []
   },
   "outputs": [],
   "source": [
    "data = {}\n",
    "for i in range(8):\n",
    "    data[columns[i]]=results[i::8]\n",
    "\n",
    "df = pd.DataFrame(data)"
   ]
  },
  {
   "cell_type": "code",
   "execution_count": 39,
   "id": "9a34715a-8a52-48ea-8cb1-b710b9632c9f",
   "metadata": {
    "tags": []
   },
   "outputs": [
    {
     "data": {
      "text/html": [
       "<div>\n",
       "<style scoped>\n",
       "    .dataframe tbody tr th:only-of-type {\n",
       "        vertical-align: middle;\n",
       "    }\n",
       "\n",
       "    .dataframe tbody tr th {\n",
       "        vertical-align: top;\n",
       "    }\n",
       "\n",
       "    .dataframe thead th {\n",
       "        text-align: right;\n",
       "    }\n",
       "</style>\n",
       "<table border=\"1\" class=\"dataframe\">\n",
       "  <thead>\n",
       "    <tr style=\"text-align: right;\">\n",
       "      <th></th>\n",
       "      <th>Fecha\\nDescuento</th>\n",
       "      <th>Fecha\\nAbono</th>\n",
       "      <th>Emisora</th>\n",
       "      <th>Valor</th>\n",
       "      <th>ISIN Valor</th>\n",
       "      <th>Ejercicio</th>\n",
       "      <th>Tipo</th>\n",
       "      <th>Importe Bruto</th>\n",
       "    </tr>\n",
       "  </thead>\n",
       "  <tbody>\n",
       "    <tr>\n",
       "      <th>0</th>\n",
       "      <td>21/12/2021</td>\n",
       "      <td>23/12/2021</td>\n",
       "      <td>CLINICA BAVIERA, S.A.</td>\n",
       "      <td>CLINICA BAVIERA</td>\n",
       "      <td>ES0119037010</td>\n",
       "      <td>A cuenta 2021</td>\n",
       "      <td>Ord.</td>\n",
       "      <td>(*)</td>\n",
       "    </tr>\n",
       "    <tr>\n",
       "      <th>1</th>\n",
       "      <td>20/12/2021</td>\n",
       "      <td>22/12/2021</td>\n",
       "      <td>VISCOFAN, S.A.</td>\n",
       "      <td>VISCOFAN</td>\n",
       "      <td>ES0184262212</td>\n",
       "      <td>A cuenta 2021</td>\n",
       "      <td>Ord.</td>\n",
       "      <td>(*)</td>\n",
       "    </tr>\n",
       "    <tr>\n",
       "      <th>2</th>\n",
       "      <td>17/12/2021</td>\n",
       "      <td>21/12/2021</td>\n",
       "      <td>ENAGAS, S.A.</td>\n",
       "      <td>ENAGAS</td>\n",
       "      <td>ES0130960018</td>\n",
       "      <td>A cuenta 2021</td>\n",
       "      <td>Ord.</td>\n",
       "      <td>(*)</td>\n",
       "    </tr>\n",
       "    <tr>\n",
       "      <th>3</th>\n",
       "      <td>17/12/2021</td>\n",
       "      <td>29/12/2021</td>\n",
       "      <td>BRADESPAR,S.A.</td>\n",
       "      <td>BRADESPAR ORDINARIAS</td>\n",
       "      <td>BRBRAPACNOR5</td>\n",
       "      <td>A cuenta 2021</td>\n",
       "      <td>Ord.</td>\n",
       "      <td>(*)</td>\n",
       "    </tr>\n",
       "    <tr>\n",
       "      <th>4</th>\n",
       "      <td>17/12/2021</td>\n",
       "      <td>29/12/2021</td>\n",
       "      <td>BRADESPAR,S.A.</td>\n",
       "      <td>BRADESPAR PREFERENTES</td>\n",
       "      <td>BRBRAPACNPR2</td>\n",
       "      <td>A cuenta 2021</td>\n",
       "      <td>Ord.</td>\n",
       "      <td>(*)</td>\n",
       "    </tr>\n",
       "    <tr>\n",
       "      <th>5</th>\n",
       "      <td>14/12/2021</td>\n",
       "      <td>16/12/2021</td>\n",
       "      <td>ATRESMEDIA CORP. DE MEDIOS DE COM. S.A.</td>\n",
       "      <td>ATRESMEDIA CORP. DE MEDIOS DE COM.</td>\n",
       "      <td>ES0109427734</td>\n",
       "      <td>A cuenta 2021</td>\n",
       "      <td>Ord.</td>\n",
       "      <td>(*)</td>\n",
       "    </tr>\n",
       "    <tr>\n",
       "      <th>6</th>\n",
       "      <td>14/12/2021</td>\n",
       "      <td>16/12/2021</td>\n",
       "      <td>PRIM, S.A.</td>\n",
       "      <td>PRIM</td>\n",
       "      <td>ES0170884417</td>\n",
       "      <td>A cuenta 2021</td>\n",
       "      <td>Ord.</td>\n",
       "      <td>(*)</td>\n",
       "    </tr>\n",
       "    <tr>\n",
       "      <th>7</th>\n",
       "      <td>07/12/2021</td>\n",
       "      <td>10/12/2021</td>\n",
       "      <td>HISPANOTELS INVERSIONES SOCIMI, S.A.</td>\n",
       "      <td>HISPANOTELS INVERSIONES</td>\n",
       "      <td>ES0105379004</td>\n",
       "      <td>RESERVAS 2021</td>\n",
       "      <td>Ord.</td>\n",
       "      <td>(*)</td>\n",
       "    </tr>\n",
       "    <tr>\n",
       "      <th>8</th>\n",
       "      <td>30/11/2021</td>\n",
       "      <td>02/12/2021</td>\n",
       "      <td>ALTIA CONSULTORES, S.A.</td>\n",
       "      <td>ALTIA CONSULTORES</td>\n",
       "      <td>ES0113312005</td>\n",
       "      <td>A cuenta 2021</td>\n",
       "      <td>Ord.</td>\n",
       "      <td>(*)</td>\n",
       "    </tr>\n",
       "    <tr>\n",
       "      <th>9</th>\n",
       "      <td>30/11/2021</td>\n",
       "      <td>02/12/2021</td>\n",
       "      <td>WEALTH RENDITE, SICAV, S.A.</td>\n",
       "      <td>WEALTH RENDITE</td>\n",
       "      <td>ES0145837037</td>\n",
       "      <td>RESERVAS 2021</td>\n",
       "      <td>Ord.</td>\n",
       "      <td>(*)</td>\n",
       "    </tr>\n",
       "    <tr>\n",
       "      <th>10</th>\n",
       "      <td>26/11/2021</td>\n",
       "      <td>30/11/2021</td>\n",
       "      <td>MAPFRE, S.A.</td>\n",
       "      <td>MAPFRE, S.A.</td>\n",
       "      <td>ES0124244E34</td>\n",
       "      <td>A cuenta 2021</td>\n",
       "      <td>Ord.</td>\n",
       "      <td>0,0606</td>\n",
       "    </tr>\n",
       "    <tr>\n",
       "      <th>11</th>\n",
       "      <td>26/11/2021</td>\n",
       "      <td>29/11/2021</td>\n",
       "      <td>INVERSIONES DOALCA, SOCIMI, S.A.</td>\n",
       "      <td>INVERSIONES DOALCA</td>\n",
       "      <td>ES0105120002</td>\n",
       "      <td>A cuenta 2021</td>\n",
       "      <td>Ord.</td>\n",
       "      <td>0,2600</td>\n",
       "    </tr>\n",
       "    <tr>\n",
       "      <th>12</th>\n",
       "      <td>24/11/2021</td>\n",
       "      <td>26/11/2021</td>\n",
       "      <td>CASTELLANA PROPERTIES SOCIMI, S.A.</td>\n",
       "      <td>CASTELLANA PROPERTIES</td>\n",
       "      <td>ES0105360004</td>\n",
       "      <td>A cuenta 2021</td>\n",
       "      <td>Ord.</td>\n",
       "      <td>0,0696</td>\n",
       "    </tr>\n",
       "    <tr>\n",
       "      <th>13</th>\n",
       "      <td>23/11/2021</td>\n",
       "      <td>25/11/2021</td>\n",
       "      <td>ARRIENDA RENTAL PROPERTIES SOCIMI,S.A.</td>\n",
       "      <td>ARRIENDA RENTAL</td>\n",
       "      <td>ES0105383006</td>\n",
       "      <td>A cuenta 2021</td>\n",
       "      <td>Ord.</td>\n",
       "      <td>0,0298</td>\n",
       "    </tr>\n",
       "    <tr>\n",
       "      <th>14</th>\n",
       "      <td>22/11/2021</td>\n",
       "      <td>24/11/2021</td>\n",
       "      <td>BEGOINVEST DE INVERSIONES,SICAV,S.A.</td>\n",
       "      <td>BEGOINVEST DE INVERSIONES</td>\n",
       "      <td>ES0114427034</td>\n",
       "      <td>RESERVAS 2021</td>\n",
       "      <td>Ord.</td>\n",
       "      <td>0,3400</td>\n",
       "    </tr>\n",
       "    <tr>\n",
       "      <th>15</th>\n",
       "      <td>19/11/2021</td>\n",
       "      <td>03/12/2021</td>\n",
       "      <td>MERLIN PROPERTIES, SOCIMI, S.A.</td>\n",
       "      <td>MERLIN PROPERTIES</td>\n",
       "      <td>ES0105025003</td>\n",
       "      <td>A cuenta 2021</td>\n",
       "      <td>Ord.</td>\n",
       "      <td>(*)</td>\n",
       "    </tr>\n",
       "    <tr>\n",
       "      <th>16</th>\n",
       "      <td>18/11/2021</td>\n",
       "      <td>06/12/2021</td>\n",
       "      <td>COCA-COLA EUROPACIFIC PARTNERS PLC</td>\n",
       "      <td>COCA-COLA EUROPACIFIC PARTNERS</td>\n",
       "      <td>GB00BDCPN049</td>\n",
       "      <td>A cuenta 2021</td>\n",
       "      <td>Ord.</td>\n",
       "      <td>(*)</td>\n",
       "    </tr>\n",
       "    <tr>\n",
       "      <th>17</th>\n",
       "      <td>12/11/2021</td>\n",
       "      <td>09/12/2021</td>\n",
       "      <td>APERAM, SOCIETE ANONYME</td>\n",
       "      <td>APERAM</td>\n",
       "      <td>LU0569974404</td>\n",
       "      <td>A cuenta 2021</td>\n",
       "      <td>Ord.</td>\n",
       "      <td>(*)</td>\n",
       "    </tr>\n",
       "    <tr>\n",
       "      <th>18</th>\n",
       "      <td>11/11/2021</td>\n",
       "      <td>15/11/2021</td>\n",
       "      <td>RENTA CORPORACION REAL ESTATE, S.A.</td>\n",
       "      <td>RENTA CORPORACION</td>\n",
       "      <td>ES0173365018</td>\n",
       "      <td>A cuenta 2021</td>\n",
       "      <td>Ord.</td>\n",
       "      <td>(*)</td>\n",
       "    </tr>\n",
       "    <tr>\n",
       "      <th>19</th>\n",
       "      <td>11/11/2021</td>\n",
       "      <td>15/11/2021</td>\n",
       "      <td>NATURGY ENERGY GROUP, S.A.</td>\n",
       "      <td>NATURGY ENERGY GROUP</td>\n",
       "      <td>ES0116870314</td>\n",
       "      <td>A cuenta 2021</td>\n",
       "      <td>Ord.</td>\n",
       "      <td>(*)</td>\n",
       "    </tr>\n",
       "    <tr>\n",
       "      <th>20</th>\n",
       "      <td>10/11/2021</td>\n",
       "      <td>12/11/2021</td>\n",
       "      <td>ALANTRA PARTNERS, S.A.</td>\n",
       "      <td>ALANTRA PARTNERS</td>\n",
       "      <td>ES0126501131</td>\n",
       "      <td>A cuenta 2021</td>\n",
       "      <td>Ord.</td>\n",
       "      <td>(*)</td>\n",
       "    </tr>\n",
       "    <tr>\n",
       "      <th>21</th>\n",
       "      <td>09/11/2021</td>\n",
       "      <td>11/11/2021</td>\n",
       "      <td>PREVISION SANITARIA NACIONAL GEST. S.A.</td>\n",
       "      <td>PREVISION SANITARIA NACIONAL</td>\n",
       "      <td>ES0170756037</td>\n",
       "      <td>A cuenta 2021</td>\n",
       "      <td>Ord.</td>\n",
       "      <td>(*)</td>\n",
       "    </tr>\n",
       "    <tr>\n",
       "      <th>22</th>\n",
       "      <td>04/11/2021</td>\n",
       "      <td>08/11/2021</td>\n",
       "      <td>AMERICA MOVIL S,A,B,</td>\n",
       "      <td>AMERICA MOVIL SERIE L</td>\n",
       "      <td>MXP001691213</td>\n",
       "      <td>A cuenta 2021</td>\n",
       "      <td>Ord.</td>\n",
       "      <td>(*)</td>\n",
       "    </tr>\n",
       "    <tr>\n",
       "      <th>23</th>\n",
       "      <td>03/11/2021</td>\n",
       "      <td>19/11/2021</td>\n",
       "      <td>FERROVIAL, S.A.</td>\n",
       "      <td>FERROVIAL</td>\n",
       "      <td>ES0118900010</td>\n",
       "      <td>A cuenta 2021</td>\n",
       "      <td>Div. Op.</td>\n",
       "      <td>(*)</td>\n",
       "    </tr>\n",
       "    <tr>\n",
       "      <th>24</th>\n",
       "      <td>01/11/2021</td>\n",
       "      <td>03/11/2021</td>\n",
       "      <td>FLUIDRA, S.A.</td>\n",
       "      <td>FLUIDRA</td>\n",
       "      <td>ES0137650018</td>\n",
       "      <td>A cuenta 2021</td>\n",
       "      <td>Ord.</td>\n",
       "      <td>(*)</td>\n",
       "    </tr>\n",
       "  </tbody>\n",
       "</table>\n",
       "</div>"
      ],
      "text/plain": [
       "   Fecha\\nDescuento Fecha\\nAbono                                  Emisora  \\\n",
       "0        21/12/2021   23/12/2021                    CLINICA BAVIERA, S.A.   \n",
       "1        20/12/2021   22/12/2021                           VISCOFAN, S.A.   \n",
       "2        17/12/2021   21/12/2021                             ENAGAS, S.A.   \n",
       "3        17/12/2021   29/12/2021                           BRADESPAR,S.A.   \n",
       "4        17/12/2021   29/12/2021                           BRADESPAR,S.A.   \n",
       "5        14/12/2021   16/12/2021  ATRESMEDIA CORP. DE MEDIOS DE COM. S.A.   \n",
       "6        14/12/2021   16/12/2021                               PRIM, S.A.   \n",
       "7        07/12/2021   10/12/2021     HISPANOTELS INVERSIONES SOCIMI, S.A.   \n",
       "8        30/11/2021   02/12/2021                  ALTIA CONSULTORES, S.A.   \n",
       "9        30/11/2021   02/12/2021              WEALTH RENDITE, SICAV, S.A.   \n",
       "10       26/11/2021   30/11/2021                             MAPFRE, S.A.   \n",
       "11       26/11/2021   29/11/2021         INVERSIONES DOALCA, SOCIMI, S.A.   \n",
       "12       24/11/2021   26/11/2021       CASTELLANA PROPERTIES SOCIMI, S.A.   \n",
       "13       23/11/2021   25/11/2021   ARRIENDA RENTAL PROPERTIES SOCIMI,S.A.   \n",
       "14       22/11/2021   24/11/2021     BEGOINVEST DE INVERSIONES,SICAV,S.A.   \n",
       "15       19/11/2021   03/12/2021          MERLIN PROPERTIES, SOCIMI, S.A.   \n",
       "16       18/11/2021   06/12/2021       COCA-COLA EUROPACIFIC PARTNERS PLC   \n",
       "17       12/11/2021   09/12/2021                  APERAM, SOCIETE ANONYME   \n",
       "18       11/11/2021   15/11/2021      RENTA CORPORACION REAL ESTATE, S.A.   \n",
       "19       11/11/2021   15/11/2021               NATURGY ENERGY GROUP, S.A.   \n",
       "20       10/11/2021   12/11/2021                   ALANTRA PARTNERS, S.A.   \n",
       "21       09/11/2021   11/11/2021  PREVISION SANITARIA NACIONAL GEST. S.A.   \n",
       "22       04/11/2021   08/11/2021                     AMERICA MOVIL S,A,B,   \n",
       "23       03/11/2021   19/11/2021                          FERROVIAL, S.A.   \n",
       "24       01/11/2021   03/11/2021                            FLUIDRA, S.A.   \n",
       "\n",
       "                                 Valor    ISIN Valor      Ejercicio      Tipo  \\\n",
       "0                      CLINICA BAVIERA  ES0119037010  A cuenta 2021      Ord.   \n",
       "1                             VISCOFAN  ES0184262212  A cuenta 2021      Ord.   \n",
       "2                               ENAGAS  ES0130960018  A cuenta 2021      Ord.   \n",
       "3                 BRADESPAR ORDINARIAS  BRBRAPACNOR5  A cuenta 2021      Ord.   \n",
       "4                BRADESPAR PREFERENTES  BRBRAPACNPR2  A cuenta 2021      Ord.   \n",
       "5   ATRESMEDIA CORP. DE MEDIOS DE COM.  ES0109427734  A cuenta 2021      Ord.   \n",
       "6                                 PRIM  ES0170884417  A cuenta 2021      Ord.   \n",
       "7              HISPANOTELS INVERSIONES  ES0105379004  RESERVAS 2021      Ord.   \n",
       "8                    ALTIA CONSULTORES  ES0113312005  A cuenta 2021      Ord.   \n",
       "9                       WEALTH RENDITE  ES0145837037  RESERVAS 2021      Ord.   \n",
       "10                        MAPFRE, S.A.  ES0124244E34  A cuenta 2021      Ord.   \n",
       "11                  INVERSIONES DOALCA  ES0105120002  A cuenta 2021      Ord.   \n",
       "12               CASTELLANA PROPERTIES  ES0105360004  A cuenta 2021      Ord.   \n",
       "13                     ARRIENDA RENTAL  ES0105383006  A cuenta 2021      Ord.   \n",
       "14           BEGOINVEST DE INVERSIONES  ES0114427034  RESERVAS 2021      Ord.   \n",
       "15                   MERLIN PROPERTIES  ES0105025003  A cuenta 2021      Ord.   \n",
       "16      COCA-COLA EUROPACIFIC PARTNERS  GB00BDCPN049  A cuenta 2021      Ord.   \n",
       "17                              APERAM  LU0569974404  A cuenta 2021      Ord.   \n",
       "18                   RENTA CORPORACION  ES0173365018  A cuenta 2021      Ord.   \n",
       "19                NATURGY ENERGY GROUP  ES0116870314  A cuenta 2021      Ord.   \n",
       "20                    ALANTRA PARTNERS  ES0126501131  A cuenta 2021      Ord.   \n",
       "21        PREVISION SANITARIA NACIONAL  ES0170756037  A cuenta 2021      Ord.   \n",
       "22               AMERICA MOVIL SERIE L  MXP001691213  A cuenta 2021      Ord.   \n",
       "23                           FERROVIAL  ES0118900010  A cuenta 2021  Div. Op.   \n",
       "24                             FLUIDRA  ES0137650018  A cuenta 2021      Ord.   \n",
       "\n",
       "   Importe Bruto  \n",
       "0            (*)  \n",
       "1            (*)  \n",
       "2            (*)  \n",
       "3            (*)  \n",
       "4            (*)  \n",
       "5            (*)  \n",
       "6            (*)  \n",
       "7            (*)  \n",
       "8            (*)  \n",
       "9            (*)  \n",
       "10        0,0606  \n",
       "11        0,2600  \n",
       "12        0,0696  \n",
       "13        0,0298  \n",
       "14        0,3400  \n",
       "15           (*)  \n",
       "16           (*)  \n",
       "17           (*)  \n",
       "18           (*)  \n",
       "19           (*)  \n",
       "20           (*)  \n",
       "21           (*)  \n",
       "22           (*)  \n",
       "23           (*)  \n",
       "24           (*)  "
      ]
     },
     "execution_count": 39,
     "metadata": {},
     "output_type": "execute_result"
    }
   ],
   "source": [
    "df"
   ]
  },
  {
   "cell_type": "code",
   "execution_count": 40,
   "id": "72b5b374-cfc6-4f27-8c28-541ebca8d40c",
   "metadata": {
    "tags": []
   },
   "outputs": [],
   "source": [
    "df.to_csv('Dividents.csv')\n",
    "browser.close()\n",
    "quit()"
   ]
  },
  {
   "cell_type": "markdown",
   "id": "4c2d03fe-7853-4ad0-bb19-61edb4b2b185",
   "metadata": {},
   "source": [
    "## Level 2"
   ]
  },
  {
   "cell_type": "markdown",
   "id": "a76fc594-fb00-4892-9d8f-ebe61066b467",
   "metadata": {},
   "source": [
    "### Exercise 2"
   ]
  },
  {
   "cell_type": "markdown",
   "id": "9d7d3cc9-4814-4e65-901e-db33d5fe42ff",
   "metadata": {},
   "source": [
    "#### Information about files from Kaggle in word document"
   ]
  },
  {
   "cell_type": "markdown",
   "id": "3cbccdbe-f9bb-4d34-8aa8-8862a17ee099",
   "metadata": {},
   "source": [
    "Decsription of dataset:\n",
    "https://github.com/dominikapetru/web_scraping/blob/main/Description.docx"
   ]
  },
  {
   "cell_type": "markdown",
   "id": "8d239c84-d825-42cb-be15-9bb9ed650ba9",
   "metadata": {},
   "source": [
    "### Dataset Indices Summary from Madrid Stock Exchange"
   ]
  },
  {
   "cell_type": "markdown",
   "id": "67728f81-ef5f-4f08-9281-c8bb6dec5dc4",
   "metadata": {},
   "source": [
    "#### Context"
   ]
  },
  {
   "cell_type": "markdown",
   "id": "bd7c7bcc-313f-435e-8d04-f85764e77f15",
   "metadata": {},
   "source": [
    "The dataset consists of set of price data for indices tracking stock exchanges from Spain. The data was all collected from Madrid Stock Exchange website 17.11.2021 at 9:50AM.\n",
    "\n",
    "Prices are quoted in euros.\n",
    "\n",
    "This dataset was created is a result of webscraping test and is designed to be a playground for pre-processing and technical analysis."
   ]
  },
  {
   "cell_type": "markdown",
   "id": "40753c55-8175-4afc-b8ef-c954e644c496",
   "metadata": {},
   "source": [
    "#### Content"
   ]
  },
  {
   "cell_type": "markdown",
   "id": "eb3c88e2-60c4-47ab-805b-23c4269b5a4e",
   "metadata": {},
   "source": [
    "Indices.csv: prices for indices tracking stock exchanges\n",
    "\n",
    "The categories of this dataset: \n",
    "- Nombre - Name of inex\n",
    "- Anterior - Previous price\n",
    "- Último - Previous price\n",
    "- % Dif. - Difference of prices in %\n",
    "- Máximo - High\n",
    "- Mínimo - Low\n",
    "- Fecha - Date\n",
    "- Hora - Hour\n",
    "- % Dif.Año 2021 - Difference of prices for 2021 in %"
   ]
  },
  {
   "cell_type": "markdown",
   "id": "e64adf70-7e85-4dc4-a7d0-db5a0ff33e71",
   "metadata": {},
   "source": [
    "#### Acknowledgements"
   ]
  },
  {
   "cell_type": "markdown",
   "id": "52ed885a-4ff1-416c-b9e2-7fdb8993154d",
   "metadata": {},
   "source": [
    "- Source: https://www.bolsamadrid.es\n",
    "- Github: https://github.com/dominikapetru/web_scraping"
   ]
  },
  {
   "cell_type": "code",
   "execution_count": 3,
   "id": "034c5805-39b4-48cd-96de-af5f253c2c7b",
   "metadata": {
    "tags": []
   },
   "outputs": [
    {
     "data": {
      "text/html": [
       "<div>\n",
       "<style scoped>\n",
       "    .dataframe tbody tr th:only-of-type {\n",
       "        vertical-align: middle;\n",
       "    }\n",
       "\n",
       "    .dataframe tbody tr th {\n",
       "        vertical-align: top;\n",
       "    }\n",
       "\n",
       "    .dataframe thead th {\n",
       "        text-align: right;\n",
       "    }\n",
       "</style>\n",
       "<table border=\"1\" class=\"dataframe\">\n",
       "  <thead>\n",
       "    <tr style=\"text-align: right;\">\n",
       "      <th></th>\n",
       "      <th>Unnamed: 0</th>\n",
       "      <th>Nombre</th>\n",
       "      <th>Anterior</th>\n",
       "      <th>Último</th>\n",
       "      <th>% Dif.</th>\n",
       "      <th>Máximo</th>\n",
       "      <th>Mínimo</th>\n",
       "      <th>Fecha</th>\n",
       "      <th>Hora</th>\n",
       "      <th>% Dif.Año 2021</th>\n",
       "    </tr>\n",
       "  </thead>\n",
       "  <tbody>\n",
       "    <tr>\n",
       "      <th>0</th>\n",
       "      <td>0</td>\n",
       "      <td>IBEX 35®</td>\n",
       "      <td>8.402,70</td>\n",
       "      <td>8.455,20</td>\n",
       "      <td>0,62</td>\n",
       "      <td>8.562,00</td>\n",
       "      <td>8.431,70</td>\n",
       "      <td>29/11/2021</td>\n",
       "      <td>17:38:00</td>\n",
       "      <td>4,73</td>\n",
       "    </tr>\n",
       "    <tr>\n",
       "      <th>1</th>\n",
       "      <td>1</td>\n",
       "      <td>IBEX 35® con Dividendos</td>\n",
       "      <td>25.846,10</td>\n",
       "      <td>26.007,70</td>\n",
       "      <td>0,63</td>\n",
       "      <td>26.336,20</td>\n",
       "      <td>25.935,40</td>\n",
       "      <td>29/11/2021</td>\n",
       "      <td>17:38:00</td>\n",
       "      <td>7,20</td>\n",
       "    </tr>\n",
       "    <tr>\n",
       "      <th>2</th>\n",
       "      <td>2</td>\n",
       "      <td>IBEX MEDIUM CAP®</td>\n",
       "      <td>12.992,60</td>\n",
       "      <td>13.071,80</td>\n",
       "      <td>0,61</td>\n",
       "      <td>13.183,00</td>\n",
       "      <td>13.029,90</td>\n",
       "      <td>29/11/2021</td>\n",
       "      <td>17:38:00</td>\n",
       "      <td>2,80</td>\n",
       "    </tr>\n",
       "    <tr>\n",
       "      <th>3</th>\n",
       "      <td>3</td>\n",
       "      <td>IBEX SMALL CAP®</td>\n",
       "      <td>7.862,50</td>\n",
       "      <td>7.874,30</td>\n",
       "      <td>0,15</td>\n",
       "      <td>7.966,40</td>\n",
       "      <td>7.866,60</td>\n",
       "      <td>29/11/2021</td>\n",
       "      <td>17:38:00</td>\n",
       "      <td>-2,76</td>\n",
       "    </tr>\n",
       "    <tr>\n",
       "      <th>4</th>\n",
       "      <td>4</td>\n",
       "      <td>IBEX 35® Bancos</td>\n",
       "      <td>435,20</td>\n",
       "      <td>434,30</td>\n",
       "      <td>-0,21</td>\n",
       "      <td>445,90</td>\n",
       "      <td>433,40</td>\n",
       "      <td>29/11/2021</td>\n",
       "      <td>17:38:00</td>\n",
       "      <td>15,47</td>\n",
       "    </tr>\n",
       "  </tbody>\n",
       "</table>\n",
       "</div>"
      ],
      "text/plain": [
       "   Unnamed: 0                   Nombre   Anterior     Último % Dif.  \\\n",
       "0           0                 IBEX 35®   8.402,70   8.455,20   0,62   \n",
       "1           1  IBEX 35® con Dividendos  25.846,10  26.007,70   0,63   \n",
       "2           2         IBEX MEDIUM CAP®  12.992,60  13.071,80   0,61   \n",
       "3           3          IBEX SMALL CAP®   7.862,50   7.874,30   0,15   \n",
       "4           4          IBEX 35® Bancos     435,20     434,30  -0,21   \n",
       "\n",
       "      Máximo     Mínimo       Fecha      Hora % Dif.Año 2021  \n",
       "0   8.562,00   8.431,70  29/11/2021  17:38:00           4,73  \n",
       "1  26.336,20  25.935,40  29/11/2021  17:38:00           7,20  \n",
       "2  13.183,00  13.029,90  29/11/2021  17:38:00           2,80  \n",
       "3   7.966,40   7.866,60  29/11/2021  17:38:00          -2,76  \n",
       "4     445,90     433,40  29/11/2021  17:38:00          15,47  "
      ]
     },
     "execution_count": 3,
     "metadata": {},
     "output_type": "execute_result"
    }
   ],
   "source": [
    "df = pd.read_csv('Indices.csv')\n",
    "df.head(5)"
   ]
  },
  {
   "cell_type": "code",
   "execution_count": 4,
   "id": "ffcd6361-ab52-4957-b3e6-b00c1cc7d32b",
   "metadata": {
    "tags": []
   },
   "outputs": [],
   "source": [
    "df.drop('Unnamed: 0', axis=1, inplace=True)"
   ]
  },
  {
   "cell_type": "code",
   "execution_count": 5,
   "id": "20720ed2-3781-4401-aa9e-2c7e9f53b95f",
   "metadata": {
    "tags": []
   },
   "outputs": [
    {
     "name": "stdout",
     "output_type": "stream",
     "text": [
      "<class 'pandas.core.frame.DataFrame'>\n",
      "RangeIndex: 78 entries, 0 to 77\n",
      "Data columns (total 9 columns):\n",
      " #   Column          Non-Null Count  Dtype \n",
      "---  ------          --------------  ----- \n",
      " 0   Nombre          78 non-null     object\n",
      " 1   Anterior        78 non-null     object\n",
      " 2   Último          78 non-null     object\n",
      " 3   % Dif.          78 non-null     object\n",
      " 4   Máximo          78 non-null     object\n",
      " 5   Mínimo          78 non-null     object\n",
      " 6   Fecha           78 non-null     object\n",
      " 7   Hora            78 non-null     object\n",
      " 8   % Dif.Año 2021  78 non-null     object\n",
      "dtypes: object(9)\n",
      "memory usage: 5.6+ KB\n"
     ]
    }
   ],
   "source": [
    "df.info()"
   ]
  },
  {
   "cell_type": "code",
   "execution_count": 6,
   "id": "084d61e2-d3aa-4011-9f68-831470657071",
   "metadata": {
    "tags": []
   },
   "outputs": [
    {
     "data": {
      "text/html": [
       "<div>\n",
       "<style scoped>\n",
       "    .dataframe tbody tr th:only-of-type {\n",
       "        vertical-align: middle;\n",
       "    }\n",
       "\n",
       "    .dataframe tbody tr th {\n",
       "        vertical-align: top;\n",
       "    }\n",
       "\n",
       "    .dataframe thead th {\n",
       "        text-align: right;\n",
       "    }\n",
       "</style>\n",
       "<table border=\"1\" class=\"dataframe\">\n",
       "  <thead>\n",
       "    <tr style=\"text-align: right;\">\n",
       "      <th></th>\n",
       "      <th>Nombre</th>\n",
       "      <th>Anterior</th>\n",
       "      <th>Último</th>\n",
       "      <th>% Dif.</th>\n",
       "      <th>Máximo</th>\n",
       "      <th>Mínimo</th>\n",
       "      <th>Fecha</th>\n",
       "      <th>Hora</th>\n",
       "      <th>% Dif.Año 2021</th>\n",
       "    </tr>\n",
       "  </thead>\n",
       "  <tbody>\n",
       "    <tr>\n",
       "      <th>0</th>\n",
       "      <td>IBEX 35®</td>\n",
       "      <td>8402.7</td>\n",
       "      <td>8455.2</td>\n",
       "      <td>0.62</td>\n",
       "      <td>8562.0</td>\n",
       "      <td>8431.7</td>\n",
       "      <td>29/11/2021</td>\n",
       "      <td>17:38:00</td>\n",
       "      <td>4.73</td>\n",
       "    </tr>\n",
       "    <tr>\n",
       "      <th>1</th>\n",
       "      <td>IBEX 35® con Dividendos</td>\n",
       "      <td>25846.1</td>\n",
       "      <td>26007.7</td>\n",
       "      <td>0.63</td>\n",
       "      <td>26336.2</td>\n",
       "      <td>25935.4</td>\n",
       "      <td>29/11/2021</td>\n",
       "      <td>17:38:00</td>\n",
       "      <td>7.20</td>\n",
       "    </tr>\n",
       "    <tr>\n",
       "      <th>2</th>\n",
       "      <td>IBEX MEDIUM CAP®</td>\n",
       "      <td>12992.6</td>\n",
       "      <td>13071.8</td>\n",
       "      <td>0.61</td>\n",
       "      <td>13183.0</td>\n",
       "      <td>13029.9</td>\n",
       "      <td>29/11/2021</td>\n",
       "      <td>17:38:00</td>\n",
       "      <td>2.80</td>\n",
       "    </tr>\n",
       "    <tr>\n",
       "      <th>3</th>\n",
       "      <td>IBEX SMALL CAP®</td>\n",
       "      <td>7862.5</td>\n",
       "      <td>7874.3</td>\n",
       "      <td>0.15</td>\n",
       "      <td>7966.4</td>\n",
       "      <td>7866.6</td>\n",
       "      <td>29/11/2021</td>\n",
       "      <td>17:38:00</td>\n",
       "      <td>-2.76</td>\n",
       "    </tr>\n",
       "    <tr>\n",
       "      <th>4</th>\n",
       "      <td>IBEX 35® Bancos</td>\n",
       "      <td>435.2</td>\n",
       "      <td>434.3</td>\n",
       "      <td>-0.21</td>\n",
       "      <td>445.9</td>\n",
       "      <td>433.4</td>\n",
       "      <td>29/11/2021</td>\n",
       "      <td>17:38:00</td>\n",
       "      <td>15.47</td>\n",
       "    </tr>\n",
       "  </tbody>\n",
       "</table>\n",
       "</div>"
      ],
      "text/plain": [
       "                    Nombre  Anterior   Último % Dif.   Máximo   Mínimo  \\\n",
       "0                 IBEX 35®    8402.7   8455.2   0.62   8562.0   8431.7   \n",
       "1  IBEX 35® con Dividendos   25846.1  26007.7   0.63  26336.2  25935.4   \n",
       "2         IBEX MEDIUM CAP®   12992.6  13071.8   0.61  13183.0  13029.9   \n",
       "3          IBEX SMALL CAP®    7862.5   7874.3   0.15   7966.4   7866.6   \n",
       "4          IBEX 35® Bancos     435.2    434.3  -0.21    445.9    433.4   \n",
       "\n",
       "        Fecha      Hora % Dif.Año 2021  \n",
       "0  29/11/2021  17:38:00           4.73  \n",
       "1  29/11/2021  17:38:00           7.20  \n",
       "2  29/11/2021  17:38:00           2.80  \n",
       "3  29/11/2021  17:38:00          -2.76  \n",
       "4  29/11/2021  17:38:00          15.47  "
      ]
     },
     "execution_count": 6,
     "metadata": {},
     "output_type": "execute_result"
    }
   ],
   "source": [
    "df['Anterior'] = df['Anterior'].str.replace('.','').str.replace(',','.').astype(float)\n",
    "df['Último'] = df['Último'].str.replace('.','').str.replace(',','.').astype(float)\n",
    "df['% Dif.'] = df['% Dif.'].str.replace(',','.')\n",
    "df['Máximo'] = df['Máximo'].str.replace('.','').str.replace(',','.').astype(float)\n",
    "df['Mínimo'] = df['Mínimo'].str.replace('.','').str.replace(',','.').astype(float)\n",
    "df['% Dif.Año 2021'] = df['% Dif.Año 2021'].str.replace(',','.')\n",
    "\n",
    "df.head(5)"
   ]
  },
  {
   "cell_type": "code",
   "execution_count": 7,
   "id": "5a340ee2-393f-48d7-9c3a-2442230cc489",
   "metadata": {
    "tags": []
   },
   "outputs": [
    {
     "data": {
      "text/plain": [
       "78"
      ]
     },
     "execution_count": 7,
     "metadata": {},
     "output_type": "execute_result"
    }
   ],
   "source": [
    "list = len(df)\n",
    "list"
   ]
  },
  {
   "cell_type": "code",
   "execution_count": 8,
   "id": "420acb90-d3eb-4e27-a203-5bb348002fbb",
   "metadata": {
    "tags": []
   },
   "outputs": [],
   "source": [
    "#negative values - conversion to float\n",
    "for i in range (list):\n",
    "    df['% Dif.'] = df.at[i,'% Dif.'].replace('\\U00002013', '-')\n",
    "    df['% Dif.Año 2021'] = df.at[i,'% Dif.Año 2021'].replace('\\U00002013', '-')"
   ]
  },
  {
   "cell_type": "code",
   "execution_count": 9,
   "id": "91be4f3f-7e44-4bda-b9c1-8cc1ce648cbd",
   "metadata": {
    "tags": []
   },
   "outputs": [
    {
     "data": {
      "text/html": [
       "<div>\n",
       "<style scoped>\n",
       "    .dataframe tbody tr th:only-of-type {\n",
       "        vertical-align: middle;\n",
       "    }\n",
       "\n",
       "    .dataframe tbody tr th {\n",
       "        vertical-align: top;\n",
       "    }\n",
       "\n",
       "    .dataframe thead th {\n",
       "        text-align: right;\n",
       "    }\n",
       "</style>\n",
       "<table border=\"1\" class=\"dataframe\">\n",
       "  <thead>\n",
       "    <tr style=\"text-align: right;\">\n",
       "      <th></th>\n",
       "      <th>Nombre</th>\n",
       "      <th>Anterior</th>\n",
       "      <th>Último</th>\n",
       "      <th>% Dif.</th>\n",
       "      <th>Máximo</th>\n",
       "      <th>Mínimo</th>\n",
       "      <th>Fecha</th>\n",
       "      <th>Hora</th>\n",
       "      <th>% Dif.Año 2021</th>\n",
       "    </tr>\n",
       "  </thead>\n",
       "  <tbody>\n",
       "    <tr>\n",
       "      <th>0</th>\n",
       "      <td>IBEX 35®</td>\n",
       "      <td>8402.7</td>\n",
       "      <td>8455.2</td>\n",
       "      <td>0.62</td>\n",
       "      <td>8562.0</td>\n",
       "      <td>8431.7</td>\n",
       "      <td>29/11/2021</td>\n",
       "      <td>17:38:00</td>\n",
       "      <td>4.73</td>\n",
       "    </tr>\n",
       "    <tr>\n",
       "      <th>1</th>\n",
       "      <td>IBEX 35® con Dividendos</td>\n",
       "      <td>25846.1</td>\n",
       "      <td>26007.7</td>\n",
       "      <td>0.62</td>\n",
       "      <td>26336.2</td>\n",
       "      <td>25935.4</td>\n",
       "      <td>29/11/2021</td>\n",
       "      <td>17:38:00</td>\n",
       "      <td>4.73</td>\n",
       "    </tr>\n",
       "    <tr>\n",
       "      <th>2</th>\n",
       "      <td>IBEX MEDIUM CAP®</td>\n",
       "      <td>12992.6</td>\n",
       "      <td>13071.8</td>\n",
       "      <td>0.62</td>\n",
       "      <td>13183.0</td>\n",
       "      <td>13029.9</td>\n",
       "      <td>29/11/2021</td>\n",
       "      <td>17:38:00</td>\n",
       "      <td>4.73</td>\n",
       "    </tr>\n",
       "    <tr>\n",
       "      <th>3</th>\n",
       "      <td>IBEX SMALL CAP®</td>\n",
       "      <td>7862.5</td>\n",
       "      <td>7874.3</td>\n",
       "      <td>0.62</td>\n",
       "      <td>7966.4</td>\n",
       "      <td>7866.6</td>\n",
       "      <td>29/11/2021</td>\n",
       "      <td>17:38:00</td>\n",
       "      <td>4.73</td>\n",
       "    </tr>\n",
       "    <tr>\n",
       "      <th>4</th>\n",
       "      <td>IBEX 35® Bancos</td>\n",
       "      <td>435.2</td>\n",
       "      <td>434.3</td>\n",
       "      <td>0.62</td>\n",
       "      <td>445.9</td>\n",
       "      <td>433.4</td>\n",
       "      <td>29/11/2021</td>\n",
       "      <td>17:38:00</td>\n",
       "      <td>4.73</td>\n",
       "    </tr>\n",
       "  </tbody>\n",
       "</table>\n",
       "</div>"
      ],
      "text/plain": [
       "                    Nombre  Anterior   Último % Dif.   Máximo   Mínimo  \\\n",
       "0                 IBEX 35®    8402.7   8455.2   0.62   8562.0   8431.7   \n",
       "1  IBEX 35® con Dividendos   25846.1  26007.7   0.62  26336.2  25935.4   \n",
       "2         IBEX MEDIUM CAP®   12992.6  13071.8   0.62  13183.0  13029.9   \n",
       "3          IBEX SMALL CAP®    7862.5   7874.3   0.62   7966.4   7866.6   \n",
       "4          IBEX 35® Bancos     435.2    434.3   0.62    445.9    433.4   \n",
       "\n",
       "        Fecha      Hora % Dif.Año 2021  \n",
       "0  29/11/2021  17:38:00           4.73  \n",
       "1  29/11/2021  17:38:00           4.73  \n",
       "2  29/11/2021  17:38:00           4.73  \n",
       "3  29/11/2021  17:38:00           4.73  \n",
       "4  29/11/2021  17:38:00           4.73  "
      ]
     },
     "execution_count": 9,
     "metadata": {},
     "output_type": "execute_result"
    }
   ],
   "source": [
    "df['% Dif.'].astype(float)\n",
    "df['% Dif.Año 2021'].astype(float)\n",
    "\n",
    "df.head(5)"
   ]
  },
  {
   "cell_type": "markdown",
   "id": "03bac32d-9289-49df-b2f3-670918f74c79",
   "metadata": {},
   "source": [
    "Clean dataset ready for data analysis."
   ]
  },
  {
   "cell_type": "code",
   "execution_count": 9,
   "id": "93adcb69-4794-4900-a0ca-4e7dc353b212",
   "metadata": {
    "tags": []
   },
   "outputs": [
    {
     "name": "stdout",
     "output_type": "stream",
     "text": [
      "<class 'pandas.core.frame.DataFrame'>\n",
      "RangeIndex: 78 entries, 0 to 77\n",
      "Data columns (total 9 columns):\n",
      " #   Column          Non-Null Count  Dtype  \n",
      "---  ------          --------------  -----  \n",
      " 0   Nombre          78 non-null     object \n",
      " 1   Anterior        78 non-null     float64\n",
      " 2   Último          78 non-null     float64\n",
      " 3   % Dif.          78 non-null     object \n",
      " 4   Máximo          78 non-null     float64\n",
      " 5   Mínimo          78 non-null     float64\n",
      " 6   Fecha           78 non-null     object \n",
      " 7   Hora            78 non-null     object \n",
      " 8   % Dif.Año 2021  78 non-null     object \n",
      "dtypes: float64(4), object(5)\n",
      "memory usage: 5.6+ KB\n"
     ]
    }
   ],
   "source": [
    "df.info()"
   ]
  }
 ],
 "metadata": {
  "kernelspec": {
   "display_name": "Python 3",
   "language": "python",
   "name": "python3"
  },
  "language_info": {
   "codemirror_mode": {
    "name": "ipython",
    "version": 3
   },
   "file_extension": ".py",
   "mimetype": "text/x-python",
   "name": "python",
   "nbconvert_exporter": "python",
   "pygments_lexer": "ipython3",
   "version": "3.8.8"
  }
 },
 "nbformat": 4,
 "nbformat_minor": 5
}
