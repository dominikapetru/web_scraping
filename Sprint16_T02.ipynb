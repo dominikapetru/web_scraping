{
 "cells": [
  {
   "cell_type": "markdown",
   "id": "414e104b-1345-4805-89a8-dab311efc516",
   "metadata": {},
   "source": [
    "# Sprint 16: Web scraping"
   ]
  },
  {
   "cell_type": "markdown",
   "id": "864bcbd7-46dd-41e1-8579-cd6f750b9a7b",
   "metadata": {},
   "source": [
    "#### Imports"
   ]
  },
  {
   "cell_type": "code",
   "execution_count": 1,
   "id": "c37adc69-9ccf-4ed0-8215-f3b3ed1d0073",
   "metadata": {
    "tags": []
   },
   "outputs": [],
   "source": [
    "import requests\n",
    "import numpy as np\n",
    "from bs4 import BeautifulSoup\n",
    "import pandas as pd\n",
    "import seaborn as sns\n",
    "import matplotlib.pyplot as plt\n",
    "\n",
    "import warnings\n",
    "warnings.filterwarnings('ignore')"
   ]
  },
  {
   "cell_type": "markdown",
   "id": "77598dbd-06a3-470b-b4b4-a10776826136",
   "metadata": {},
   "source": [
    "## Level 1"
   ]
  },
  {
   "cell_type": "markdown",
   "id": "e732d4fe-7cf0-4bd2-b77d-f3949b1a3aac",
   "metadata": {},
   "source": [
    "### Exercise 1"
   ]
  },
  {
   "cell_type": "markdown",
   "id": "bdf8013f-b44c-4787-9f82-ed3996d5eac6",
   "metadata": {},
   "source": [
    "#### Web scraping of the Madrid stock exchange with BeautifulSoup and Selenium"
   ]
  },
  {
   "cell_type": "markdown",
   "id": "294b181f-4f66-4768-b025-2fd0e87788ed",
   "metadata": {},
   "source": [
    "### BeautifulSoup"
   ]
  },
  {
   "cell_type": "markdown",
   "id": "10b1359f-af27-4e73-9f62-b822343788eb",
   "metadata": {},
   "source": [
    "Tool for pulling out information from a webpage. Extracting tables, lists, paragraphs from single url. Perfect for small projects."
   ]
  },
  {
   "cell_type": "code",
   "execution_count": 2,
   "id": "6d42644a-23ad-41f4-9b45-671ab7172943",
   "metadata": {
    "scrolled": true,
    "tags": []
   },
   "outputs": [],
   "source": [
    "#scrape html content\n",
    "url = \"https://www.bolsamadrid.es\"\n",
    "page = requests.get(url)"
   ]
  },
  {
   "cell_type": "markdown",
   "id": "25f29195-702b-479c-ade2-3b62ec2df7ba",
   "metadata": {},
   "source": [
    "##### Playing around with BeautifulSoup"
   ]
  },
  {
   "cell_type": "code",
   "execution_count": 3,
   "id": "abb04e05-2348-40a7-8a0d-1888e81286c3",
   "metadata": {
    "tags": []
   },
   "outputs": [],
   "source": [
    "#parse html code with beautiful soup\n",
    "soup = BeautifulSoup(page.content, \"html.parser\")\n",
    "#print(soup.text)"
   ]
  },
  {
   "cell_type": "code",
   "execution_count": 4,
   "id": "720671b5-171d-4862-ae8b-a1a3769cc64a",
   "metadata": {
    "scrolled": true,
    "tags": []
   },
   "outputs": [],
   "source": [
    "#find elements by ID\n",
    "results = soup.find(id=\"PortBolsa\")\n",
    "#print(soup.prettify)"
   ]
  },
  {
   "cell_type": "code",
   "execution_count": 5,
   "id": "d8eeb647-de68-4677-b521-6133c0388b9a",
   "metadata": {
    "scrolled": true,
    "tags": []
   },
   "outputs": [
    {
     "name": "stdout",
     "output_type": "stream",
     "text": [
      "<div class=\"coln1\"><div class=\"CuadroSlides\" style=\"width:250px;height:180px;\"><div class=\"mclick\" data-labelga=\"imagen Inauguración Foro Latibex 2021 23-11-2021\" data-slidetiempo=\"20000\" data-valuega=\"1\"><a href=\"https://www.bolsasymercados.es/esp/Sala-Comunicacion/Nota-Prensa/20211122/nota_20211122_1/Javier_Hernani_y_Thomas_Zeeb_destacan_el_papel_de_la_Bolsa_como_punto_de_encuentro_con_America_Latina\" target=\"_blank\"><div align=\"center\"><img border=\"0\" src=\"/aspx/Imagen.ashx?num=6040\"/></div></a></div><div class=\"mclick\" data-labelga=\"vídeo TC Día Edu. Financiera BM 04/10/2021\" data-slidetiempo=\"20000\" data-valuega=\"1\" style=\"display:none;\"><a href=\"https://youtu.be/lzIVRMtoJQg\" target=\"_blank\"><div align=\"center\"><img border=\"0\" src=\"/aspx/Imagen.ashx?num=6019\"/></div></a></div><div class=\"mclick\" data-labelga=\"img Pro\" data-slidetiempo=\"15000\" data-valuega=\"1\" style=\"display:none;\"><a href=\"https://www.bolsasymercados.es/esp/Estudios-Publicaciones/Documento/5479_La_inversi%C3%B3n_de_las_familias_en_la_Bolsa_espa%C3%B1ola_sube_hasta_el_17_1__tras_cinco_a%C3%B1os_de_descensos\" target=\"_blank\"><div align=\"center\"><img border=\"0\" src=\"/aspx/Imagen.ashx?num=5988\"/></div></a></div><div class=\"mclick\" data-labelga=\"video home TC Squirrel BM 30oct2021\" data-slidetiempo=\"25000\" data-valuega=\"1\" style=\"display:none;\"><a href=\"https://www.youtube.com/watch?v=_dEHbVVm3hw\" target=\"_blank\"><div align=\"center\"><img border=\"0\" src=\"/aspx/Imagen.ashx?num=6017\"/></div></a></div><div class=\"mclick\" data-slidetiempo=\"15000\" style=\"display:none;\"><a href=\"https://paisajedelaluz.es/\" target=\"_blank\"><div align=\"center\"><img border=\"0\" src=\"/aspx/Imagen.ashx?num=5987\"/></div></a></div><div class=\"mclick\" data-labelga=\"Visita virttal 28/12/2020 (imagen)\" data-slidetiempo=\"15000\" data-valuega=\"1\" style=\"display:none;\"><a href=\"https://www.bolsamadrid.es/esp/BMadrid/Palacio/VisitaVirtual.aspx\" target=\"_self\"><div align=\"center\"><img border=\"0\" src=\"/aspx/Imagen.ashx?num=5796\"/></div></a></div><div class=\"mclick\" data-labelga=\"IMAgen home WBM Empresas mas atractivas-27/01/2021\" data-slidetiempo=\"25000\" data-valuega=\"1\" style=\"display:none;\"><a href=\"https://www.bolsasymercados.es/esp/Estudios-Publicaciones/Documento/5416__C%C3%B3mo_hacer_las_bolsas_m%C3%A1s_atractivas_para_las_empresas_\" target=\"_blank\"><div align=\"center\"><img border=\"0\" src=\"/aspx/Imagen.ashx?num=5861\"/></div></a></div><div class=\"mclick\" data-slidetiempo=\"60000\" style=\"display:none;\"><a href=\"https://www.youtube.com/watch?v=hy0X1t53zWQ\" target=\"_blank\"><div align=\"center\"><img border=\"0\" src=\"/aspx/Imagen.ashx?num=5078\"/></div></a></div><div class=\"mclick\" data-labelga=\"imagen artículo  índices\" data-slidetiempo=\"30000\" data-valuega=\"1\" style=\"display:none;\"><a href=\"javascript:sacaVentana('https://www.bolsasymercados.es/esp/Sala-Comunicacion/Documento-Interes/20200505/Art%C3%ADculo_Indices_Crisis%5b6%5d.pdf/Los_indices_bursatiles_como_referencia_en_tiempos_de_crisis')\" target=\"_self\"><div align=\"center\"><img border=\"0\" src=\"/aspx/Imagen.ashx?num=5577\"/></div></a></div></div>\n",
      "<div class=\"CuadroSlides\" style=\"width:250px;height:105px;\"><div class=\"mclick\" data-labelga=\"NP Inauguración ForoLatibex 2021 23-11-2021\" data-slidetiempo=\"20000\" data-valuega=\"1\"><a href=\"https://www.bolsasymercados.es/esp/Sala-Comunicacion/Nota-Prensa/20211122/nota_20211122_1/Javier_Hernani_y_Thomas_Zeeb_destacan_el_papel_de_la_Bolsa_como_punto_de_encuentro_con_America_Latina\" target=\"_blank\"><div style=\"font-size: 12px; color: #00325D; font-weight: bold; text-align: Left; margin: 0px 0px 7px 0px\">Inauguración del Foro Latibex 2021</div><div style=\"font-size: 12px; color: #666666; font-weight: normal; text-align: Left; margin: 0px 0px 0px 0px\">Javier Hernani, CEO de BME, y Thomas Zeeb, Global Head of Exhanges de SIX, han protagonizado el acto de apertura de la 23º edición del Foro Latibex. +Info</div></a></div><div class=\"mclick\" data-labelga=\"NP TC Día Edu. Financiera BM 04/10/2021\" data-slidetiempo=\"20000\" data-valuega=\"1\" style=\"display:none;\"><a href='javascript:NotaPrensa(\"esp\",\"notas\",\"20211004\",\"nota_20211004_1\")' target=\"_self\"><div style=\"font-size: 12px; color: #00325D; font-weight: bold; text-align: Left; margin: 0px 0px 7px 0px\">Toque de Campana por la Educación Financiera</div><div style=\"font-size: 12px; color: #666666; font-weight: normal; text-align: Left; margin: 0px 0px 0px 0px\">El 4 de octubre se ha celebrado un Toque de Campana conmemorativo con motivo del  Día de la Educación Financiera. El evento se enmarca en la iniciativa Ring the Bell for Financial Literacy. &gt; Seguir leyendo</div></a></div><div class=\"mclick\" data-labelga=\"Inf Propiedad Acciones web BOlsaMadrid 2021\" data-slidetiempo=\"15000\" data-valuega=\"1\" style=\"display:none;\"><a href=\"https://www.bolsasymercados.es/esp/Estudios-Publicaciones/Documento/5479_La_inversi%C3%B3n_de_las_familias_en_la_Bolsa_espa%C3%B1ola_sube_hasta_el_17_1__tras_cinco_a%C3%B1os_de_descensos\" target=\"_blank\"><div style=\"font-size: 12px; color: #00325D; font-weight: bold; text-align: Left; margin: 0px 0px 7px 0px\">Informe anual sobre la propiedad de las acciones cotizadas</div><div style=\"font-size: 12px; color: #666666; font-weight: normal; text-align: Left; margin: 0px 0px 0px 0px\">En un año 2020 marcado por el Covid-19,\n",
      "la inversión de las familias en la bolsa española subió hasta el 17,1% tras cinco años de descensos. &gt; Leer informe \n",
      "</div></a></div><div class=\"mclick\" data-labelga=\"Texto home TCSquirrel BM 30oct2021\" data-slidetiempo=\"25000\" data-valuega=\"1\" style=\"display:none;\"><a href=\"https://www.bolsamadrid.es/esp/aspx/Empresas/FichaValor.aspx?ISIN=ES0183304080&amp;ClvEmis=83304\" target=\"_self\"><div style=\"font-size: 12px; color: #00325D; font-weight: bold; text-align: Left; margin: 0px 0px 7px 0px\">Toque de campana de Squirrel Media</div><div style=\"font-size: 12px; color: #666666; font-weight: normal; text-align: Left; margin: 0px 0px 0px 0px\">Pablo Pereiro Lage, Presidente y Consejero Delegado, ha protagonizado la tradicional apertura de honor con motivo del  cambio de denominación de Vértice 360º, que desde el 30 de octubre pasa a ser Squirrel Media (SQRL). +Info</div></a></div><div class=\"mclick\" data-labelga=\"pasaje de la luz -home Rv\" data-slidetiempo=\"15000\" data-valuega=\"1\" style=\"display:none;\"><a href=\"https://paisajedelaluz.es/candidatura.html\" target=\"_blank\"><div style=\"font-size: 12px; color: #00325D; font-weight: bold; text-align: Left; margin: 0px 0px 7px 0px\">La Bolsa de Madrid, Patrimonio Mundial</div><div style=\"font-size: 12px; color: #666666; font-weight: normal; text-align: Left; margin: 0px 0px 0px 0px\">La Unesco ha declarado como Patrimonio Mundial el eje Paseo del Prado y Parque del Retiro, donde se sitúa el Palacio de la Bolsa de Madrid, sede de BME. + Info\n",
      "</div></a></div><div class=\"mclick\" data-labelga=\"Visita virtual (texto)\" data-slidetiempo=\"15000\" data-valuega=\"1\" style=\"display:none;\"><a href=\"https://www.bolsamadrid.es/esp/BMadrid/Palacio/VisitaVirtual.aspx\" target=\"_self\"><div style=\"font-size: 12px; color: #00325D; font-weight: bold; text-align: Left; margin: 0px 0px 7px 0px\">Visita Virtual al Palacio de la Bolsa</div><div style=\"font-size: 12px; color: #666666; font-weight: normal; text-align: Left; margin: 0px 0px 0px 0px\">Disfruta una experiencia interactiva en la que podrás recorrer las diferentes salas con acceso a puntos de información detallada e imágenes panorámicas 360 para disfrutar de este magnífico edificio y conocer su apasionante historia.</div></a></div><div class=\"mclick\" data-labelga=\"Texto banner Art EMpresas Atrctivas\" data-slidetiempo=\"25000\" data-valuega=\"1\" style=\"display:none;\"><a href=\"https://www.bolsasymercados.es/esp/Estudios-Publicaciones/Documento/5416__C%C3%B3mo_hacer_las_bolsas_m%C3%A1s_atractivas_para_las_empresas_\" target=\"_blank\"><div style=\"font-size: 12px; color: #00325D; font-weight: bold; text-align: Left; margin: 0px 0px 7px 0px\">Cómo hacer las bolsas más atractivas para las empresas </div><div style=\"font-size: 12px; color: #666666; font-weight: normal; text-align: Left; margin: 0px 0px 0px 0px\">Este articulo analiza el descenso del número de empresas cotizadas y recopila una serie de propuestas que podrían ayudar a cambiar la tendencia y reactivar la salida a cotización bursátil en los mercados de valores. </div></a></div><div class=\"mclick\" data-slidetiempo=\"60000\" style=\"display:none;\"><a href=\"https://www.youtube.com/watch?v=hy0X1t53zWQ\" target=\"_self\"><div style=\"font-size: 12px; color: #00325D; font-weight: bold; text-align: Left; margin: 0px 0px 7px 0px\">La importancia de cotizar en Bolsa</div><div style=\"font-size: 12px; color: #666666; font-weight: normal; text-align: Left; margin: 0px 0px 0px 0px\">¿Con qué objetivo entra una compañía al mercado bursátil? ¿Qué ventajas tiene por ser cotizada? Laura Sacristán y Francisco Formariz, de la Oficina Comercial de BME,  explican las ventajas de cotizar en Bolsa.</div></a></div><div class=\"mclick\" data-labelga=\"Articulo indices 5 mayo 2020\" data-slidetiempo=\"30000\" data-valuega=\"1\" style=\"display:none;\"><a href=\"javascript:sacaVentana('https://www.bolsasymercados.es/esp/Sala-Comunicacion/Documento-Interes/20200505/Art%C3%ADculo_Indices_Crisis%5b6%5d.pdf/Los_indices_bursatiles_como_referencia_en_tiempos_de_crisis')\" target=\"_self\"><div style=\"font-size: 12px; color: #00325D; font-weight: bold; text-align: Left; margin: 0px 0px 7px 0px\">Los índices bursátiles como referencia en tiempos de crisis</div><div style=\"font-size: 12px; color: #666666; font-weight: normal; text-align: Left; margin: 0px 0px 0px 0px\">Carmen López, responsable de Índices de BME, analiza en este artículo la importancia de los índices como referencia de los mercados financieros, especialmente en tiempos de incertidumbre. &gt; Seguir leyendo</div></a></div></div>\n",
      "</div>\n",
      "\n"
     ]
    }
   ],
   "source": [
    "#find elements by class\n",
    "column = results.find_all(\"div\", class_=\"coln1\")\n",
    "for coln1 in column:\n",
    "    print(coln1, end=\"\\n\"*2)"
   ]
  },
  {
   "cell_type": "code",
   "execution_count": 6,
   "id": "7130e347-9269-453e-b904-11b70e8bab1a",
   "metadata": {
    "scrolled": true,
    "tags": []
   },
   "outputs": [
    {
     "name": "stdout",
     "output_type": "stream",
     "text": [
      "[<div class=\"mclick\" data-labelga=\"imagen Inauguración Foro Latibex 2021 23-11-2021\" data-slidetiempo=\"20000\" data-valuega=\"1\"><a href=\"https://www.bolsasymercados.es/esp/Sala-Comunicacion/Nota-Prensa/20211122/nota_20211122_1/Javier_Hernani_y_Thomas_Zeeb_destacan_el_papel_de_la_Bolsa_como_punto_de_encuentro_con_America_Latina\" target=\"_blank\"><div align=\"center\"><img border=\"0\" src=\"/aspx/Imagen.ashx?num=6040\"/></div></a></div>, <div class=\"mclick\" data-labelga=\"vídeo TC Día Edu. Financiera BM 04/10/2021\" data-slidetiempo=\"20000\" data-valuega=\"1\" style=\"display:none;\"><a href=\"https://youtu.be/lzIVRMtoJQg\" target=\"_blank\"><div align=\"center\"><img border=\"0\" src=\"/aspx/Imagen.ashx?num=6019\"/></div></a></div>, <div class=\"mclick\" data-labelga=\"img Pro\" data-slidetiempo=\"15000\" data-valuega=\"1\" style=\"display:none;\"><a href=\"https://www.bolsasymercados.es/esp/Estudios-Publicaciones/Documento/5479_La_inversi%C3%B3n_de_las_familias_en_la_Bolsa_espa%C3%B1ola_sube_hasta_el_17_1__tras_cinco_a%C3%B1os_de_descensos\" target=\"_blank\"><div align=\"center\"><img border=\"0\" src=\"/aspx/Imagen.ashx?num=5988\"/></div></a></div>, <div class=\"mclick\" data-labelga=\"video home TC Squirrel BM 30oct2021\" data-slidetiempo=\"25000\" data-valuega=\"1\" style=\"display:none;\"><a href=\"https://www.youtube.com/watch?v=_dEHbVVm3hw\" target=\"_blank\"><div align=\"center\"><img border=\"0\" src=\"/aspx/Imagen.ashx?num=6017\"/></div></a></div>, <div class=\"mclick\" data-slidetiempo=\"15000\" style=\"display:none;\"><a href=\"https://paisajedelaluz.es/\" target=\"_blank\"><div align=\"center\"><img border=\"0\" src=\"/aspx/Imagen.ashx?num=5987\"/></div></a></div>, <div class=\"mclick\" data-labelga=\"Visita virttal 28/12/2020 (imagen)\" data-slidetiempo=\"15000\" data-valuega=\"1\" style=\"display:none;\"><a href=\"https://www.bolsamadrid.es/esp/BMadrid/Palacio/VisitaVirtual.aspx\" target=\"_self\"><div align=\"center\"><img border=\"0\" src=\"/aspx/Imagen.ashx?num=5796\"/></div></a></div>, <div class=\"mclick\" data-labelga=\"IMAgen home WBM Empresas mas atractivas-27/01/2021\" data-slidetiempo=\"25000\" data-valuega=\"1\" style=\"display:none;\"><a href=\"https://www.bolsasymercados.es/esp/Estudios-Publicaciones/Documento/5416__C%C3%B3mo_hacer_las_bolsas_m%C3%A1s_atractivas_para_las_empresas_\" target=\"_blank\"><div align=\"center\"><img border=\"0\" src=\"/aspx/Imagen.ashx?num=5861\"/></div></a></div>, <div class=\"mclick\" data-slidetiempo=\"60000\" style=\"display:none;\"><a href=\"https://www.youtube.com/watch?v=hy0X1t53zWQ\" target=\"_blank\"><div align=\"center\"><img border=\"0\" src=\"/aspx/Imagen.ashx?num=5078\"/></div></a></div>, <div class=\"mclick\" data-labelga=\"imagen artículo  índices\" data-slidetiempo=\"30000\" data-valuega=\"1\" style=\"display:none;\"><a href=\"javascript:sacaVentana('https://www.bolsasymercados.es/esp/Sala-Comunicacion/Documento-Interes/20200505/Art%C3%ADculo_Indices_Crisis%5b6%5d.pdf/Los_indices_bursatiles_como_referencia_en_tiempos_de_crisis')\" target=\"_self\"><div align=\"center\"><img border=\"0\" src=\"/aspx/Imagen.ashx?num=5577\"/></div></a></div>, <div class=\"mclick\" data-labelga=\"NP Inauguración ForoLatibex 2021 23-11-2021\" data-slidetiempo=\"20000\" data-valuega=\"1\"><a href=\"https://www.bolsasymercados.es/esp/Sala-Comunicacion/Nota-Prensa/20211122/nota_20211122_1/Javier_Hernani_y_Thomas_Zeeb_destacan_el_papel_de_la_Bolsa_como_punto_de_encuentro_con_America_Latina\" target=\"_blank\"><div style=\"font-size: 12px; color: #00325D; font-weight: bold; text-align: Left; margin: 0px 0px 7px 0px\">Inauguración del Foro Latibex 2021</div><div style=\"font-size: 12px; color: #666666; font-weight: normal; text-align: Left; margin: 0px 0px 0px 0px\">Javier Hernani, CEO de BME, y Thomas Zeeb, Global Head of Exhanges de SIX, han protagonizado el acto de apertura de la 23º edición del Foro Latibex. +Info</div></a></div>, <div class=\"mclick\" data-labelga=\"NP TC Día Edu. Financiera BM 04/10/2021\" data-slidetiempo=\"20000\" data-valuega=\"1\" style=\"display:none;\"><a href='javascript:NotaPrensa(\"esp\",\"notas\",\"20211004\",\"nota_20211004_1\")' target=\"_self\"><div style=\"font-size: 12px; color: #00325D; font-weight: bold; text-align: Left; margin: 0px 0px 7px 0px\">Toque de Campana por la Educación Financiera</div><div style=\"font-size: 12px; color: #666666; font-weight: normal; text-align: Left; margin: 0px 0px 0px 0px\">El 4 de octubre se ha celebrado un Toque de Campana conmemorativo con motivo del  Día de la Educación Financiera. El evento se enmarca en la iniciativa Ring the Bell for Financial Literacy. &gt; Seguir leyendo</div></a></div>, <div class=\"mclick\" data-labelga=\"Inf Propiedad Acciones web BOlsaMadrid 2021\" data-slidetiempo=\"15000\" data-valuega=\"1\" style=\"display:none;\"><a href=\"https://www.bolsasymercados.es/esp/Estudios-Publicaciones/Documento/5479_La_inversi%C3%B3n_de_las_familias_en_la_Bolsa_espa%C3%B1ola_sube_hasta_el_17_1__tras_cinco_a%C3%B1os_de_descensos\" target=\"_blank\"><div style=\"font-size: 12px; color: #00325D; font-weight: bold; text-align: Left; margin: 0px 0px 7px 0px\">Informe anual sobre la propiedad de las acciones cotizadas</div><div style=\"font-size: 12px; color: #666666; font-weight: normal; text-align: Left; margin: 0px 0px 0px 0px\">En un año 2020 marcado por el Covid-19,\n",
      "la inversión de las familias en la bolsa española subió hasta el 17,1% tras cinco años de descensos. &gt; Leer informe \n",
      "</div></a></div>, <div class=\"mclick\" data-labelga=\"Texto home TCSquirrel BM 30oct2021\" data-slidetiempo=\"25000\" data-valuega=\"1\" style=\"display:none;\"><a href=\"https://www.bolsamadrid.es/esp/aspx/Empresas/FichaValor.aspx?ISIN=ES0183304080&amp;ClvEmis=83304\" target=\"_self\"><div style=\"font-size: 12px; color: #00325D; font-weight: bold; text-align: Left; margin: 0px 0px 7px 0px\">Toque de campana de Squirrel Media</div><div style=\"font-size: 12px; color: #666666; font-weight: normal; text-align: Left; margin: 0px 0px 0px 0px\">Pablo Pereiro Lage, Presidente y Consejero Delegado, ha protagonizado la tradicional apertura de honor con motivo del  cambio de denominación de Vértice 360º, que desde el 30 de octubre pasa a ser Squirrel Media (SQRL). +Info</div></a></div>, <div class=\"mclick\" data-labelga=\"pasaje de la luz -home Rv\" data-slidetiempo=\"15000\" data-valuega=\"1\" style=\"display:none;\"><a href=\"https://paisajedelaluz.es/candidatura.html\" target=\"_blank\"><div style=\"font-size: 12px; color: #00325D; font-weight: bold; text-align: Left; margin: 0px 0px 7px 0px\">La Bolsa de Madrid, Patrimonio Mundial</div><div style=\"font-size: 12px; color: #666666; font-weight: normal; text-align: Left; margin: 0px 0px 0px 0px\">La Unesco ha declarado como Patrimonio Mundial el eje Paseo del Prado y Parque del Retiro, donde se sitúa el Palacio de la Bolsa de Madrid, sede de BME. + Info\n",
      "</div></a></div>, <div class=\"mclick\" data-labelga=\"Visita virtual (texto)\" data-slidetiempo=\"15000\" data-valuega=\"1\" style=\"display:none;\"><a href=\"https://www.bolsamadrid.es/esp/BMadrid/Palacio/VisitaVirtual.aspx\" target=\"_self\"><div style=\"font-size: 12px; color: #00325D; font-weight: bold; text-align: Left; margin: 0px 0px 7px 0px\">Visita Virtual al Palacio de la Bolsa</div><div style=\"font-size: 12px; color: #666666; font-weight: normal; text-align: Left; margin: 0px 0px 0px 0px\">Disfruta una experiencia interactiva en la que podrás recorrer las diferentes salas con acceso a puntos de información detallada e imágenes panorámicas 360 para disfrutar de este magnífico edificio y conocer su apasionante historia.</div></a></div>, <div class=\"mclick\" data-labelga=\"Texto banner Art EMpresas Atrctivas\" data-slidetiempo=\"25000\" data-valuega=\"1\" style=\"display:none;\"><a href=\"https://www.bolsasymercados.es/esp/Estudios-Publicaciones/Documento/5416__C%C3%B3mo_hacer_las_bolsas_m%C3%A1s_atractivas_para_las_empresas_\" target=\"_blank\"><div style=\"font-size: 12px; color: #00325D; font-weight: bold; text-align: Left; margin: 0px 0px 7px 0px\">Cómo hacer las bolsas más atractivas para las empresas </div><div style=\"font-size: 12px; color: #666666; font-weight: normal; text-align: Left; margin: 0px 0px 0px 0px\">Este articulo analiza el descenso del número de empresas cotizadas y recopila una serie de propuestas que podrían ayudar a cambiar la tendencia y reactivar la salida a cotización bursátil en los mercados de valores. </div></a></div>, <div class=\"mclick\" data-slidetiempo=\"60000\" style=\"display:none;\"><a href=\"https://www.youtube.com/watch?v=hy0X1t53zWQ\" target=\"_self\"><div style=\"font-size: 12px; color: #00325D; font-weight: bold; text-align: Left; margin: 0px 0px 7px 0px\">La importancia de cotizar en Bolsa</div><div style=\"font-size: 12px; color: #666666; font-weight: normal; text-align: Left; margin: 0px 0px 0px 0px\">¿Con qué objetivo entra una compañía al mercado bursátil? ¿Qué ventajas tiene por ser cotizada? Laura Sacristán y Francisco Formariz, de la Oficina Comercial de BME,  explican las ventajas de cotizar en Bolsa.</div></a></div>, <div class=\"mclick\" data-labelga=\"Articulo indices 5 mayo 2020\" data-slidetiempo=\"30000\" data-valuega=\"1\" style=\"display:none;\"><a href=\"javascript:sacaVentana('https://www.bolsasymercados.es/esp/Sala-Comunicacion/Documento-Interes/20200505/Art%C3%ADculo_Indices_Crisis%5b6%5d.pdf/Los_indices_bursatiles_como_referencia_en_tiempos_de_crisis')\" target=\"_self\"><div style=\"font-size: 12px; color: #00325D; font-weight: bold; text-align: Left; margin: 0px 0px 7px 0px\">Los índices bursátiles como referencia en tiempos de crisis</div><div style=\"font-size: 12px; color: #666666; font-weight: normal; text-align: Left; margin: 0px 0px 0px 0px\">Carmen López, responsable de Índices de BME, analiza en este artículo la importancia de los índices como referencia de los mercados financieros, especialmente en tiempos de incertidumbre. &gt; Seguir leyendo</div></a></div>]\n"
     ]
    }
   ],
   "source": [
    "#pick out child elements\n",
    "for coln1 in column:\n",
    "    element1 = coln1.findAll(\"div\", class_=\"mclick\")\n",
    "    print(element1)"
   ]
  },
  {
   "cell_type": "code",
   "execution_count": 7,
   "id": "5bebaa6f-5200-4e5f-93f4-b51e5781f75e",
   "metadata": {
    "tags": []
   },
   "outputs": [
    {
     "name": "stdout",
     "output_type": "stream",
     "text": [
      "<div style=\"font-size: 12px; color: #00325D; font-weight: bold; text-align: Left; margin: 0px 0px 7px 0px\">Los índices bursátiles como referencia en tiempos de crisis</div>\n"
     ]
    }
   ],
   "source": [
    "#find child div element\n",
    "for x in element1:\n",
    "    element2 = x.find(\"div\")\n",
    "print(element2)    "
   ]
  },
  {
   "cell_type": "code",
   "execution_count": 8,
   "id": "63953be3-8708-4e5f-9cd2-66a8ffdada25",
   "metadata": {
    "tags": []
   },
   "outputs": [
    {
     "name": "stdout",
     "output_type": "stream",
     "text": [
      "Los índices bursátiles como referencia en tiempos de crisis\n"
     ]
    }
   ],
   "source": [
    "#print out just text\n",
    "print(element2.text)"
   ]
  },
  {
   "cell_type": "code",
   "execution_count": 11,
   "id": "3668672e-8aee-4a16-a039-33d54cde62c1",
   "metadata": {
    "tags": []
   },
   "outputs": [
    {
     "name": "stdout",
     "output_type": "stream",
     "text": [
      "85\n"
     ]
    }
   ],
   "source": [
    "#find elements by class name and text content\n",
    "#find all elements with text crisis\n",
    "crisis = results.find_all(\"div\", string=lambda text: \"crisis\")\n",
    "#how many maching jobs we have?\n",
    "print(len(crisis))"
   ]
  },
  {
   "cell_type": "code",
   "execution_count": 12,
   "id": "945310e1-7599-4fae-8eda-27c388a718e0",
   "metadata": {
    "scrolled": true,
    "tags": []
   },
   "outputs": [
    {
     "name": "stdout",
     "output_type": "stream",
     "text": [
      "URL: https://www.bolsasymercados.es/esp/Sala-Comunicacion/Nota-Prensa/20211122/nota_20211122_1/Javier_Hernani_y_Thomas_Zeeb_destacan_el_papel_de_la_Bolsa_como_punto_de_encuentro_con_America_Latina\n",
      "\n",
      "URL: https://youtu.be/lzIVRMtoJQg\n",
      "\n",
      "URL: https://www.bolsasymercados.es/esp/Estudios-Publicaciones/Documento/5479_La_inversi%C3%B3n_de_las_familias_en_la_Bolsa_espa%C3%B1ola_sube_hasta_el_17_1__tras_cinco_a%C3%B1os_de_descensos\n",
      "\n",
      "URL: https://www.youtube.com/watch?v=_dEHbVVm3hw\n",
      "\n",
      "URL: https://paisajedelaluz.es/\n",
      "\n",
      "URL: https://www.bolsamadrid.es/esp/BMadrid/Palacio/VisitaVirtual.aspx\n",
      "\n",
      "URL: https://www.bolsasymercados.es/esp/Estudios-Publicaciones/Documento/5416__C%C3%B3mo_hacer_las_bolsas_m%C3%A1s_atractivas_para_las_empresas_\n",
      "\n",
      "URL: https://www.youtube.com/watch?v=hy0X1t53zWQ\n",
      "\n",
      "URL: javascript:sacaVentana('https://www.bolsasymercados.es/esp/Sala-Comunicacion/Documento-Interes/20200505/Art%C3%ADculo_Indices_Crisis%5b6%5d.pdf/Los_indices_bursatiles_como_referencia_en_tiempos_de_crisis')\n",
      "\n",
      "URL: https://www.bolsasymercados.es/esp/Sala-Comunicacion/Nota-Prensa/20211122/nota_20211122_1/Javier_Hernani_y_Thomas_Zeeb_destacan_el_papel_de_la_Bolsa_como_punto_de_encuentro_con_America_Latina\n",
      "\n",
      "URL: javascript:NotaPrensa(\"esp\",\"notas\",\"20211004\",\"nota_20211004_1\")\n",
      "\n",
      "URL: https://www.bolsasymercados.es/esp/Estudios-Publicaciones/Documento/5479_La_inversi%C3%B3n_de_las_familias_en_la_Bolsa_espa%C3%B1ola_sube_hasta_el_17_1__tras_cinco_a%C3%B1os_de_descensos\n",
      "\n",
      "URL: https://www.bolsamadrid.es/esp/aspx/Empresas/FichaValor.aspx?ISIN=ES0183304080&ClvEmis=83304\n",
      "\n",
      "URL: https://paisajedelaluz.es/candidatura.html\n",
      "\n",
      "URL: https://www.bolsamadrid.es/esp/BMadrid/Palacio/VisitaVirtual.aspx\n",
      "\n",
      "URL: https://www.bolsasymercados.es/esp/Estudios-Publicaciones/Documento/5416__C%C3%B3mo_hacer_las_bolsas_m%C3%A1s_atractivas_para_las_empresas_\n",
      "\n",
      "URL: https://www.youtube.com/watch?v=hy0X1t53zWQ\n",
      "\n",
      "URL: javascript:sacaVentana('https://www.bolsasymercados.es/esp/Sala-Comunicacion/Documento-Interes/20200505/Art%C3%ADculo_Indices_Crisis%5b6%5d.pdf/Los_indices_bursatiles_como_referencia_en_tiempos_de_crisis')\n",
      "\n",
      "URL: https://www.bolsasymercados.es/esp/Sala-Comunicacion/Nota-Prensa/20211122/nota_20211122_1/Javier_Hernani_y_Thomas_Zeeb_destacan_el_papel_de_la_Bolsa_como_punto_de_encuentro_con_America_Latina\n",
      "\n",
      "URL: https://youtu.be/lzIVRMtoJQg\n",
      "\n",
      "URL: https://www.bolsasymercados.es/esp/Estudios-Publicaciones/Documento/5479_La_inversi%C3%B3n_de_las_familias_en_la_Bolsa_espa%C3%B1ola_sube_hasta_el_17_1__tras_cinco_a%C3%B1os_de_descensos\n",
      "\n",
      "URL: https://www.youtube.com/watch?v=_dEHbVVm3hw\n",
      "\n",
      "URL: https://paisajedelaluz.es/\n",
      "\n",
      "URL: https://www.bolsamadrid.es/esp/BMadrid/Palacio/VisitaVirtual.aspx\n",
      "\n",
      "URL: https://www.bolsasymercados.es/esp/Estudios-Publicaciones/Documento/5416__C%C3%B3mo_hacer_las_bolsas_m%C3%A1s_atractivas_para_las_empresas_\n",
      "\n",
      "URL: https://www.youtube.com/watch?v=hy0X1t53zWQ\n",
      "\n",
      "URL: javascript:sacaVentana('https://www.bolsasymercados.es/esp/Sala-Comunicacion/Documento-Interes/20200505/Art%C3%ADculo_Indices_Crisis%5b6%5d.pdf/Los_indices_bursatiles_como_referencia_en_tiempos_de_crisis')\n",
      "\n",
      "URL: https://www.bolsasymercados.es/esp/Sala-Comunicacion/Nota-Prensa/20211122/nota_20211122_1/Javier_Hernani_y_Thomas_Zeeb_destacan_el_papel_de_la_Bolsa_como_punto_de_encuentro_con_America_Latina\n",
      "\n",
      "URL: https://youtu.be/lzIVRMtoJQg\n",
      "\n",
      "URL: https://www.bolsasymercados.es/esp/Estudios-Publicaciones/Documento/5479_La_inversi%C3%B3n_de_las_familias_en_la_Bolsa_espa%C3%B1ola_sube_hasta_el_17_1__tras_cinco_a%C3%B1os_de_descensos\n",
      "\n",
      "URL: https://www.youtube.com/watch?v=_dEHbVVm3hw\n",
      "\n",
      "URL: https://paisajedelaluz.es/\n",
      "\n",
      "URL: https://www.bolsamadrid.es/esp/BMadrid/Palacio/VisitaVirtual.aspx\n",
      "\n",
      "URL: https://www.bolsasymercados.es/esp/Estudios-Publicaciones/Documento/5416__C%C3%B3mo_hacer_las_bolsas_m%C3%A1s_atractivas_para_las_empresas_\n",
      "\n",
      "URL: https://www.youtube.com/watch?v=hy0X1t53zWQ\n",
      "\n",
      "URL: javascript:sacaVentana('https://www.bolsasymercados.es/esp/Sala-Comunicacion/Documento-Interes/20200505/Art%C3%ADculo_Indices_Crisis%5b6%5d.pdf/Los_indices_bursatiles_como_referencia_en_tiempos_de_crisis')\n",
      "\n",
      "URL: https://www.bolsasymercados.es/esp/Sala-Comunicacion/Nota-Prensa/20211122/nota_20211122_1/Javier_Hernani_y_Thomas_Zeeb_destacan_el_papel_de_la_Bolsa_como_punto_de_encuentro_con_America_Latina\n",
      "\n",
      "URL: javascript:NotaPrensa(\"esp\",\"notas\",\"20211004\",\"nota_20211004_1\")\n",
      "\n",
      "URL: https://www.bolsasymercados.es/esp/Estudios-Publicaciones/Documento/5479_La_inversi%C3%B3n_de_las_familias_en_la_Bolsa_espa%C3%B1ola_sube_hasta_el_17_1__tras_cinco_a%C3%B1os_de_descensos\n",
      "\n",
      "URL: https://www.bolsamadrid.es/esp/aspx/Empresas/FichaValor.aspx?ISIN=ES0183304080&ClvEmis=83304\n",
      "\n",
      "URL: https://paisajedelaluz.es/candidatura.html\n",
      "\n",
      "URL: https://www.bolsamadrid.es/esp/BMadrid/Palacio/VisitaVirtual.aspx\n",
      "\n",
      "URL: https://www.bolsasymercados.es/esp/Estudios-Publicaciones/Documento/5416__C%C3%B3mo_hacer_las_bolsas_m%C3%A1s_atractivas_para_las_empresas_\n",
      "\n",
      "URL: https://www.youtube.com/watch?v=hy0X1t53zWQ\n",
      "\n",
      "URL: javascript:sacaVentana('https://www.bolsasymercados.es/esp/Sala-Comunicacion/Documento-Interes/20200505/Art%C3%ADculo_Indices_Crisis%5b6%5d.pdf/Los_indices_bursatiles_como_referencia_en_tiempos_de_crisis')\n",
      "\n",
      "URL: https://www.bolsasymercados.es/esp/Sala-Comunicacion/Nota-Prensa/20211122/nota_20211122_1/Javier_Hernani_y_Thomas_Zeeb_destacan_el_papel_de_la_Bolsa_como_punto_de_encuentro_con_America_Latina\n",
      "\n",
      "URL: javascript:NotaPrensa(\"esp\",\"notas\",\"20211004\",\"nota_20211004_1\")\n",
      "\n",
      "URL: https://www.bolsasymercados.es/esp/Estudios-Publicaciones/Documento/5479_La_inversi%C3%B3n_de_las_familias_en_la_Bolsa_espa%C3%B1ola_sube_hasta_el_17_1__tras_cinco_a%C3%B1os_de_descensos\n",
      "\n",
      "URL: https://www.bolsamadrid.es/esp/aspx/Empresas/FichaValor.aspx?ISIN=ES0183304080&ClvEmis=83304\n",
      "\n",
      "URL: https://paisajedelaluz.es/candidatura.html\n",
      "\n",
      "URL: https://www.bolsamadrid.es/esp/BMadrid/Palacio/VisitaVirtual.aspx\n",
      "\n",
      "URL: https://www.bolsasymercados.es/esp/Estudios-Publicaciones/Documento/5416__C%C3%B3mo_hacer_las_bolsas_m%C3%A1s_atractivas_para_las_empresas_\n",
      "\n",
      "URL: https://www.youtube.com/watch?v=hy0X1t53zWQ\n",
      "\n",
      "URL: javascript:sacaVentana('https://www.bolsasymercados.es/esp/Sala-Comunicacion/Documento-Interes/20200505/Art%C3%ADculo_Indices_Crisis%5b6%5d.pdf/Los_indices_bursatiles_como_referencia_en_tiempos_de_crisis')\n",
      "\n",
      "URL: https://www.bolsasymercados.es/esp/Sala-Comunicacion/Nota-Prensa/20211125/nota_20211125_1/BME_reune_a_12_empresas_espanolas_con_60_inversores_europeos_en_la_Geneva_European_Midcap_Event\n",
      "\n",
      "URL: https://www.six-group.com/en/newsroom/magazines/red.html\n",
      "\n",
      "URL: http://www.bolsamadrid.es/esp/aspx/Empresas/Analisis/BuscadorAnalisis.aspx\n",
      "\n",
      "URL: https://www.bolsasymercados.es/BME_4Companies/esp\n",
      "\n",
      "URL: http://www.bmerv.es/esp/Miembros/MIFID_II.aspx\n",
      "\n",
      "URL: https://www.institutobme.es/esp/aspx/Portada/Portada.aspx\n",
      "\n",
      "URL: javascript:NotaPrensa('esp','notas','20211129','nota_20211129_3')\n",
      "\n",
      "URL: https://www.bolsasymercados.es/esp/Sala-Comunicacion/Nota-Prensa/20211124/nota_20211124_3/Calendario_2022_en_los_mercados_de_valores_espanoles\n",
      "\n",
      "URL: https://www.bolsasymercados.es/BME_4Companies/esp/Producto/Financiacion-a-Traves-Bolsa\n",
      "\n",
      "URL: javascript:NotaPrensa(\"esp\",\"notas\",\"20210914\",\"nota_20210914_3\")\n",
      "\n",
      "URL: https://www.entornopremercado.es/esp/\n",
      "\n",
      "URL: http://www.bolsamadrid.es/esp/Empresas/MorningStar_IbexMed.aspx\n",
      "\n",
      "URL: http://www.bolsamadrid.es/esp/aspx/Regulacion/Regulacion.aspx?cod=SBolsas\n",
      "\n",
      "URL: https://www.cepyme500.com/\n",
      "\n",
      "URL: http://www.bolsamadrid.es/esp/BMadrid/Palacio/Eventos.aspx\n",
      "\n",
      "URL: https://www.bolsasymercados.es/esp/Sala-Comunicacion/Nota-Prensa/20211125/nota_20211125_1/BME_reune_a_12_empresas_espanolas_con_60_inversores_europeos_en_la_Geneva_European_Midcap_Event\n",
      "\n",
      "URL: https://www.six-group.com/en/newsroom/magazines/red.html\n",
      "\n",
      "URL: http://www.bolsamadrid.es/esp/aspx/Empresas/Analisis/BuscadorAnalisis.aspx\n",
      "\n",
      "URL: https://www.bolsasymercados.es/BME_4Companies/esp\n",
      "\n",
      "URL: http://www.bmerv.es/esp/Miembros/MIFID_II.aspx\n",
      "\n",
      "URL: https://www.institutobme.es/esp/aspx/Portada/Portada.aspx\n",
      "\n",
      "URL: https://www.bolsasymercados.es/esp/Sala-Comunicacion/Nota-Prensa/20211125/nota_20211125_1/BME_reune_a_12_empresas_espanolas_con_60_inversores_europeos_en_la_Geneva_European_Midcap_Event\n",
      "\n",
      "URL: https://www.six-group.com/en/newsroom/magazines/red.html\n",
      "\n",
      "URL: http://www.bolsamadrid.es/esp/aspx/Empresas/Analisis/BuscadorAnalisis.aspx\n",
      "\n",
      "URL: https://www.bolsasymercados.es/BME_4Companies/esp\n",
      "\n",
      "URL: http://www.bmerv.es/esp/Miembros/MIFID_II.aspx\n",
      "\n",
      "URL: https://www.institutobme.es/esp/aspx/Portada/Portada.aspx\n",
      "\n",
      "URL: javascript:NotaPrensa('esp','notas','20211129','nota_20211129_3')\n",
      "\n",
      "URL: javascript:NotaPrensa('esp','notas','20211129','nota_20211129_3')\n",
      "\n",
      "URL: https://www.bolsasymercados.es/esp/Sala-Comunicacion/Nota-Prensa/20211124/nota_20211124_3/Calendario_2022_en_los_mercados_de_valores_espanoles\n",
      "\n",
      "URL: https://www.bolsasymercados.es/BME_4Companies/esp/Producto/Financiacion-a-Traves-Bolsa\n",
      "\n",
      "URL: javascript:NotaPrensa(\"esp\",\"notas\",\"20210914\",\"nota_20210914_3\")\n",
      "\n",
      "URL: https://www.entornopremercado.es/esp/\n",
      "\n",
      "URL: http://www.bolsamadrid.es/esp/Empresas/MorningStar_IbexMed.aspx\n",
      "\n",
      "URL: http://www.bolsamadrid.es/esp/aspx/Regulacion/Regulacion.aspx?cod=SBolsas\n",
      "\n",
      "URL: https://www.cepyme500.com/\n",
      "\n",
      "URL: http://www.bolsamadrid.es/esp/BMadrid/Palacio/Eventos.aspx\n",
      "\n",
      "URL: https://www.bolsasymercados.es/esp/Sala-Comunicacion/Nota-Prensa/20211124/nota_20211124_3/Calendario_2022_en_los_mercados_de_valores_espanoles\n",
      "\n",
      "URL: https://www.bolsasymercados.es/BME_4Companies/esp/Producto/Financiacion-a-Traves-Bolsa\n",
      "\n",
      "URL: javascript:NotaPrensa(\"esp\",\"notas\",\"20210914\",\"nota_20210914_3\")\n",
      "\n",
      "URL: https://www.entornopremercado.es/esp/\n",
      "\n",
      "URL: http://www.bolsamadrid.es/esp/Empresas/MorningStar_IbexMed.aspx\n",
      "\n",
      "URL: http://www.bolsamadrid.es/esp/aspx/Regulacion/Regulacion.aspx?cod=SBolsas\n",
      "\n",
      "URL: https://www.cepyme500.com/\n",
      "\n",
      "URL: http://www.bolsamadrid.es/esp/BMadrid/Palacio/Eventos.aspx\n",
      "\n"
     ]
    }
   ],
   "source": [
    "#fetching url elements\n",
    "urls = []\n",
    "\n",
    "for w in crisis:\n",
    "    links = w.find_all(\"a\")\n",
    "    for link in links:\n",
    "        urls.append(link.get('href'))\n",
    "        link_url = link[\"href\"] \n",
    "        print(f\"URL: {link_url}\\n\") "
   ]
  },
  {
   "cell_type": "code",
   "execution_count": 13,
   "id": "f927433e-cc99-4c87-b53e-de5f406f8161",
   "metadata": {
    "tags": []
   },
   "outputs": [
    {
     "data": {
      "text/plain": [
       "['https://www.bolsasymercados.es/esp/Sala-Comunicacion/Nota-Prensa/20211122/nota_20211122_1/Javier_Hernani_y_Thomas_Zeeb_destacan_el_papel_de_la_Bolsa_como_punto_de_encuentro_con_America_Latina',\n",
       " 'https://youtu.be/lzIVRMtoJQg']"
      ]
     },
     "execution_count": 13,
     "metadata": {},
     "output_type": "execute_result"
    }
   ],
   "source": [
    "urls[:2]"
   ]
  },
  {
   "cell_type": "markdown",
   "id": "7d0f8350-815e-4495-805f-a27f3c564fb1",
   "metadata": {},
   "source": [
    "##### Search for Indices Summary"
   ]
  },
  {
   "cell_type": "code",
   "execution_count": 14,
   "id": "3560047e-4ce0-49bb-8469-303c4ef5307c",
   "metadata": {
    "tags": []
   },
   "outputs": [
    {
     "data": {
      "text/plain": [
       "'/esp/aspx/Indices/Resumen.aspx'"
      ]
     },
     "execution_count": 14,
     "metadata": {},
     "output_type": "execute_result"
    }
   ],
   "source": [
    "link = soup.find('a', string='Resumen de Índices')\n",
    "new_url = link.get('href')\n",
    "new_url"
   ]
  },
  {
   "cell_type": "code",
   "execution_count": 15,
   "id": "2a15adbf-4c55-49ca-a386-d8f699d86879",
   "metadata": {
    "tags": []
   },
   "outputs": [
    {
     "data": {
      "text/plain": [
       "'https://www.bolsamadrid.es/esp/aspx/Indices/Resumen.aspx'"
      ]
     },
     "execution_count": 15,
     "metadata": {},
     "output_type": "execute_result"
    }
   ],
   "source": [
    "link = url+new_url\n",
    "link"
   ]
  },
  {
   "cell_type": "code",
   "execution_count": 16,
   "id": "6da78c3b-1d8f-4c0a-b1bb-05a83491df30",
   "metadata": {
    "tags": []
   },
   "outputs": [],
   "source": [
    "html_indices = requests.get(link)\n",
    "soup_indices = BeautifulSoup(html_indices.content, 'html.parser')"
   ]
  },
  {
   "cell_type": "code",
   "execution_count": 17,
   "id": "4db8cb5d-1835-4b72-bed3-4d9574808cb9",
   "metadata": {
    "tags": []
   },
   "outputs": [
    {
     "data": {
      "text/plain": [
       "[<th scope=\"col\">Nombre</th>,\n",
       " <th scope=\"col\">Anterior</th>,\n",
       " <th scope=\"col\">Último</th>,\n",
       " <th scope=\"col\">% Dif.</th>,\n",
       " <th scope=\"col\">Máximo</th>,\n",
       " <th scope=\"col\">Mínimo</th>,\n",
       " <th scope=\"col\">Fecha</th>,\n",
       " <th scope=\"col\">Hora</th>,\n",
       " <th class=\"Ult\" scope=\"col\">% Dif.<br/>Año 2021</th>]"
      ]
     },
     "execution_count": 17,
     "metadata": {},
     "output_type": "execute_result"
    }
   ],
   "source": [
    "table_indices = soup_indices.find(\"table\",class_=\"TblPort\")\n",
    "table_indices.find_all(\"th\")"
   ]
  },
  {
   "cell_type": "code",
   "execution_count": 18,
   "id": "ec1f34eb-7911-487d-b2ea-7bfc9de53ba7",
   "metadata": {
    "tags": []
   },
   "outputs": [
    {
     "name": "stdout",
     "output_type": "stream",
     "text": [
      "['Nombre', 'Anterior', 'Último', '% Dif.', 'Máximo', 'Mínimo', 'Fecha', 'Hora', '% Dif.Año 2021']\n"
     ]
    }
   ],
   "source": [
    "columns=[]\n",
    "for element in table_indices.find_all(\"th\"):\n",
    "    columns.append(element.get_text())\n",
    "print(columns)"
   ]
  },
  {
   "cell_type": "code",
   "execution_count": 19,
   "id": "6ea0c387-102f-48c8-8575-c0f2110f44da",
   "metadata": {
    "scrolled": true,
    "tags": []
   },
   "outputs": [
    {
     "name": "stdout",
     "output_type": "stream",
     "text": [
      "['IBEX 35®', '8.402,70', '8.455,20', '0,62', '8.562,00', '8.431,70', '29/11/2021', '17:38:00', '4,73', 'IBEX 35® con Dividendos', '25.846,10', '26.007,70', '0,63', '26.336,20', '25.935,40', '29/11/2021', '17:38:00', '7,20', 'IBEX MEDIUM CAP®', '12.992,60', '13.071,80', '0,61', '13.183,00', '13.029,90', '29/11/2021', '17:38:00', '2,80', 'IBEX SMALL CAP®', '7.862,50', '7.874,30', '0,15', '7.966,40', '7.866,60', '29/11/2021', '17:38:00', '-2,76', 'IBEX 35® Bancos', '435,20', '434,30', '-0,21', '445,90', '433,40', '29/11/2021', '17:38:00', '15,47', 'IBEX 35® Energía', '1.282,50', '1.291,00', '0,66', '1.305,80', '1.283,10', '29/11/2021', '17:38:00', '-0,34', 'IBEX 35® Construcción', '1.454,70', '1.471,90', '1,18', '1.484,90', '1.458,00', '29/11/2021', '17:38:00', '4,36', 'IBEX TOP Dividendo®', '2.391,90', '2.403,00', '0,46', '2.432,50', '2.397,60', '29/11/2021', '17:38:00', '10,53', 'IBEX 35® con Dividendos Netos', '21.615,70', '21.750,80', '0,63', '22.025,50', '21.690,30', '29/11/2021', '17:38:00', '6,77', 'IBEX 35® Inverso', '2.283,00', '2.268,70', '-0,63', '2.275,10', '2.239,70', '29/11/2021', '17:38:00', '-9,03', 'IBEX 35® Doble Inverso', '259,40', '256,10', '-1,27', '257,60', '249,60', '29/11/2021', '17:38:00', '-19,19', 'IBEX 35® Inverso X3', '10.974,40', '10.768,00', '-1,88', '10.860,10', '10.349,60', '29/11/2021', '17:38:00', '370,97', 'IBEX 35® Inverso X5', '1.245,90', '1.206,80', '-3,14', '1.224,30', '1.127,70', '29/11/2021', '17:38:00', '-50,55', 'IBEX 35® Inverso X10', '32,70', '30,70', '-6,12', '31,60', '26,50', '29/11/2021', '17:38:00', '-86,56', 'IBEX 35® Doble Apalancado', '3.702,70', '3.749,00', '1,25', '3.843,10', '3.728,30', '29/11/2021', '17:38:00', '7,09', 'IBEX 35® Doble Apalancado Bruto', '17.569,90', '17.789,60', '1,25', '18.236,20', '17.691,30', '29/11/2021', '17:38:00', '12,21', 'IBEX 35® Doble Apalancado Neto', '14.589,90', '14.772,30', '1,25', '15.143,10', '14.690,60', '29/11/2021', '17:38:00', '11,33', 'IBEX 35® Apalancado X3', '483,80', '492,90', '1,88', '511,30', '488,80', '29/11/2021', '17:38:00', '6,92', 'IBEX 35® Apalancado Neto X3', '5.789,70', '5.898,20', '1,87', '6.119,00', '5.849,60', '29/11/2021', '17:38:00', '13,31', 'IBEX 35® Apalancado Neto X5', '280,90', '289,70', '3,13', '307,50', '285,70', '29/11/2021', '17:38:00', '9,16', 'IBEX 35® Apalancado Neto X10', '164,40', '174,70', '6,27', '195,60', '170,10', '29/11/2021', '17:38:00', '-38,09', 'IBEX 35® Capped Net Return', '21.674,80', '21.810,40', '0,63', '22.085,80', '21.749,60', '29/11/2021', '17:38:00', '6,77', 'IBEX 35® Impacto Div', '215,20', '215,20', '- ', '215,20', '215,20', '29/11/2021', '17:38:00', '- ', 'IBEX 35® Volatilidad Objetivo 10% Estándar', '174,70', '175,30', '0,34', '176,40', '175,00', '29/11/2021', '17:38:00', '0,92', 'IBEX 35® Volatilidad Objetivo 12% Estándar', '179,80', '180,50', '0,39', '181,90', '180,20', '29/11/2021', '17:38:00', '1,52', 'IBEX 35® Volatilidad Objetivo 15% Estándar', '182,70', '183,60', '0,49', '185,40', '183,20', '29/11/2021', '17:38:00', '2,17', 'IBEX 35® Volatilidad Objetivo 18% Estándar', '180,30', '181,40', '0,61', '183,50', '180,90', '29/11/2021', '17:38:00', '2,14', 'IBEX 35® Volatilidad Objetivo 10% Financiado', '126,50', '126,90', '0,32', '127,70', '126,70', '29/11/2021', '17:38:00', '0,79', 'IBEX 35® Volatilidad Objetivo 12% Financiado', '128,70', '129,20', '0,39', '130,20', '129,00', '29/11/2021', '17:38:00', '1,97', 'IBEX 35® Volatilidad Objetivo 15% Financiado', '133,00', '133,60', '0,45', '135,00', '133,40', '29/11/2021', '17:38:00', '1,60', 'IBEX 35® Volatilidad Objetivo 18% Financiado', '126,50', '127,20', '0,55', '128,70', '126,90', '29/11/2021', '17:38:00', '1,60', 'VIBEX®', '22,12', '25,14', '13,65', '25,14', '25,14', '29/11/2021', '\\xa0', '14,53', 'IBEX 35® Skew', '6,74', '6,97', '3,41', '6,97', '6,97', '29/11/2021', '\\xa0', '4,34', 'IBEX 35® BuyWrite', '1.381,22', '1.392,38', '0,81', '1.392,38', '1.392,38', '29/11/2021', '\\xa0', '4,48', 'IBEX 35® PutWrite', '1.350,37', '1.357,51', '0,53', '1.357,51', '1.357,51', '29/11/2021', '\\xa0', '3,84', 'IBEX 35® Protective Put', '669,47', '671,89', '0,36', '671,89', '671,89', '29/11/2021', '\\xa0', '2,03', 'IBEX 35® Venta de Strangle', '1.447,86', '1.454,44', '0,45', '1.454,44', '1.454,44', '29/11/2021', '\\xa0', '0,53', 'IBEX TOP Dividendo® Rentabilidad', '6.584,80', '6.615,30', '0,46', '6.696,40', '6.600,40', '29/11/2021', '17:38:00', '15,36', 'IBEX TOP Dividendo® Rentabilidad Neta', '5.432,10', '5.457,20', '0,46', '5.524,10', '5.444,90', '29/11/2021', '17:38:00', '14,47', 'IBEX MEDIUM CAP® con Dividendos', '14.849,80', '14.940,20', '0,61', '15.067,40', '14.892,40', '29/11/2021', '17:38:00', '5,65', 'IBEX MEDIUM CAP® con Dividendos Netos', '13.771,30', '13.855,20', '0,61', '13.973,10', '13.810,80', '29/11/2021', '17:38:00', '5,13', 'IBEX SMALL CAP® con Dividendos', '11.718,60', '11.736,20', '0,15', '11.873,50', '11.724,60', '29/11/2021', '17:38:00', '-1,28', 'IBEX SMALL CAP® con Dividendos Netos', '11.271,20', '11.288,00', '0,15', '11.420,10', '11.276,90', '29/11/2021', '17:38:00', '-1,51', 'IBEX Growth Market® 15', '2.422,20', '2.432,30', '0,42', '2.454,70', '2.414,80', '29/11/2021', '17:39:00', '5,17', 'IBEX Growth Market® All Share', '1.975,30', '1.986,40', '0,56', '1.998,40', '1.975,70', '29/11/2021', '17:39:00', '10,67', 'FTSE4Good IBEX', '8.844,30', '8.897,80', '0,60', '9.015,00', '8.875,80', '29/11/2021', '17:38:00', '5,78', 'FTSE4Good IBEX Total Return', '19.988,30', '20.109,20', '0,60', '20.373,90', '20.059,50', '29/11/2021', '17:38:00', '8,46', 'FTSE4Good IBEX Net Return', '17.650,20', '17.756,90', '0,60', '17.990,70', '17.713,10', '29/11/2021', '17:38:00', '7,99', 'FTSE Latibex All Share', '1.941,20', '1.959,50', '0,94', '1.964,20', '1.946,90', '29/11/2021', '17:38:00', '-0,76', 'FTSE Latibex TOP', '4.720,70', '4.776,70', '1,19', '4.776,70', '4.719,00', '29/11/2021', '17:38:00', '9,44', 'FTSE Latibex BRASIL', '10.066,30', '10.315,60', '2,48', '10.315,60', '10.107,00', '29/11/2021', '17:38:00', '5,33', 'I.G.B.M.', '827,68', '832,26', '0,55', '842,74', '831,02', '29/11/2021', '17:38:00', '3,39', 'I.G.B.M. Total', '3.633,95', '3.653,99', '0,55', '3.653,99', '3.653,99', '29/11/2021', '17:38:00', '6,69', 'BCN GLOBAL 100 (Base 1986)', '637,64', '641,53', '0,61', '651,00', '640,29', '29/11/2021', '17:38:00', '6,38', 'BCN GLOBAL 100 (Base 1963)', '1.638,85', '1.648,85', '0,61', '1.673,19', '1.645,65', '29/11/2021', '17:38:00', '6,38', 'BCN MID 50', '24.069,22', '24.233,45', '0,68', '24.447,05', '24.189,94', '29/11/2021', '17:38:00', '2,26', 'BCN PROFIT-30', '10.010,28', '10.058,89', '0,49', '10.199,48', '10.030,13', '29/11/2021', '17:38:00', '4,74', 'BCN ROE-30', '16.433,00', '16.536,32', '0,63', '16.688,88', '16.426,21', '29/11/2021', '17:38:00', '1,00', 'BCN PER-30', '16.077,23', '16.167,75', '0,56', '16.345,78', '16.086,42', '29/11/2021', '17:38:00', '7,77', 'BCN INDEXCAT', '21.471,55', '21.632,67', '0,75', '21.803,91', '21.521,66', '29/11/2021', '17:38:00', '12,80', 'I.BILBAO 2000', '1.341,66', '1.351,22', '0,71', '1.368,27', '1.346,92', '29/11/2021', '17:38:00', '4,65', 'I.G.B.V.', '1.192,98', '1.200,50', '0,63', '1.217,30', '1.197,75', '29/11/2021', '17:38:00', '9,56', 'Índice TEF Apalancado X3', '243,50', '253,30', '4,02', '258,60', '242,40', '29/11/2021', '17:38:00', '70,80', 'Índice SAN Apalancado X3', '257,90', '258,00', '0,04', '278,20', '255,80', '29/11/2021', '17:38:00', '7,28', 'Índice BBVA Apalancado X3', '377,60', '367,40', '-2,70', '407,30', '367,20', '29/11/2021', '17:38:00', '30,15', 'Índice ITX Apalancado X3', '3.643,60', '3.804,30', '4,41', '3.976,30', '3.688,50', '29/11/2021', '17:38:00', '31,63', 'Índice TEF Apalancado X5', '232,90', '248,50', '6,70', '257,00', '231,10', '29/11/2021', '17:38:00', '80,46', 'Índice SAN Apalancado X5', '847,20', '848,00', '0,09', '958,30', '835,80', '29/11/2021', '17:38:00', '-29,61', 'Índice BBVA Apalancado X5', '228,30', '218,10', '-4,47', '258,20', '217,80', '29/11/2021', '17:38:00', '-13,07', 'Índice ITX Apalancado X5', '203,00', '217,90', '7,34', '233,90', '207,20', '29/11/2021', '17:38:00', '16,03', 'Índice TEF Inverso X3', '928,10', '889,30', '-4,18', '931,00', '869,00', '29/11/2021', '17:38:00', '-73,31', 'Índice SAN Inverso X3', '54,10', '54,00', '-0,18', '54,50', '49,80', '29/11/2021', '17:38:00', '-64,98', 'Índice BBVA Inverso X3', '46,10', '47,30', '2,60', '47,30', '42,40', '29/11/2021', '17:38:00', '-76,00', 'Índice ITX Inverso X3', '199,40', '190,30', '-4,56', '196,60', '180,90', '29/11/2021', '17:38:00', '-62,81', 'Índice TEF Inverso X5', '12.036,30', '11.197,90', '-6,97', '12.098,60', '10.759,20', '29/11/2021', '17:38:00', '440,67', 'Índice SAN Inverso X5', '5.838,10', '5.818,30', '-0,34', '5.902,20', '5.057,80', '29/11/2021', '17:38:00', '940,42', 'Índice BBVA Inverso X5', '11.933,10', '12.438,90', '4,24', '12.451,20', '10.339,60', '29/11/2021', '17:38:00', '40,04', 'Índice ITX Inverso X5', '1.072,00', '990,50', '-7,60', '1.047,30', '906,20', '29/11/2021', '17:38:00', '-85,96']\n"
     ]
    }
   ],
   "source": [
    "results=[]\n",
    "for element in table_indices.find_all(\"td\"):\n",
    "    results.append(element.get_text())\n",
    "print(results)"
   ]
  },
  {
   "cell_type": "code",
   "execution_count": 20,
   "id": "453f9267-765d-43cd-b657-33b3951bc7d2",
   "metadata": {
    "tags": []
   },
   "outputs": [],
   "source": [
    "data = {}\n",
    "for i in range(9):\n",
    "    data[columns[i]]=results[i::9]\n",
    "\n",
    "df = pd.DataFrame(data)"
   ]
  },
  {
   "cell_type": "code",
   "execution_count": 21,
   "id": "f2dcd320-c1bc-402e-bc1f-ea862fa7edd7",
   "metadata": {
    "tags": []
   },
   "outputs": [
    {
     "data": {
      "text/html": [
       "<div>\n",
       "<style scoped>\n",
       "    .dataframe tbody tr th:only-of-type {\n",
       "        vertical-align: middle;\n",
       "    }\n",
       "\n",
       "    .dataframe tbody tr th {\n",
       "        vertical-align: top;\n",
       "    }\n",
       "\n",
       "    .dataframe thead th {\n",
       "        text-align: right;\n",
       "    }\n",
       "</style>\n",
       "<table border=\"1\" class=\"dataframe\">\n",
       "  <thead>\n",
       "    <tr style=\"text-align: right;\">\n",
       "      <th></th>\n",
       "      <th>Nombre</th>\n",
       "      <th>Anterior</th>\n",
       "      <th>Último</th>\n",
       "      <th>% Dif.</th>\n",
       "      <th>Máximo</th>\n",
       "      <th>Mínimo</th>\n",
       "      <th>Fecha</th>\n",
       "      <th>Hora</th>\n",
       "      <th>% Dif.Año 2021</th>\n",
       "    </tr>\n",
       "  </thead>\n",
       "  <tbody>\n",
       "    <tr>\n",
       "      <th>0</th>\n",
       "      <td>IBEX 35®</td>\n",
       "      <td>8.402,70</td>\n",
       "      <td>8.455,20</td>\n",
       "      <td>0,62</td>\n",
       "      <td>8.562,00</td>\n",
       "      <td>8.431,70</td>\n",
       "      <td>29/11/2021</td>\n",
       "      <td>17:38:00</td>\n",
       "      <td>4,73</td>\n",
       "    </tr>\n",
       "    <tr>\n",
       "      <th>1</th>\n",
       "      <td>IBEX 35® con Dividendos</td>\n",
       "      <td>25.846,10</td>\n",
       "      <td>26.007,70</td>\n",
       "      <td>0,63</td>\n",
       "      <td>26.336,20</td>\n",
       "      <td>25.935,40</td>\n",
       "      <td>29/11/2021</td>\n",
       "      <td>17:38:00</td>\n",
       "      <td>7,20</td>\n",
       "    </tr>\n",
       "    <tr>\n",
       "      <th>2</th>\n",
       "      <td>IBEX MEDIUM CAP®</td>\n",
       "      <td>12.992,60</td>\n",
       "      <td>13.071,80</td>\n",
       "      <td>0,61</td>\n",
       "      <td>13.183,00</td>\n",
       "      <td>13.029,90</td>\n",
       "      <td>29/11/2021</td>\n",
       "      <td>17:38:00</td>\n",
       "      <td>2,80</td>\n",
       "    </tr>\n",
       "    <tr>\n",
       "      <th>3</th>\n",
       "      <td>IBEX SMALL CAP®</td>\n",
       "      <td>7.862,50</td>\n",
       "      <td>7.874,30</td>\n",
       "      <td>0,15</td>\n",
       "      <td>7.966,40</td>\n",
       "      <td>7.866,60</td>\n",
       "      <td>29/11/2021</td>\n",
       "      <td>17:38:00</td>\n",
       "      <td>-2,76</td>\n",
       "    </tr>\n",
       "    <tr>\n",
       "      <th>4</th>\n",
       "      <td>IBEX 35® Bancos</td>\n",
       "      <td>435,20</td>\n",
       "      <td>434,30</td>\n",
       "      <td>-0,21</td>\n",
       "      <td>445,90</td>\n",
       "      <td>433,40</td>\n",
       "      <td>29/11/2021</td>\n",
       "      <td>17:38:00</td>\n",
       "      <td>15,47</td>\n",
       "    </tr>\n",
       "    <tr>\n",
       "      <th>...</th>\n",
       "      <td>...</td>\n",
       "      <td>...</td>\n",
       "      <td>...</td>\n",
       "      <td>...</td>\n",
       "      <td>...</td>\n",
       "      <td>...</td>\n",
       "      <td>...</td>\n",
       "      <td>...</td>\n",
       "      <td>...</td>\n",
       "    </tr>\n",
       "    <tr>\n",
       "      <th>73</th>\n",
       "      <td>Índice ITX Inverso X3</td>\n",
       "      <td>199,40</td>\n",
       "      <td>190,30</td>\n",
       "      <td>-4,56</td>\n",
       "      <td>196,60</td>\n",
       "      <td>180,90</td>\n",
       "      <td>29/11/2021</td>\n",
       "      <td>17:38:00</td>\n",
       "      <td>-62,81</td>\n",
       "    </tr>\n",
       "    <tr>\n",
       "      <th>74</th>\n",
       "      <td>Índice TEF Inverso X5</td>\n",
       "      <td>12.036,30</td>\n",
       "      <td>11.197,90</td>\n",
       "      <td>-6,97</td>\n",
       "      <td>12.098,60</td>\n",
       "      <td>10.759,20</td>\n",
       "      <td>29/11/2021</td>\n",
       "      <td>17:38:00</td>\n",
       "      <td>440,67</td>\n",
       "    </tr>\n",
       "    <tr>\n",
       "      <th>75</th>\n",
       "      <td>Índice SAN Inverso X5</td>\n",
       "      <td>5.838,10</td>\n",
       "      <td>5.818,30</td>\n",
       "      <td>-0,34</td>\n",
       "      <td>5.902,20</td>\n",
       "      <td>5.057,80</td>\n",
       "      <td>29/11/2021</td>\n",
       "      <td>17:38:00</td>\n",
       "      <td>940,42</td>\n",
       "    </tr>\n",
       "    <tr>\n",
       "      <th>76</th>\n",
       "      <td>Índice BBVA Inverso X5</td>\n",
       "      <td>11.933,10</td>\n",
       "      <td>12.438,90</td>\n",
       "      <td>4,24</td>\n",
       "      <td>12.451,20</td>\n",
       "      <td>10.339,60</td>\n",
       "      <td>29/11/2021</td>\n",
       "      <td>17:38:00</td>\n",
       "      <td>40,04</td>\n",
       "    </tr>\n",
       "    <tr>\n",
       "      <th>77</th>\n",
       "      <td>Índice ITX Inverso X5</td>\n",
       "      <td>1.072,00</td>\n",
       "      <td>990,50</td>\n",
       "      <td>-7,60</td>\n",
       "      <td>1.047,30</td>\n",
       "      <td>906,20</td>\n",
       "      <td>29/11/2021</td>\n",
       "      <td>17:38:00</td>\n",
       "      <td>-85,96</td>\n",
       "    </tr>\n",
       "  </tbody>\n",
       "</table>\n",
       "<p>78 rows × 9 columns</p>\n",
       "</div>"
      ],
      "text/plain": [
       "                     Nombre   Anterior     Último % Dif.     Máximo  \\\n",
       "0                  IBEX 35®   8.402,70   8.455,20   0,62   8.562,00   \n",
       "1   IBEX 35® con Dividendos  25.846,10  26.007,70   0,63  26.336,20   \n",
       "2          IBEX MEDIUM CAP®  12.992,60  13.071,80   0,61  13.183,00   \n",
       "3           IBEX SMALL CAP®   7.862,50   7.874,30   0,15   7.966,40   \n",
       "4           IBEX 35® Bancos     435,20     434,30  -0,21     445,90   \n",
       "..                      ...        ...        ...    ...        ...   \n",
       "73    Índice ITX Inverso X3     199,40     190,30  -4,56     196,60   \n",
       "74    Índice TEF Inverso X5  12.036,30  11.197,90  -6,97  12.098,60   \n",
       "75    Índice SAN Inverso X5   5.838,10   5.818,30  -0,34   5.902,20   \n",
       "76   Índice BBVA Inverso X5  11.933,10  12.438,90   4,24  12.451,20   \n",
       "77    Índice ITX Inverso X5   1.072,00     990,50  -7,60   1.047,30   \n",
       "\n",
       "       Mínimo       Fecha      Hora % Dif.Año 2021  \n",
       "0    8.431,70  29/11/2021  17:38:00           4,73  \n",
       "1   25.935,40  29/11/2021  17:38:00           7,20  \n",
       "2   13.029,90  29/11/2021  17:38:00           2,80  \n",
       "3    7.866,60  29/11/2021  17:38:00          -2,76  \n",
       "4      433,40  29/11/2021  17:38:00          15,47  \n",
       "..        ...         ...       ...            ...  \n",
       "73     180,90  29/11/2021  17:38:00         -62,81  \n",
       "74  10.759,20  29/11/2021  17:38:00         440,67  \n",
       "75   5.057,80  29/11/2021  17:38:00         940,42  \n",
       "76  10.339,60  29/11/2021  17:38:00          40,04  \n",
       "77     906,20  29/11/2021  17:38:00         -85,96  \n",
       "\n",
       "[78 rows x 9 columns]"
      ]
     },
     "execution_count": 21,
     "metadata": {},
     "output_type": "execute_result"
    }
   ],
   "source": [
    "df"
   ]
  },
  {
   "cell_type": "code",
   "execution_count": 22,
   "id": "206bfde0-f56f-4c47-aa18-c898e692e2ac",
   "metadata": {
    "tags": []
   },
   "outputs": [],
   "source": [
    "df.to_csv('Indices.csv')"
   ]
  },
  {
   "cell_type": "markdown",
   "id": "289d0a67-ddfb-40ac-b040-f0654c091d60",
   "metadata": {},
   "source": [
    "### Selenium"
   ]
  },
  {
   "cell_type": "markdown",
   "id": "0c613c55-3776-4a78-a5d6-69e2213e4140",
   "metadata": {},
   "source": [
    "Tool for pulling out information from a webpage. Simulates a real browser and reads also JavaScript. Testing of web applications and midium sized projects."
   ]
  },
  {
   "cell_type": "code",
   "execution_count": 23,
   "id": "2fb54087-10e7-4ed9-a7d0-2a429c77ac72",
   "metadata": {
    "tags": []
   },
   "outputs": [],
   "source": [
    "from selenium.webdriver import Firefox\n",
    "from selenium.webdriver.firefox.options import Options\n",
    "from selenium.webdriver.common.by import By \n",
    "\n",
    "opts = Options()\n",
    "#operating in headless mode\n",
    "opts.headless = True\n",
    "browser = Firefox(options=opts)\n",
    "browser.get('https://www.bolsamadrid.es')"
   ]
  },
  {
   "cell_type": "code",
   "execution_count": 24,
   "id": "ee1f4298-10a6-4c1f-af0d-021fb76d5c81",
   "metadata": {
    "tags": []
   },
   "outputs": [
    {
     "name": "stdout",
     "output_type": "stream",
     "text": [
      "Nombre Último % Dif.  \n",
      "ACCIONA 159,0000 -0,19\n",
      "ACERINOX 10,1250 0,15\n",
      "ACS 21,5400 2,47\n",
      "AENA 129,3500 0,70\n",
      "ALMIRALL 10,7900 0,37\n"
     ]
    }
   ],
   "source": [
    "#query the DOM - Document Object Model\n",
    "#fetching elements in table IBEX35\n",
    "ibex35 = browser.find_element(By.CLASS_NAME, \"TblAccPort\")\n",
    "print(ibex35.text)"
   ]
  },
  {
   "cell_type": "code",
   "execution_count": 25,
   "id": "5c65bf7e-0c18-46a1-a44e-b5483691acaf",
   "metadata": {
    "tags": []
   },
   "outputs": [
    {
     "name": "stdout",
     "output_type": "stream",
     "text": [
      "Evento/Indicador País Periodo Anterior Previsto Actual\n",
      "Ventas al por menor  Japón Octubre -0,5% (r) 1,1% 0,9%\n",
      "IPC armonizado provisional  España Noviembre 5,4% 5,6% 5,6%\n",
      "IPC provisional  España Noviembre 5,4% 4,0% 5,6%\n",
      "Precios industriales  Italia Octubre 13,3% 20,4%\n",
      "Confianza del consumidor final  UEM Noviembre -4,8 (r) -6,8 -6,8\n",
      "IPC provisional  Alemania Noviembre 4,5% 5,0% 5,2%\n",
      "IPC armonizado provisional  Alemania Noviembre 4,6% 5,5% 6,0%\n",
      "Ventas pendientes de viviendas  EEUU Octubre -2,4% (r) 0,9% 7,5%\n"
     ]
    }
   ],
   "source": [
    "#fetching elements in table Daily schedule\n",
    "schedule = browser.find_element(By.CLASS_NAME, \"TblPort\")\n",
    "print(schedule.text)"
   ]
  },
  {
   "cell_type": "code",
   "execution_count": 26,
   "id": "a52774f0-7443-4713-88ec-4b219a75d52e",
   "metadata": {
    "tags": []
   },
   "outputs": [],
   "source": [
    "#search for link to dividents\n",
    "links = browser.find_element(By.LINK_TEXT, \"Dividendos\")\n",
    "links.click()"
   ]
  },
  {
   "cell_type": "code",
   "execution_count": 27,
   "id": "bb8a3ad3-2e2c-4e4c-ace3-5e75af81e61a",
   "metadata": {
    "tags": []
   },
   "outputs": [],
   "source": [
    "#search for id of table\n",
    "table = browser.find_element(By.ID, \"ctl00_Contenido_tblDatos\")"
   ]
  },
  {
   "cell_type": "code",
   "execution_count": 28,
   "id": "ae696228-fddf-4d38-a9ba-87a029433e9e",
   "metadata": {
    "scrolled": true,
    "tags": []
   },
   "outputs": [
    {
     "name": "stdout",
     "output_type": "stream",
     "text": [
      "Fecha\n",
      "Descuento Fecha\n",
      "Abono Emisora Valor ISIN Valor Ejercicio Tipo Importe Bruto\n",
      "21/12/2021 23/12/2021 CLINICA BAVIERA, S.A. CLINICA BAVIERA ES0119037010 A cuenta 2021 Ord. (*)\n",
      "20/12/2021 22/12/2021 VISCOFAN, S.A. VISCOFAN ES0184262212 A cuenta 2021 Ord. (*)\n",
      "17/12/2021 21/12/2021 ENAGAS, S.A. ENAGAS ES0130960018 A cuenta 2021 Ord. (*)\n",
      "17/12/2021 29/12/2021 BRADESPAR,S.A. BRADESPAR ORDINARIAS BRBRAPACNOR5 A cuenta 2021 Ord. (*)\n",
      "17/12/2021 29/12/2021 BRADESPAR,S.A. BRADESPAR PREFERENTES BRBRAPACNPR2 A cuenta 2021 Ord. (*)\n",
      "14/12/2021 16/12/2021 ATRESMEDIA CORP. DE MEDIOS DE COM. S.A. ATRESMEDIA CORP. DE MEDIOS DE COM. ES0109427734 A cuenta 2021 Ord. (*)\n",
      "14/12/2021 16/12/2021 PRIM, S.A. PRIM ES0170884417 A cuenta 2021 Ord. (*)\n",
      "07/12/2021 10/12/2021 HISPANOTELS INVERSIONES SOCIMI, S.A. HISPANOTELS INVERSIONES ES0105379004 RESERVAS 2021 Ord. (*)\n",
      "30/11/2021 02/12/2021 ALTIA CONSULTORES, S.A. ALTIA CONSULTORES ES0113312005 A cuenta 2021 Ord. (*)\n",
      "30/11/2021 02/12/2021 WEALTH RENDITE, SICAV, S.A. WEALTH RENDITE ES0145837037 RESERVAS 2021 Ord. (*)\n",
      "26/11/2021 30/11/2021 MAPFRE, S.A. MAPFRE, S.A. ES0124244E34 A cuenta 2021 Ord. 0,0606\n",
      "26/11/2021 29/11/2021 INVERSIONES DOALCA, SOCIMI, S.A. INVERSIONES DOALCA ES0105120002 A cuenta 2021 Ord. 0,2600\n",
      "24/11/2021 26/11/2021 CASTELLANA PROPERTIES SOCIMI, S.A. CASTELLANA PROPERTIES ES0105360004 A cuenta 2021 Ord. 0,0696\n",
      "23/11/2021 25/11/2021 ARRIENDA RENTAL PROPERTIES SOCIMI,S.A. ARRIENDA RENTAL ES0105383006 A cuenta 2021 Ord. 0,0298\n",
      "22/11/2021 24/11/2021 BEGOINVEST DE INVERSIONES,SICAV,S.A. BEGOINVEST DE INVERSIONES ES0114427034 RESERVAS 2021 Ord. 0,3400\n",
      "19/11/2021 03/12/2021 MERLIN PROPERTIES, SOCIMI, S.A. MERLIN PROPERTIES ES0105025003 A cuenta 2021 Ord. (*)\n",
      "18/11/2021 06/12/2021 COCA-COLA EUROPACIFIC PARTNERS PLC COCA-COLA EUROPACIFIC PARTNERS GB00BDCPN049 A cuenta 2021 Ord. (*)\n",
      "12/11/2021 09/12/2021 APERAM, SOCIETE ANONYME APERAM LU0569974404 A cuenta 2021 Ord. (*)\n",
      "11/11/2021 15/11/2021 RENTA CORPORACION REAL ESTATE, S.A. RENTA CORPORACION ES0173365018 A cuenta 2021 Ord. (*)\n",
      "11/11/2021 15/11/2021 NATURGY ENERGY GROUP, S.A. NATURGY ENERGY GROUP ES0116870314 A cuenta 2021 Ord. (*)\n",
      "10/11/2021 12/11/2021 ALANTRA PARTNERS, S.A. ALANTRA PARTNERS ES0126501131 A cuenta 2021 Ord. (*)\n",
      "09/11/2021 11/11/2021 PREVISION SANITARIA NACIONAL GEST. S.A. PREVISION SANITARIA NACIONAL ES0170756037 A cuenta 2021 Ord. (*)\n",
      "04/11/2021 08/11/2021 AMERICA MOVIL S,A,B, AMERICA MOVIL SERIE L MXP001691213 A cuenta 2021 Ord. (*)\n",
      "03/11/2021 19/11/2021 FERROVIAL, S.A. FERROVIAL ES0118900010 A cuenta 2021 Div. Op. (*)\n",
      "01/11/2021 03/11/2021 FLUIDRA, S.A. FLUIDRA ES0137650018 A cuenta 2021 Ord. (*)\n"
     ]
    }
   ],
   "source": [
    "print(table.text)"
   ]
  },
  {
   "cell_type": "code",
   "execution_count": 29,
   "id": "a46b02fd-c2d0-4fd8-915d-8cb5a88a876a",
   "metadata": {
    "tags": []
   },
   "outputs": [
    {
     "name": "stdout",
     "output_type": "stream",
     "text": [
      "['Fecha\\nDescuento', 'Fecha\\nAbono', 'Emisora', 'Valor', 'ISIN Valor', 'Ejercicio', 'Tipo', 'Importe Bruto']\n"
     ]
    }
   ],
   "source": [
    "columns=[]\n",
    "\n",
    "for element in table.find_elements(By.TAG_NAME, \"th\"):    \n",
    "    columns.append(element.text)\n",
    "    \n",
    "print(columns)"
   ]
  },
  {
   "cell_type": "code",
   "execution_count": 30,
   "id": "90373de8-663e-47c8-b111-957d0c6b2201",
   "metadata": {
    "scrolled": true,
    "tags": []
   },
   "outputs": [
    {
     "name": "stdout",
     "output_type": "stream",
     "text": [
      "['21/12/2021', '23/12/2021', 'CLINICA BAVIERA, S.A.', 'CLINICA BAVIERA', 'ES0119037010', 'A cuenta 2021', 'Ord.', '(*)', '20/12/2021', '22/12/2021', 'VISCOFAN, S.A.', 'VISCOFAN', 'ES0184262212', 'A cuenta 2021', 'Ord.', '(*)', '17/12/2021', '21/12/2021', 'ENAGAS, S.A.', 'ENAGAS', 'ES0130960018', 'A cuenta 2021', 'Ord.', '(*)', '17/12/2021', '29/12/2021', 'BRADESPAR,S.A.', 'BRADESPAR ORDINARIAS', 'BRBRAPACNOR5', 'A cuenta 2021', 'Ord.', '(*)', '17/12/2021', '29/12/2021', 'BRADESPAR,S.A.', 'BRADESPAR PREFERENTES', 'BRBRAPACNPR2', 'A cuenta 2021', 'Ord.', '(*)', '14/12/2021', '16/12/2021', 'ATRESMEDIA CORP. DE MEDIOS DE COM. S.A.', 'ATRESMEDIA CORP. DE MEDIOS DE COM.', 'ES0109427734', 'A cuenta 2021', 'Ord.', '(*)', '14/12/2021', '16/12/2021', 'PRIM, S.A.', 'PRIM', 'ES0170884417', 'A cuenta 2021', 'Ord.', '(*)', '07/12/2021', '10/12/2021', 'HISPANOTELS INVERSIONES SOCIMI, S.A.', 'HISPANOTELS INVERSIONES', 'ES0105379004', 'RESERVAS 2021', 'Ord.', '(*)', '30/11/2021', '02/12/2021', 'ALTIA CONSULTORES, S.A.', 'ALTIA CONSULTORES', 'ES0113312005', 'A cuenta 2021', 'Ord.', '(*)', '30/11/2021', '02/12/2021', 'WEALTH RENDITE, SICAV, S.A.', 'WEALTH RENDITE', 'ES0145837037', 'RESERVAS 2021', 'Ord.', '(*)', '26/11/2021', '30/11/2021', 'MAPFRE, S.A.', 'MAPFRE, S.A.', 'ES0124244E34', 'A cuenta 2021', 'Ord.', '0,0606', '26/11/2021', '29/11/2021', 'INVERSIONES DOALCA, SOCIMI, S.A.', 'INVERSIONES DOALCA', 'ES0105120002', 'A cuenta 2021', 'Ord.', '0,2600', '24/11/2021', '26/11/2021', 'CASTELLANA PROPERTIES SOCIMI, S.A.', 'CASTELLANA PROPERTIES', 'ES0105360004', 'A cuenta 2021', 'Ord.', '0,0696', '23/11/2021', '25/11/2021', 'ARRIENDA RENTAL PROPERTIES SOCIMI,S.A.', 'ARRIENDA RENTAL', 'ES0105383006', 'A cuenta 2021', 'Ord.', '0,0298', '22/11/2021', '24/11/2021', 'BEGOINVEST DE INVERSIONES,SICAV,S.A.', 'BEGOINVEST DE INVERSIONES', 'ES0114427034', 'RESERVAS 2021', 'Ord.', '0,3400', '19/11/2021', '03/12/2021', 'MERLIN PROPERTIES, SOCIMI, S.A.', 'MERLIN PROPERTIES', 'ES0105025003', 'A cuenta 2021', 'Ord.', '(*)', '18/11/2021', '06/12/2021', 'COCA-COLA EUROPACIFIC PARTNERS PLC', 'COCA-COLA EUROPACIFIC PARTNERS', 'GB00BDCPN049', 'A cuenta 2021', 'Ord.', '(*)', '12/11/2021', '09/12/2021', 'APERAM, SOCIETE ANONYME', 'APERAM', 'LU0569974404', 'A cuenta 2021', 'Ord.', '(*)', '11/11/2021', '15/11/2021', 'RENTA CORPORACION REAL ESTATE, S.A.', 'RENTA CORPORACION', 'ES0173365018', 'A cuenta 2021', 'Ord.', '(*)', '11/11/2021', '15/11/2021', 'NATURGY ENERGY GROUP, S.A.', 'NATURGY ENERGY GROUP', 'ES0116870314', 'A cuenta 2021', 'Ord.', '(*)', '10/11/2021', '12/11/2021', 'ALANTRA PARTNERS, S.A.', 'ALANTRA PARTNERS', 'ES0126501131', 'A cuenta 2021', 'Ord.', '(*)', '09/11/2021', '11/11/2021', 'PREVISION SANITARIA NACIONAL GEST. S.A.', 'PREVISION SANITARIA NACIONAL', 'ES0170756037', 'A cuenta 2021', 'Ord.', '(*)', '04/11/2021', '08/11/2021', 'AMERICA MOVIL S,A,B,', 'AMERICA MOVIL SERIE L', 'MXP001691213', 'A cuenta 2021', 'Ord.', '(*)', '03/11/2021', '19/11/2021', 'FERROVIAL, S.A.', 'FERROVIAL', 'ES0118900010', 'A cuenta 2021', 'Div. Op.', '(*)', '01/11/2021', '03/11/2021', 'FLUIDRA, S.A.', 'FLUIDRA', 'ES0137650018', 'A cuenta 2021', 'Ord.', '(*)']\n"
     ]
    }
   ],
   "source": [
    "results=[]\n",
    "\n",
    "for element in table.find_elements(By.TAG_NAME, \"td\"):    \n",
    "    results.append(element.text)\n",
    "\n",
    "print(results)"
   ]
  },
  {
   "cell_type": "code",
   "execution_count": 31,
   "id": "899b8568-e5ff-4eb3-8004-23f4bbdbb807",
   "metadata": {
    "tags": []
   },
   "outputs": [],
   "source": [
    "data = {}\n",
    "for i in range(8):\n",
    "    data[columns[i]]=results[i::8]\n",
    "\n",
    "df = pd.DataFrame(data)"
   ]
  },
  {
   "cell_type": "code",
   "execution_count": 32,
   "id": "53d9e5ec-d31d-4041-b977-cfa125eed6ff",
   "metadata": {
    "scrolled": true,
    "tags": []
   },
   "outputs": [
    {
     "data": {
      "text/html": [
       "<div>\n",
       "<style scoped>\n",
       "    .dataframe tbody tr th:only-of-type {\n",
       "        vertical-align: middle;\n",
       "    }\n",
       "\n",
       "    .dataframe tbody tr th {\n",
       "        vertical-align: top;\n",
       "    }\n",
       "\n",
       "    .dataframe thead th {\n",
       "        text-align: right;\n",
       "    }\n",
       "</style>\n",
       "<table border=\"1\" class=\"dataframe\">\n",
       "  <thead>\n",
       "    <tr style=\"text-align: right;\">\n",
       "      <th></th>\n",
       "      <th>Fecha\\nDescuento</th>\n",
       "      <th>Fecha\\nAbono</th>\n",
       "      <th>Emisora</th>\n",
       "      <th>Valor</th>\n",
       "      <th>ISIN Valor</th>\n",
       "      <th>Ejercicio</th>\n",
       "      <th>Tipo</th>\n",
       "      <th>Importe Bruto</th>\n",
       "    </tr>\n",
       "  </thead>\n",
       "  <tbody>\n",
       "    <tr>\n",
       "      <th>0</th>\n",
       "      <td>21/12/2021</td>\n",
       "      <td>23/12/2021</td>\n",
       "      <td>CLINICA BAVIERA, S.A.</td>\n",
       "      <td>CLINICA BAVIERA</td>\n",
       "      <td>ES0119037010</td>\n",
       "      <td>A cuenta 2021</td>\n",
       "      <td>Ord.</td>\n",
       "      <td>(*)</td>\n",
       "    </tr>\n",
       "    <tr>\n",
       "      <th>1</th>\n",
       "      <td>20/12/2021</td>\n",
       "      <td>22/12/2021</td>\n",
       "      <td>VISCOFAN, S.A.</td>\n",
       "      <td>VISCOFAN</td>\n",
       "      <td>ES0184262212</td>\n",
       "      <td>A cuenta 2021</td>\n",
       "      <td>Ord.</td>\n",
       "      <td>(*)</td>\n",
       "    </tr>\n",
       "    <tr>\n",
       "      <th>2</th>\n",
       "      <td>17/12/2021</td>\n",
       "      <td>21/12/2021</td>\n",
       "      <td>ENAGAS, S.A.</td>\n",
       "      <td>ENAGAS</td>\n",
       "      <td>ES0130960018</td>\n",
       "      <td>A cuenta 2021</td>\n",
       "      <td>Ord.</td>\n",
       "      <td>(*)</td>\n",
       "    </tr>\n",
       "    <tr>\n",
       "      <th>3</th>\n",
       "      <td>17/12/2021</td>\n",
       "      <td>29/12/2021</td>\n",
       "      <td>BRADESPAR,S.A.</td>\n",
       "      <td>BRADESPAR ORDINARIAS</td>\n",
       "      <td>BRBRAPACNOR5</td>\n",
       "      <td>A cuenta 2021</td>\n",
       "      <td>Ord.</td>\n",
       "      <td>(*)</td>\n",
       "    </tr>\n",
       "    <tr>\n",
       "      <th>4</th>\n",
       "      <td>17/12/2021</td>\n",
       "      <td>29/12/2021</td>\n",
       "      <td>BRADESPAR,S.A.</td>\n",
       "      <td>BRADESPAR PREFERENTES</td>\n",
       "      <td>BRBRAPACNPR2</td>\n",
       "      <td>A cuenta 2021</td>\n",
       "      <td>Ord.</td>\n",
       "      <td>(*)</td>\n",
       "    </tr>\n",
       "    <tr>\n",
       "      <th>5</th>\n",
       "      <td>14/12/2021</td>\n",
       "      <td>16/12/2021</td>\n",
       "      <td>ATRESMEDIA CORP. DE MEDIOS DE COM. S.A.</td>\n",
       "      <td>ATRESMEDIA CORP. DE MEDIOS DE COM.</td>\n",
       "      <td>ES0109427734</td>\n",
       "      <td>A cuenta 2021</td>\n",
       "      <td>Ord.</td>\n",
       "      <td>(*)</td>\n",
       "    </tr>\n",
       "    <tr>\n",
       "      <th>6</th>\n",
       "      <td>14/12/2021</td>\n",
       "      <td>16/12/2021</td>\n",
       "      <td>PRIM, S.A.</td>\n",
       "      <td>PRIM</td>\n",
       "      <td>ES0170884417</td>\n",
       "      <td>A cuenta 2021</td>\n",
       "      <td>Ord.</td>\n",
       "      <td>(*)</td>\n",
       "    </tr>\n",
       "    <tr>\n",
       "      <th>7</th>\n",
       "      <td>07/12/2021</td>\n",
       "      <td>10/12/2021</td>\n",
       "      <td>HISPANOTELS INVERSIONES SOCIMI, S.A.</td>\n",
       "      <td>HISPANOTELS INVERSIONES</td>\n",
       "      <td>ES0105379004</td>\n",
       "      <td>RESERVAS 2021</td>\n",
       "      <td>Ord.</td>\n",
       "      <td>(*)</td>\n",
       "    </tr>\n",
       "    <tr>\n",
       "      <th>8</th>\n",
       "      <td>30/11/2021</td>\n",
       "      <td>02/12/2021</td>\n",
       "      <td>ALTIA CONSULTORES, S.A.</td>\n",
       "      <td>ALTIA CONSULTORES</td>\n",
       "      <td>ES0113312005</td>\n",
       "      <td>A cuenta 2021</td>\n",
       "      <td>Ord.</td>\n",
       "      <td>(*)</td>\n",
       "    </tr>\n",
       "    <tr>\n",
       "      <th>9</th>\n",
       "      <td>30/11/2021</td>\n",
       "      <td>02/12/2021</td>\n",
       "      <td>WEALTH RENDITE, SICAV, S.A.</td>\n",
       "      <td>WEALTH RENDITE</td>\n",
       "      <td>ES0145837037</td>\n",
       "      <td>RESERVAS 2021</td>\n",
       "      <td>Ord.</td>\n",
       "      <td>(*)</td>\n",
       "    </tr>\n",
       "    <tr>\n",
       "      <th>10</th>\n",
       "      <td>26/11/2021</td>\n",
       "      <td>30/11/2021</td>\n",
       "      <td>MAPFRE, S.A.</td>\n",
       "      <td>MAPFRE, S.A.</td>\n",
       "      <td>ES0124244E34</td>\n",
       "      <td>A cuenta 2021</td>\n",
       "      <td>Ord.</td>\n",
       "      <td>0,0606</td>\n",
       "    </tr>\n",
       "    <tr>\n",
       "      <th>11</th>\n",
       "      <td>26/11/2021</td>\n",
       "      <td>29/11/2021</td>\n",
       "      <td>INVERSIONES DOALCA, SOCIMI, S.A.</td>\n",
       "      <td>INVERSIONES DOALCA</td>\n",
       "      <td>ES0105120002</td>\n",
       "      <td>A cuenta 2021</td>\n",
       "      <td>Ord.</td>\n",
       "      <td>0,2600</td>\n",
       "    </tr>\n",
       "    <tr>\n",
       "      <th>12</th>\n",
       "      <td>24/11/2021</td>\n",
       "      <td>26/11/2021</td>\n",
       "      <td>CASTELLANA PROPERTIES SOCIMI, S.A.</td>\n",
       "      <td>CASTELLANA PROPERTIES</td>\n",
       "      <td>ES0105360004</td>\n",
       "      <td>A cuenta 2021</td>\n",
       "      <td>Ord.</td>\n",
       "      <td>0,0696</td>\n",
       "    </tr>\n",
       "    <tr>\n",
       "      <th>13</th>\n",
       "      <td>23/11/2021</td>\n",
       "      <td>25/11/2021</td>\n",
       "      <td>ARRIENDA RENTAL PROPERTIES SOCIMI,S.A.</td>\n",
       "      <td>ARRIENDA RENTAL</td>\n",
       "      <td>ES0105383006</td>\n",
       "      <td>A cuenta 2021</td>\n",
       "      <td>Ord.</td>\n",
       "      <td>0,0298</td>\n",
       "    </tr>\n",
       "    <tr>\n",
       "      <th>14</th>\n",
       "      <td>22/11/2021</td>\n",
       "      <td>24/11/2021</td>\n",
       "      <td>BEGOINVEST DE INVERSIONES,SICAV,S.A.</td>\n",
       "      <td>BEGOINVEST DE INVERSIONES</td>\n",
       "      <td>ES0114427034</td>\n",
       "      <td>RESERVAS 2021</td>\n",
       "      <td>Ord.</td>\n",
       "      <td>0,3400</td>\n",
       "    </tr>\n",
       "    <tr>\n",
       "      <th>15</th>\n",
       "      <td>19/11/2021</td>\n",
       "      <td>03/12/2021</td>\n",
       "      <td>MERLIN PROPERTIES, SOCIMI, S.A.</td>\n",
       "      <td>MERLIN PROPERTIES</td>\n",
       "      <td>ES0105025003</td>\n",
       "      <td>A cuenta 2021</td>\n",
       "      <td>Ord.</td>\n",
       "      <td>(*)</td>\n",
       "    </tr>\n",
       "    <tr>\n",
       "      <th>16</th>\n",
       "      <td>18/11/2021</td>\n",
       "      <td>06/12/2021</td>\n",
       "      <td>COCA-COLA EUROPACIFIC PARTNERS PLC</td>\n",
       "      <td>COCA-COLA EUROPACIFIC PARTNERS</td>\n",
       "      <td>GB00BDCPN049</td>\n",
       "      <td>A cuenta 2021</td>\n",
       "      <td>Ord.</td>\n",
       "      <td>(*)</td>\n",
       "    </tr>\n",
       "    <tr>\n",
       "      <th>17</th>\n",
       "      <td>12/11/2021</td>\n",
       "      <td>09/12/2021</td>\n",
       "      <td>APERAM, SOCIETE ANONYME</td>\n",
       "      <td>APERAM</td>\n",
       "      <td>LU0569974404</td>\n",
       "      <td>A cuenta 2021</td>\n",
       "      <td>Ord.</td>\n",
       "      <td>(*)</td>\n",
       "    </tr>\n",
       "    <tr>\n",
       "      <th>18</th>\n",
       "      <td>11/11/2021</td>\n",
       "      <td>15/11/2021</td>\n",
       "      <td>RENTA CORPORACION REAL ESTATE, S.A.</td>\n",
       "      <td>RENTA CORPORACION</td>\n",
       "      <td>ES0173365018</td>\n",
       "      <td>A cuenta 2021</td>\n",
       "      <td>Ord.</td>\n",
       "      <td>(*)</td>\n",
       "    </tr>\n",
       "    <tr>\n",
       "      <th>19</th>\n",
       "      <td>11/11/2021</td>\n",
       "      <td>15/11/2021</td>\n",
       "      <td>NATURGY ENERGY GROUP, S.A.</td>\n",
       "      <td>NATURGY ENERGY GROUP</td>\n",
       "      <td>ES0116870314</td>\n",
       "      <td>A cuenta 2021</td>\n",
       "      <td>Ord.</td>\n",
       "      <td>(*)</td>\n",
       "    </tr>\n",
       "    <tr>\n",
       "      <th>20</th>\n",
       "      <td>10/11/2021</td>\n",
       "      <td>12/11/2021</td>\n",
       "      <td>ALANTRA PARTNERS, S.A.</td>\n",
       "      <td>ALANTRA PARTNERS</td>\n",
       "      <td>ES0126501131</td>\n",
       "      <td>A cuenta 2021</td>\n",
       "      <td>Ord.</td>\n",
       "      <td>(*)</td>\n",
       "    </tr>\n",
       "    <tr>\n",
       "      <th>21</th>\n",
       "      <td>09/11/2021</td>\n",
       "      <td>11/11/2021</td>\n",
       "      <td>PREVISION SANITARIA NACIONAL GEST. S.A.</td>\n",
       "      <td>PREVISION SANITARIA NACIONAL</td>\n",
       "      <td>ES0170756037</td>\n",
       "      <td>A cuenta 2021</td>\n",
       "      <td>Ord.</td>\n",
       "      <td>(*)</td>\n",
       "    </tr>\n",
       "    <tr>\n",
       "      <th>22</th>\n",
       "      <td>04/11/2021</td>\n",
       "      <td>08/11/2021</td>\n",
       "      <td>AMERICA MOVIL S,A,B,</td>\n",
       "      <td>AMERICA MOVIL SERIE L</td>\n",
       "      <td>MXP001691213</td>\n",
       "      <td>A cuenta 2021</td>\n",
       "      <td>Ord.</td>\n",
       "      <td>(*)</td>\n",
       "    </tr>\n",
       "    <tr>\n",
       "      <th>23</th>\n",
       "      <td>03/11/2021</td>\n",
       "      <td>19/11/2021</td>\n",
       "      <td>FERROVIAL, S.A.</td>\n",
       "      <td>FERROVIAL</td>\n",
       "      <td>ES0118900010</td>\n",
       "      <td>A cuenta 2021</td>\n",
       "      <td>Div. Op.</td>\n",
       "      <td>(*)</td>\n",
       "    </tr>\n",
       "    <tr>\n",
       "      <th>24</th>\n",
       "      <td>01/11/2021</td>\n",
       "      <td>03/11/2021</td>\n",
       "      <td>FLUIDRA, S.A.</td>\n",
       "      <td>FLUIDRA</td>\n",
       "      <td>ES0137650018</td>\n",
       "      <td>A cuenta 2021</td>\n",
       "      <td>Ord.</td>\n",
       "      <td>(*)</td>\n",
       "    </tr>\n",
       "  </tbody>\n",
       "</table>\n",
       "</div>"
      ],
      "text/plain": [
       "   Fecha\\nDescuento Fecha\\nAbono                                  Emisora  \\\n",
       "0        21/12/2021   23/12/2021                    CLINICA BAVIERA, S.A.   \n",
       "1        20/12/2021   22/12/2021                           VISCOFAN, S.A.   \n",
       "2        17/12/2021   21/12/2021                             ENAGAS, S.A.   \n",
       "3        17/12/2021   29/12/2021                           BRADESPAR,S.A.   \n",
       "4        17/12/2021   29/12/2021                           BRADESPAR,S.A.   \n",
       "5        14/12/2021   16/12/2021  ATRESMEDIA CORP. DE MEDIOS DE COM. S.A.   \n",
       "6        14/12/2021   16/12/2021                               PRIM, S.A.   \n",
       "7        07/12/2021   10/12/2021     HISPANOTELS INVERSIONES SOCIMI, S.A.   \n",
       "8        30/11/2021   02/12/2021                  ALTIA CONSULTORES, S.A.   \n",
       "9        30/11/2021   02/12/2021              WEALTH RENDITE, SICAV, S.A.   \n",
       "10       26/11/2021   30/11/2021                             MAPFRE, S.A.   \n",
       "11       26/11/2021   29/11/2021         INVERSIONES DOALCA, SOCIMI, S.A.   \n",
       "12       24/11/2021   26/11/2021       CASTELLANA PROPERTIES SOCIMI, S.A.   \n",
       "13       23/11/2021   25/11/2021   ARRIENDA RENTAL PROPERTIES SOCIMI,S.A.   \n",
       "14       22/11/2021   24/11/2021     BEGOINVEST DE INVERSIONES,SICAV,S.A.   \n",
       "15       19/11/2021   03/12/2021          MERLIN PROPERTIES, SOCIMI, S.A.   \n",
       "16       18/11/2021   06/12/2021       COCA-COLA EUROPACIFIC PARTNERS PLC   \n",
       "17       12/11/2021   09/12/2021                  APERAM, SOCIETE ANONYME   \n",
       "18       11/11/2021   15/11/2021      RENTA CORPORACION REAL ESTATE, S.A.   \n",
       "19       11/11/2021   15/11/2021               NATURGY ENERGY GROUP, S.A.   \n",
       "20       10/11/2021   12/11/2021                   ALANTRA PARTNERS, S.A.   \n",
       "21       09/11/2021   11/11/2021  PREVISION SANITARIA NACIONAL GEST. S.A.   \n",
       "22       04/11/2021   08/11/2021                     AMERICA MOVIL S,A,B,   \n",
       "23       03/11/2021   19/11/2021                          FERROVIAL, S.A.   \n",
       "24       01/11/2021   03/11/2021                            FLUIDRA, S.A.   \n",
       "\n",
       "                                 Valor    ISIN Valor      Ejercicio      Tipo  \\\n",
       "0                      CLINICA BAVIERA  ES0119037010  A cuenta 2021      Ord.   \n",
       "1                             VISCOFAN  ES0184262212  A cuenta 2021      Ord.   \n",
       "2                               ENAGAS  ES0130960018  A cuenta 2021      Ord.   \n",
       "3                 BRADESPAR ORDINARIAS  BRBRAPACNOR5  A cuenta 2021      Ord.   \n",
       "4                BRADESPAR PREFERENTES  BRBRAPACNPR2  A cuenta 2021      Ord.   \n",
       "5   ATRESMEDIA CORP. DE MEDIOS DE COM.  ES0109427734  A cuenta 2021      Ord.   \n",
       "6                                 PRIM  ES0170884417  A cuenta 2021      Ord.   \n",
       "7              HISPANOTELS INVERSIONES  ES0105379004  RESERVAS 2021      Ord.   \n",
       "8                    ALTIA CONSULTORES  ES0113312005  A cuenta 2021      Ord.   \n",
       "9                       WEALTH RENDITE  ES0145837037  RESERVAS 2021      Ord.   \n",
       "10                        MAPFRE, S.A.  ES0124244E34  A cuenta 2021      Ord.   \n",
       "11                  INVERSIONES DOALCA  ES0105120002  A cuenta 2021      Ord.   \n",
       "12               CASTELLANA PROPERTIES  ES0105360004  A cuenta 2021      Ord.   \n",
       "13                     ARRIENDA RENTAL  ES0105383006  A cuenta 2021      Ord.   \n",
       "14           BEGOINVEST DE INVERSIONES  ES0114427034  RESERVAS 2021      Ord.   \n",
       "15                   MERLIN PROPERTIES  ES0105025003  A cuenta 2021      Ord.   \n",
       "16      COCA-COLA EUROPACIFIC PARTNERS  GB00BDCPN049  A cuenta 2021      Ord.   \n",
       "17                              APERAM  LU0569974404  A cuenta 2021      Ord.   \n",
       "18                   RENTA CORPORACION  ES0173365018  A cuenta 2021      Ord.   \n",
       "19                NATURGY ENERGY GROUP  ES0116870314  A cuenta 2021      Ord.   \n",
       "20                    ALANTRA PARTNERS  ES0126501131  A cuenta 2021      Ord.   \n",
       "21        PREVISION SANITARIA NACIONAL  ES0170756037  A cuenta 2021      Ord.   \n",
       "22               AMERICA MOVIL SERIE L  MXP001691213  A cuenta 2021      Ord.   \n",
       "23                           FERROVIAL  ES0118900010  A cuenta 2021  Div. Op.   \n",
       "24                             FLUIDRA  ES0137650018  A cuenta 2021      Ord.   \n",
       "\n",
       "   Importe Bruto  \n",
       "0            (*)  \n",
       "1            (*)  \n",
       "2            (*)  \n",
       "3            (*)  \n",
       "4            (*)  \n",
       "5            (*)  \n",
       "6            (*)  \n",
       "7            (*)  \n",
       "8            (*)  \n",
       "9            (*)  \n",
       "10        0,0606  \n",
       "11        0,2600  \n",
       "12        0,0696  \n",
       "13        0,0298  \n",
       "14        0,3400  \n",
       "15           (*)  \n",
       "16           (*)  \n",
       "17           (*)  \n",
       "18           (*)  \n",
       "19           (*)  \n",
       "20           (*)  \n",
       "21           (*)  \n",
       "22           (*)  \n",
       "23           (*)  \n",
       "24           (*)  "
      ]
     },
     "execution_count": 32,
     "metadata": {},
     "output_type": "execute_result"
    }
   ],
   "source": [
    "df"
   ]
  },
  {
   "cell_type": "code",
   "execution_count": 33,
   "id": "6b6670d7-6045-4357-9510-292bf23bf34e",
   "metadata": {
    "tags": []
   },
   "outputs": [],
   "source": [
    "df.to_csv('Dividents.csv')\n",
    "browser.close()\n",
    "quit()"
   ]
  },
  {
   "cell_type": "markdown",
   "id": "9766a0d9-a04f-43cd-a5c2-c3612daf63c3",
   "metadata": {},
   "source": [
    "## Level 2"
   ]
  },
  {
   "cell_type": "markdown",
   "id": "a1092661-23bf-460c-aa83-09a3819c1e5b",
   "metadata": {},
   "source": [
    "### Exercise 2"
   ]
  },
  {
   "cell_type": "markdown",
   "id": "d3b2b516-e805-473e-a670-79fea7a4c606",
   "metadata": {},
   "source": [
    "#### Describe relevant information about the created dataset"
   ]
  },
  {
   "cell_type": "markdown",
   "id": "be9a5ec2-f83e-4c02-94d0-612f03e53b6d",
   "metadata": {},
   "source": [
    "### Dataset Indices Summary from Madrid Stock Exchange"
   ]
  },
  {
   "cell_type": "markdown",
   "id": "086df630-826d-4ebb-b3cf-ee8034d856bf",
   "metadata": {},
   "source": [
    "#### Context"
   ]
  },
  {
   "cell_type": "markdown",
   "id": "c37f83f1-b719-4e53-a378-c62c6d3b829b",
   "metadata": {},
   "source": [
    "The dataset consists of set of price data for indices tracking stock exchanges from Spain. The data was all collected from Madrid Stock Exchange website 17.11.2021 at 9:50AM.\n",
    "\n",
    "Prices are quoted in euros.\n",
    "\n",
    "This dataset was created is a result of webscraping test and is designed to be a playground for pre-processing and technical analysis."
   ]
  },
  {
   "cell_type": "markdown",
   "id": "904294b6-68a3-4535-bee0-e2dbd47815b9",
   "metadata": {},
   "source": [
    "#### Content"
   ]
  },
  {
   "cell_type": "markdown",
   "id": "d5271175-0259-4997-ba3f-c1777c2b6e2f",
   "metadata": {},
   "source": [
    "Indices.csv: prices for indices tracking stock exchanges\n",
    "\n",
    "The categories of this dataset: \n",
    "- Nombre - Name of inex\n",
    "- Anterior - Previous price\n",
    "- Último - Previous price\n",
    "- % Dif. - Difference of prices in %\n",
    "- Máximo - High\n",
    "- Mínimo - Low\n",
    "- Fecha - Date\n",
    "- Hora - Hour\n",
    "- % Dif.Año 2021 - Difference of prices for 2021 in %"
   ]
  },
  {
   "cell_type": "markdown",
   "id": "487ee5c8-e4a1-413d-ad9a-88b85d3f15ec",
   "metadata": {},
   "source": [
    "#### Acknowledgements"
   ]
  },
  {
   "cell_type": "markdown",
   "id": "f7a86352-8311-48aa-8085-44af7d14dbd0",
   "metadata": {},
   "source": [
    "- Source: https://www.bolsamadrid.es\n",
    "- Github: https://github.com/dominikapetru/web_scraping"
   ]
  },
  {
   "cell_type": "code",
   "execution_count": 2,
   "id": "ddb84abc-c0a1-42b1-8f3f-bbef5f181ae0",
   "metadata": {
    "tags": []
   },
   "outputs": [
    {
     "data": {
      "text/html": [
       "<div>\n",
       "<style scoped>\n",
       "    .dataframe tbody tr th:only-of-type {\n",
       "        vertical-align: middle;\n",
       "    }\n",
       "\n",
       "    .dataframe tbody tr th {\n",
       "        vertical-align: top;\n",
       "    }\n",
       "\n",
       "    .dataframe thead th {\n",
       "        text-align: right;\n",
       "    }\n",
       "</style>\n",
       "<table border=\"1\" class=\"dataframe\">\n",
       "  <thead>\n",
       "    <tr style=\"text-align: right;\">\n",
       "      <th></th>\n",
       "      <th>Unnamed: 0</th>\n",
       "      <th>Nombre</th>\n",
       "      <th>Anterior</th>\n",
       "      <th>Último</th>\n",
       "      <th>% Dif.</th>\n",
       "      <th>Máximo</th>\n",
       "      <th>Mínimo</th>\n",
       "      <th>Fecha</th>\n",
       "      <th>Hora</th>\n",
       "      <th>% Dif.Año 2021</th>\n",
       "    </tr>\n",
       "  </thead>\n",
       "  <tbody>\n",
       "    <tr>\n",
       "      <th>0</th>\n",
       "      <td>0</td>\n",
       "      <td>IBEX 35®</td>\n",
       "      <td>8.402,70</td>\n",
       "      <td>8.455,20</td>\n",
       "      <td>0,62</td>\n",
       "      <td>8.562,00</td>\n",
       "      <td>8.431,70</td>\n",
       "      <td>29/11/2021</td>\n",
       "      <td>17:38:00</td>\n",
       "      <td>4,73</td>\n",
       "    </tr>\n",
       "    <tr>\n",
       "      <th>1</th>\n",
       "      <td>1</td>\n",
       "      <td>IBEX 35® con Dividendos</td>\n",
       "      <td>25.846,10</td>\n",
       "      <td>26.007,70</td>\n",
       "      <td>0,63</td>\n",
       "      <td>26.336,20</td>\n",
       "      <td>25.935,40</td>\n",
       "      <td>29/11/2021</td>\n",
       "      <td>17:38:00</td>\n",
       "      <td>7,20</td>\n",
       "    </tr>\n",
       "    <tr>\n",
       "      <th>2</th>\n",
       "      <td>2</td>\n",
       "      <td>IBEX MEDIUM CAP®</td>\n",
       "      <td>12.992,60</td>\n",
       "      <td>13.071,80</td>\n",
       "      <td>0,61</td>\n",
       "      <td>13.183,00</td>\n",
       "      <td>13.029,90</td>\n",
       "      <td>29/11/2021</td>\n",
       "      <td>17:38:00</td>\n",
       "      <td>2,80</td>\n",
       "    </tr>\n",
       "    <tr>\n",
       "      <th>3</th>\n",
       "      <td>3</td>\n",
       "      <td>IBEX SMALL CAP®</td>\n",
       "      <td>7.862,50</td>\n",
       "      <td>7.874,30</td>\n",
       "      <td>0,15</td>\n",
       "      <td>7.966,40</td>\n",
       "      <td>7.866,60</td>\n",
       "      <td>29/11/2021</td>\n",
       "      <td>17:38:00</td>\n",
       "      <td>-2,76</td>\n",
       "    </tr>\n",
       "    <tr>\n",
       "      <th>4</th>\n",
       "      <td>4</td>\n",
       "      <td>IBEX 35® Bancos</td>\n",
       "      <td>435,20</td>\n",
       "      <td>434,30</td>\n",
       "      <td>-0,21</td>\n",
       "      <td>445,90</td>\n",
       "      <td>433,40</td>\n",
       "      <td>29/11/2021</td>\n",
       "      <td>17:38:00</td>\n",
       "      <td>15,47</td>\n",
       "    </tr>\n",
       "  </tbody>\n",
       "</table>\n",
       "</div>"
      ],
      "text/plain": [
       "   Unnamed: 0                   Nombre   Anterior     Último % Dif.  \\\n",
       "0           0                 IBEX 35®   8.402,70   8.455,20   0,62   \n",
       "1           1  IBEX 35® con Dividendos  25.846,10  26.007,70   0,63   \n",
       "2           2         IBEX MEDIUM CAP®  12.992,60  13.071,80   0,61   \n",
       "3           3          IBEX SMALL CAP®   7.862,50   7.874,30   0,15   \n",
       "4           4          IBEX 35® Bancos     435,20     434,30  -0,21   \n",
       "\n",
       "      Máximo     Mínimo       Fecha      Hora % Dif.Año 2021  \n",
       "0   8.562,00   8.431,70  29/11/2021  17:38:00           4,73  \n",
       "1  26.336,20  25.935,40  29/11/2021  17:38:00           7,20  \n",
       "2  13.183,00  13.029,90  29/11/2021  17:38:00           2,80  \n",
       "3   7.966,40   7.866,60  29/11/2021  17:38:00          -2,76  \n",
       "4     445,90     433,40  29/11/2021  17:38:00          15,47  "
      ]
     },
     "execution_count": 2,
     "metadata": {},
     "output_type": "execute_result"
    }
   ],
   "source": [
    "df = pd.read_csv('Indices.csv')\n",
    "df.head(5)"
   ]
  },
  {
   "cell_type": "code",
   "execution_count": 3,
   "id": "83c10cdf-5d6a-4087-888a-7fab2766d22f",
   "metadata": {
    "tags": []
   },
   "outputs": [],
   "source": [
    "df.drop('Unnamed: 0', axis=1, inplace=True)"
   ]
  },
  {
   "cell_type": "code",
   "execution_count": 4,
   "id": "4301895d-4d7e-4b75-8f9d-936c8346f150",
   "metadata": {
    "tags": []
   },
   "outputs": [
    {
     "name": "stdout",
     "output_type": "stream",
     "text": [
      "<class 'pandas.core.frame.DataFrame'>\n",
      "RangeIndex: 78 entries, 0 to 77\n",
      "Data columns (total 9 columns):\n",
      " #   Column          Non-Null Count  Dtype \n",
      "---  ------          --------------  ----- \n",
      " 0   Nombre          78 non-null     object\n",
      " 1   Anterior        78 non-null     object\n",
      " 2   Último          78 non-null     object\n",
      " 3   % Dif.          78 non-null     object\n",
      " 4   Máximo          78 non-null     object\n",
      " 5   Mínimo          78 non-null     object\n",
      " 6   Fecha           78 non-null     object\n",
      " 7   Hora            78 non-null     object\n",
      " 8   % Dif.Año 2021  78 non-null     object\n",
      "dtypes: object(9)\n",
      "memory usage: 5.6+ KB\n"
     ]
    }
   ],
   "source": [
    "df.info()"
   ]
  },
  {
   "cell_type": "code",
   "execution_count": 5,
   "id": "c54500ce-a630-4bfb-bb59-af686730cefc",
   "metadata": {
    "tags": []
   },
   "outputs": [
    {
     "data": {
      "text/html": [
       "<div>\n",
       "<style scoped>\n",
       "    .dataframe tbody tr th:only-of-type {\n",
       "        vertical-align: middle;\n",
       "    }\n",
       "\n",
       "    .dataframe tbody tr th {\n",
       "        vertical-align: top;\n",
       "    }\n",
       "\n",
       "    .dataframe thead th {\n",
       "        text-align: right;\n",
       "    }\n",
       "</style>\n",
       "<table border=\"1\" class=\"dataframe\">\n",
       "  <thead>\n",
       "    <tr style=\"text-align: right;\">\n",
       "      <th></th>\n",
       "      <th>Nombre</th>\n",
       "      <th>Anterior</th>\n",
       "      <th>Último</th>\n",
       "      <th>% Dif.</th>\n",
       "      <th>Máximo</th>\n",
       "      <th>Mínimo</th>\n",
       "      <th>Fecha</th>\n",
       "      <th>Hora</th>\n",
       "      <th>% Dif.Año 2021</th>\n",
       "    </tr>\n",
       "  </thead>\n",
       "  <tbody>\n",
       "    <tr>\n",
       "      <th>0</th>\n",
       "      <td>IBEX 35®</td>\n",
       "      <td>8402.7</td>\n",
       "      <td>8455.2</td>\n",
       "      <td>0.62</td>\n",
       "      <td>8562.0</td>\n",
       "      <td>8431.7</td>\n",
       "      <td>29/11/2021</td>\n",
       "      <td>17:38:00</td>\n",
       "      <td>4.73</td>\n",
       "    </tr>\n",
       "    <tr>\n",
       "      <th>1</th>\n",
       "      <td>IBEX 35® con Dividendos</td>\n",
       "      <td>25846.1</td>\n",
       "      <td>26007.7</td>\n",
       "      <td>0.63</td>\n",
       "      <td>26336.2</td>\n",
       "      <td>25935.4</td>\n",
       "      <td>29/11/2021</td>\n",
       "      <td>17:38:00</td>\n",
       "      <td>7.20</td>\n",
       "    </tr>\n",
       "    <tr>\n",
       "      <th>2</th>\n",
       "      <td>IBEX MEDIUM CAP®</td>\n",
       "      <td>12992.6</td>\n",
       "      <td>13071.8</td>\n",
       "      <td>0.61</td>\n",
       "      <td>13183.0</td>\n",
       "      <td>13029.9</td>\n",
       "      <td>29/11/2021</td>\n",
       "      <td>17:38:00</td>\n",
       "      <td>2.80</td>\n",
       "    </tr>\n",
       "    <tr>\n",
       "      <th>3</th>\n",
       "      <td>IBEX SMALL CAP®</td>\n",
       "      <td>7862.5</td>\n",
       "      <td>7874.3</td>\n",
       "      <td>0.15</td>\n",
       "      <td>7966.4</td>\n",
       "      <td>7866.6</td>\n",
       "      <td>29/11/2021</td>\n",
       "      <td>17:38:00</td>\n",
       "      <td>-2.76</td>\n",
       "    </tr>\n",
       "    <tr>\n",
       "      <th>4</th>\n",
       "      <td>IBEX 35® Bancos</td>\n",
       "      <td>435.2</td>\n",
       "      <td>434.3</td>\n",
       "      <td>-0.21</td>\n",
       "      <td>445.9</td>\n",
       "      <td>433.4</td>\n",
       "      <td>29/11/2021</td>\n",
       "      <td>17:38:00</td>\n",
       "      <td>15.47</td>\n",
       "    </tr>\n",
       "  </tbody>\n",
       "</table>\n",
       "</div>"
      ],
      "text/plain": [
       "                    Nombre  Anterior   Último % Dif.   Máximo   Mínimo  \\\n",
       "0                 IBEX 35®    8402.7   8455.2   0.62   8562.0   8431.7   \n",
       "1  IBEX 35® con Dividendos   25846.1  26007.7   0.63  26336.2  25935.4   \n",
       "2         IBEX MEDIUM CAP®   12992.6  13071.8   0.61  13183.0  13029.9   \n",
       "3          IBEX SMALL CAP®    7862.5   7874.3   0.15   7966.4   7866.6   \n",
       "4          IBEX 35® Bancos     435.2    434.3  -0.21    445.9    433.4   \n",
       "\n",
       "        Fecha      Hora % Dif.Año 2021  \n",
       "0  29/11/2021  17:38:00           4.73  \n",
       "1  29/11/2021  17:38:00           7.20  \n",
       "2  29/11/2021  17:38:00           2.80  \n",
       "3  29/11/2021  17:38:00          -2.76  \n",
       "4  29/11/2021  17:38:00          15.47  "
      ]
     },
     "execution_count": 5,
     "metadata": {},
     "output_type": "execute_result"
    }
   ],
   "source": [
    "df['Anterior'] = df['Anterior'].str.replace('.','').str.replace(',','.').astype(float)\n",
    "df['Último'] = df['Último'].str.replace('.','').str.replace(',','.').astype(float)\n",
    "df['% Dif.'] = df['% Dif.'].str.replace(',','.')\n",
    "df['Máximo'] = df['Máximo'].str.replace('.','').str.replace(',','.').astype(float)\n",
    "df['Mínimo'] = df['Mínimo'].str.replace('.','').str.replace(',','.').astype(float)\n",
    "df['% Dif.Año 2021'] = df['% Dif.Año 2021'].str.replace(',','.')\n",
    "\n",
    "df.head(5)"
   ]
  },
  {
   "cell_type": "code",
   "execution_count": 6,
   "id": "75482e4b-f300-4db8-9cb1-031c002b8858",
   "metadata": {
    "tags": []
   },
   "outputs": [
    {
     "data": {
      "text/plain": [
       "78"
      ]
     },
     "execution_count": 6,
     "metadata": {},
     "output_type": "execute_result"
    }
   ],
   "source": [
    "list = len(df)\n",
    "list"
   ]
  },
  {
   "cell_type": "code",
   "execution_count": 7,
   "id": "aa819e90-c4ce-408d-8eb5-e40632ec1563",
   "metadata": {
    "tags": []
   },
   "outputs": [],
   "source": [
    "#negative values - conversion to float\n",
    "for i in range (list):\n",
    "    df['% Dif.'] = df.at[i,'% Dif.'].replace('\\U00002013', '-')\n",
    "    df['% Dif.Año 2021'] = df.at[i,'% Dif.Año 2021'].replace('\\U00002013', '-')"
   ]
  },
  {
   "cell_type": "code",
   "execution_count": 8,
   "id": "12910ab5-baa7-4ea2-abfa-a0c716542112",
   "metadata": {
    "tags": []
   },
   "outputs": [
    {
     "data": {
      "text/html": [
       "<div>\n",
       "<style scoped>\n",
       "    .dataframe tbody tr th:only-of-type {\n",
       "        vertical-align: middle;\n",
       "    }\n",
       "\n",
       "    .dataframe tbody tr th {\n",
       "        vertical-align: top;\n",
       "    }\n",
       "\n",
       "    .dataframe thead th {\n",
       "        text-align: right;\n",
       "    }\n",
       "</style>\n",
       "<table border=\"1\" class=\"dataframe\">\n",
       "  <thead>\n",
       "    <tr style=\"text-align: right;\">\n",
       "      <th></th>\n",
       "      <th>Nombre</th>\n",
       "      <th>Anterior</th>\n",
       "      <th>Último</th>\n",
       "      <th>% Dif.</th>\n",
       "      <th>Máximo</th>\n",
       "      <th>Mínimo</th>\n",
       "      <th>Fecha</th>\n",
       "      <th>Hora</th>\n",
       "      <th>% Dif.Año 2021</th>\n",
       "    </tr>\n",
       "  </thead>\n",
       "  <tbody>\n",
       "    <tr>\n",
       "      <th>0</th>\n",
       "      <td>IBEX 35®</td>\n",
       "      <td>8402.7</td>\n",
       "      <td>8455.2</td>\n",
       "      <td>0.62</td>\n",
       "      <td>8562.0</td>\n",
       "      <td>8431.7</td>\n",
       "      <td>29/11/2021</td>\n",
       "      <td>17:38:00</td>\n",
       "      <td>4.73</td>\n",
       "    </tr>\n",
       "    <tr>\n",
       "      <th>1</th>\n",
       "      <td>IBEX 35® con Dividendos</td>\n",
       "      <td>25846.1</td>\n",
       "      <td>26007.7</td>\n",
       "      <td>0.62</td>\n",
       "      <td>26336.2</td>\n",
       "      <td>25935.4</td>\n",
       "      <td>29/11/2021</td>\n",
       "      <td>17:38:00</td>\n",
       "      <td>4.73</td>\n",
       "    </tr>\n",
       "    <tr>\n",
       "      <th>2</th>\n",
       "      <td>IBEX MEDIUM CAP®</td>\n",
       "      <td>12992.6</td>\n",
       "      <td>13071.8</td>\n",
       "      <td>0.62</td>\n",
       "      <td>13183.0</td>\n",
       "      <td>13029.9</td>\n",
       "      <td>29/11/2021</td>\n",
       "      <td>17:38:00</td>\n",
       "      <td>4.73</td>\n",
       "    </tr>\n",
       "    <tr>\n",
       "      <th>3</th>\n",
       "      <td>IBEX SMALL CAP®</td>\n",
       "      <td>7862.5</td>\n",
       "      <td>7874.3</td>\n",
       "      <td>0.62</td>\n",
       "      <td>7966.4</td>\n",
       "      <td>7866.6</td>\n",
       "      <td>29/11/2021</td>\n",
       "      <td>17:38:00</td>\n",
       "      <td>4.73</td>\n",
       "    </tr>\n",
       "    <tr>\n",
       "      <th>4</th>\n",
       "      <td>IBEX 35® Bancos</td>\n",
       "      <td>435.2</td>\n",
       "      <td>434.3</td>\n",
       "      <td>0.62</td>\n",
       "      <td>445.9</td>\n",
       "      <td>433.4</td>\n",
       "      <td>29/11/2021</td>\n",
       "      <td>17:38:00</td>\n",
       "      <td>4.73</td>\n",
       "    </tr>\n",
       "  </tbody>\n",
       "</table>\n",
       "</div>"
      ],
      "text/plain": [
       "                    Nombre  Anterior   Último % Dif.   Máximo   Mínimo  \\\n",
       "0                 IBEX 35®    8402.7   8455.2   0.62   8562.0   8431.7   \n",
       "1  IBEX 35® con Dividendos   25846.1  26007.7   0.62  26336.2  25935.4   \n",
       "2         IBEX MEDIUM CAP®   12992.6  13071.8   0.62  13183.0  13029.9   \n",
       "3          IBEX SMALL CAP®    7862.5   7874.3   0.62   7966.4   7866.6   \n",
       "4          IBEX 35® Bancos     435.2    434.3   0.62    445.9    433.4   \n",
       "\n",
       "        Fecha      Hora % Dif.Año 2021  \n",
       "0  29/11/2021  17:38:00           4.73  \n",
       "1  29/11/2021  17:38:00           4.73  \n",
       "2  29/11/2021  17:38:00           4.73  \n",
       "3  29/11/2021  17:38:00           4.73  \n",
       "4  29/11/2021  17:38:00           4.73  "
      ]
     },
     "execution_count": 8,
     "metadata": {},
     "output_type": "execute_result"
    }
   ],
   "source": [
    "df['% Dif.'].astype(float)\n",
    "df['% Dif.Año 2021'].astype(float)\n",
    "\n",
    "df.head(5)"
   ]
  },
  {
   "cell_type": "markdown",
   "id": "ce2c81f8-0020-476b-904c-551f3aa3ac9c",
   "metadata": {},
   "source": [
    "Clean dataset ready for data analysis."
   ]
  },
  {
   "cell_type": "code",
   "execution_count": 9,
   "id": "5c633cda-7e96-48e4-9b8f-9bacb060d163",
   "metadata": {
    "tags": []
   },
   "outputs": [
    {
     "name": "stdout",
     "output_type": "stream",
     "text": [
      "<class 'pandas.core.frame.DataFrame'>\n",
      "RangeIndex: 78 entries, 0 to 77\n",
      "Data columns (total 9 columns):\n",
      " #   Column          Non-Null Count  Dtype  \n",
      "---  ------          --------------  -----  \n",
      " 0   Nombre          78 non-null     object \n",
      " 1   Anterior        78 non-null     float64\n",
      " 2   Último          78 non-null     float64\n",
      " 3   % Dif.          78 non-null     object \n",
      " 4   Máximo          78 non-null     float64\n",
      " 5   Mínimo          78 non-null     float64\n",
      " 6   Fecha           78 non-null     object \n",
      " 7   Hora            78 non-null     object \n",
      " 8   % Dif.Año 2021  78 non-null     object \n",
      "dtypes: float64(4), object(5)\n",
      "memory usage: 5.6+ KB\n"
     ]
    }
   ],
   "source": [
    "df.info()"
   ]
  },
  {
   "cell_type": "markdown",
   "id": "f793536a-315e-4dc7-91aa-df00fc43e5f8",
   "metadata": {},
   "source": [
    "## Level 3"
   ]
  },
  {
   "cell_type": "markdown",
   "id": "ad80a428-32a6-420f-a1f8-c74239b76b08",
   "metadata": {},
   "source": [
    "### Exercise 3"
   ]
  },
  {
   "cell_type": "markdown",
   "id": "6817e9c3-c3f2-475e-adb9-bdfee9d99224",
   "metadata": {},
   "source": [
    "#### Web scraping of any webpage with Scrapy"
   ]
  },
  {
   "cell_type": "code",
   "execution_count": 2,
   "id": "4b403624-5bfb-4ae8-8537-a17835e65f87",
   "metadata": {
    "tags": []
   },
   "outputs": [],
   "source": [
    "import scrapy\n",
    "from scrapy.crawler import CrawlerProcess\n",
    "import emoji"
   ]
  },
  {
   "cell_type": "code",
   "execution_count": 3,
   "id": "8238cd3b-ae2c-4557-8935-f8f9f46f08e3",
   "metadata": {
    "tags": []
   },
   "outputs": [],
   "source": [
    "#new spider class\n",
    "class MySpider(scrapy.Spider):\n",
    "    name = \"spider\"\n",
    "    \n",
    "    #define the urls for crawling\n",
    "    def start_requests(self):\n",
    "        urls = ['https://www.habitaclia.com/viviendas-en-girones.htm',\n",
    "                'https://www.habitaclia.com/viviendas-en-girones-1.htm',\n",
    "                'https://www.habitaclia.com/viviendas-en-girones-2.htm']\n",
    "        for url in urls:\n",
    "            yield scrapy.Request(url=url, callback=self.parse)\n",
    "    \n",
    "    #parsing the main div section with articles       \n",
    "    def parse(self, response):\n",
    "        articles1 = response.xpath('//div[@class=\"list-item-info\"]')\n",
    "        \n",
    "        #extrecting values\n",
    "        for element in articles1:\n",
    "            title = element.xpath('.//h3/a/@title').extract_first()\n",
    "            neighborhood = element.xpath('.//p/span/text()').extract_first()\n",
    "            price = element.xpath('.//span[@class=\"font-2\"]/text()').extract_first()\n",
    "            url = element.xpath('.//h3/a/@href').extract_first()\n",
    "            description = element.xpath('.//p[@class=\"list-item-description\"]/text()').extract_first()  \n",
    "\n",
    "            #hold data for later saving          \n",
    "            yield {\n",
    "                'title': title,\n",
    "                'neighborhood': neighborhood,\n",
    "                'price': price,\n",
    "                'url': url,\n",
    "                'description': description,\n",
    "            }\n",
    "\n",
    "#extract data to csv, also possible to use json \n",
    "FILE_NAME = 'data.csv'\n",
    "SETTINGS = {\n",
    "            'USER_AGENT': 'Mozilla/4.0 (compatible; MSIE 7.0; Windows NT 5.1)',\n",
    "            'FEED_FORMAT': 'csv',\n",
    "            'FEED_URI': FILE_NAME,\n",
    "            'DOWNLOAD_DELAY': 1,\n",
    "            } "
   ]
  },
  {
   "cell_type": "code",
   "execution_count": 4,
   "id": "9db97673-2539-47b2-8c59-0503648cabe1",
   "metadata": {
    "scrolled": true,
    "tags": []
   },
   "outputs": [
    {
     "name": "stderr",
     "output_type": "stream",
     "text": [
      "2021-11-29 19:29:56 [scrapy.utils.log] INFO: Scrapy 2.5.1 started (bot: scrapybot)\n",
      "2021-11-29 19:29:56 [scrapy.utils.log] INFO: Versions: lxml 4.6.3.0, libxml2 2.9.10, cssselect 1.1.0, parsel 1.6.0, w3lib 1.22.0, Twisted 21.7.0, Python 3.8.8 (default, Apr 13 2021, 12:59:45) - [Clang 10.0.0 ], pyOpenSSL 20.0.1 (OpenSSL 1.1.1l  24 Aug 2021), cryptography 3.4.7, Platform macOS-10.14.6-x86_64-i386-64bit\n",
      "2021-11-29 19:29:56 [scrapy.utils.log] DEBUG: Using reactor: twisted.internet.selectreactor.SelectReactor\n",
      "2021-11-29 19:29:56 [scrapy.crawler] INFO: Overridden settings:\n",
      "{'DOWNLOAD_DELAY': 1,\n",
      " 'USER_AGENT': 'Mozilla/4.0 (compatible; MSIE 7.0; Windows NT 5.1)'}\n",
      "2021-11-29 19:29:56 [scrapy.extensions.telnet] INFO: Telnet Password: d3072257a4c564b7\n",
      "2021-11-29 19:29:56 [scrapy.middleware] INFO: Enabled extensions:\n",
      "['scrapy.extensions.corestats.CoreStats',\n",
      " 'scrapy.extensions.telnet.TelnetConsole',\n",
      " 'scrapy.extensions.memusage.MemoryUsage',\n",
      " 'scrapy.extensions.feedexport.FeedExporter',\n",
      " 'scrapy.extensions.logstats.LogStats']\n",
      "2021-11-29 19:29:56 [scrapy.middleware] INFO: Enabled downloader middlewares:\n",
      "['scrapy.downloadermiddlewares.httpauth.HttpAuthMiddleware',\n",
      " 'scrapy.downloadermiddlewares.downloadtimeout.DownloadTimeoutMiddleware',\n",
      " 'scrapy.downloadermiddlewares.defaultheaders.DefaultHeadersMiddleware',\n",
      " 'scrapy.downloadermiddlewares.useragent.UserAgentMiddleware',\n",
      " 'scrapy.downloadermiddlewares.retry.RetryMiddleware',\n",
      " 'scrapy.downloadermiddlewares.redirect.MetaRefreshMiddleware',\n",
      " 'scrapy.downloadermiddlewares.httpcompression.HttpCompressionMiddleware',\n",
      " 'scrapy.downloadermiddlewares.redirect.RedirectMiddleware',\n",
      " 'scrapy.downloadermiddlewares.cookies.CookiesMiddleware',\n",
      " 'scrapy.downloadermiddlewares.httpproxy.HttpProxyMiddleware',\n",
      " 'scrapy.downloadermiddlewares.stats.DownloaderStats']\n",
      "2021-11-29 19:29:56 [scrapy.middleware] INFO: Enabled spider middlewares:\n",
      "['scrapy.spidermiddlewares.httperror.HttpErrorMiddleware',\n",
      " 'scrapy.spidermiddlewares.offsite.OffsiteMiddleware',\n",
      " 'scrapy.spidermiddlewares.referer.RefererMiddleware',\n",
      " 'scrapy.spidermiddlewares.urllength.UrlLengthMiddleware',\n",
      " 'scrapy.spidermiddlewares.depth.DepthMiddleware']\n",
      "2021-11-29 19:29:56 [scrapy.middleware] INFO: Enabled item pipelines:\n",
      "[]\n",
      "2021-11-29 19:29:56 [scrapy.core.engine] INFO: Spider opened\n",
      "2021-11-29 19:29:56 [scrapy.extensions.logstats] INFO: Crawled 0 pages (at 0 pages/min), scraped 0 items (at 0 items/min)\n",
      "2021-11-29 19:29:56 [scrapy.extensions.telnet] INFO: Telnet console listening on 127.0.0.1:6023\n",
      "2021-11-29 19:29:56 [scrapy.core.engine] DEBUG: Crawled (200) <GET https://www.habitaclia.com/viviendas-en-girones.htm> (referer: None)\n",
      "2021-11-29 19:29:56 [scrapy.core.scraper] DEBUG: Scraped from <200 https://www.habitaclia.com/viviendas-en-girones.htm>\n",
      "{'title': 'Piso  Jaume i. Piso con 5 habitaciones con ascensor, calefacción y aire acondic', 'neighborhood': 'Girona - Eixample Nord', 'price': '395.000 €', 'url': 'https://www.habitaclia.com/comprar-piso-con_5_habitaciones_con_ascensor_calefaccion_y_aire_acondic_eixample_nord-girona-i4860003363306.htm?f=&geo=c&from=list&lo=55', 'description': ' PISO DE GRANDES POSIBILIDADES EN EL CORAZÓN DE GIRONA  En la Gran Vía de Jaime I, encontramos este piso con muchas p...'}\n",
      "2021-11-29 19:29:56 [scrapy.core.scraper] DEBUG: Scraped from <200 https://www.habitaclia.com/viviendas-en-girones.htm>\n",
      "{'title': 'Piso  Bilbao. Piso con 3 habitaciones amueblado con ascensor, parking y calefa', 'neighborhood': 'Girona - Sant Narcis', 'price': '179.000 €', 'url': 'https://www.habitaclia.com/comprar-piso-con_3_habitaciones_amueblado_con_ascensor_parking_y_calefa_sant_narcis-girona-i4860003363285.htm?f=&geo=c&from=list&lo=55', 'description': 'Hermoso, amplio, esquinero, exterior, seminuevo, totalmente amueblado y listo para entrar a vivir, todo a un buen precio...'}\n",
      "2021-11-29 19:29:56 [scrapy.core.scraper] DEBUG: Scraped from <200 https://www.habitaclia.com/viviendas-en-girones.htm>\n",
      "{'title': 'Piso  Carme. Piso con 3 habitaciones con ascensor, parking y calefacción', 'neighborhood': 'Girona - Centre-Carme', 'price': '189.500 €', 'url': 'https://www.habitaclia.com/comprar-piso-con_3_habitaciones_con_ascensor_parking_y_calefaccion_centre_carme-girona-i4860003363280.htm?f=&geo=c&from=list&lo=55', 'description': 'Disfrutar de las vistas al Onyar durante todo el año\\n\\nEste piso moderno de 87 m² nos da la posibilidad de vivir en una m...'}\n",
      "2021-11-29 19:29:56 [scrapy.core.scraper] DEBUG: Scraped from <200 https://www.habitaclia.com/viviendas-en-girones.htm>\n",
      "{'title': 'Piso  Emili grahit. Piso con 6 habitaciones con ascensor, parking y calefacción', 'neighborhood': 'Girona - Eixample Nord', 'price': '450.000 €', 'url': 'https://www.habitaclia.com/comprar-piso-con_6_habitaciones_con_ascensor_parking_y_calefaccion_eixample_nord-girona-i4860003363296.htm?f=&geo=c&from=list&lo=55', 'description': 'Piso de 205m2 con Gran Potencial en medio del Eixample con excelentes vistas    A pocos minutos del centro de Girona y...'}\n",
      "2021-11-29 19:29:56 [scrapy.core.scraper] DEBUG: Scraped from <200 https://www.habitaclia.com/viviendas-en-girones.htm>\n",
      "{'title': 'Casa adosada  en  Palau. Oportunitat casa a palau.', 'neighborhood': 'Girona - Palau', 'price': '525.000 €', 'url': 'https://www.habitaclia.com/comprar-casa_adosada-oportunitat_casa_a_palau_palau-girona-i9336004240940.htm?f=&geo=c&from=list&lo=55', 'description': 'Fantàstica casa a la zona de Palau de Girona. Consta de 3 plantes +golfes. Garatge amb capacitat per un o dos cotxes, gr...'}\n",
      "2021-11-29 19:29:56 [scrapy.core.scraper] DEBUG: Scraped from <200 https://www.habitaclia.com/viviendas-en-girones.htm>\n",
      "{'title': 'Dúplex  en  Centre-Barri Vell. Exclusivo', 'neighborhood': 'Girona - Centre-Barri Vell', 'price': '499.999 €', 'url': 'https://www.habitaclia.com/comprar-duplex-exclusivo_centre_barri_vell-girona-i4309002466423.htm?f=&geo=c&from=list&lo=55', 'description': 'PIS DÚPLEX EXCLUSIU DE 138M² CONSTRUÏTS, AL COR DEL BARRI VELL DE GIRONA  Pis dúplex exclusiu al mateix cor del Barri...'}\n",
      "2021-11-29 19:29:56 [scrapy.core.scraper] DEBUG: Scraped from <200 https://www.habitaclia.com/viviendas-en-girones.htm>\n",
      "{'title': 'Apartamento  Para visita 674832486 pedir video. Apartamento con balcón con mesa', 'neighborhood': 'Girona - Sant Narcis', 'price': '128.000 €', 'url': 'https://www.habitaclia.com/comprar-apartamento-con_balcon_con_mesa_sant_narcis-girona-i26297004300664.htm?f=&geo=c&from=list&lo=55', 'description': 'Bonito apartamento de 75 metros  Cosas a destacar  2 dormitorios con dos baños  75 metros de vivienda Cocina indep...'}\n",
      "2021-11-29 19:29:56 [scrapy.core.scraper] DEBUG: Scraped from <200 https://www.habitaclia.com/viviendas-en-girones.htm>\n",
      "{'title': 'Piso  en  Eixample Sud-Migdia. Dúplex a la zona de pericot.', 'neighborhood': 'Girona - Eixample Sud-Migdia', 'price': '185.000 €', 'url': 'https://www.habitaclia.com/comprar-piso-duplex_a_la_zona_de_pericot_eixample_sud_migdia-girona-i9336004240965.htm?f=&geo=c&from=list&lo=55', 'description': '¡Oportunidad! Dúplex en Girona (zona Pericot) en venta. En la planta baja dispone de salón comedor, cocina independiente...'}\n",
      "2021-11-29 19:29:56 [scrapy.core.scraper] DEBUG: Scraped from <200 https://www.habitaclia.com/viviendas-en-girones.htm>\n",
      "{'title': 'Piso  en  Eixample Nord. Piso grande de 148,50m² construidos y 5 habitaciones, en pleno c', 'neighborhood': 'Girona - Eixample Nord', 'price': '390.000 €', 'url': 'https://www.habitaclia.com/comprar-piso-grande_de_148_50m2_construidos_y_5_habitaciones_en_pleno_c_eixample_nord-girona-i4309002466479.htm?f=&geo=c&from=list&lo=55', 'description': 'Piso grande de 148,50m² interiores construidos, en medio del centro de Girona. Con luz y sol en las dos fachadas, consta...'}\n",
      "2021-11-29 19:29:56 [scrapy.core.scraper] DEBUG: Scraped from <200 https://www.habitaclia.com/viviendas-en-girones.htm>\n",
      "{'title': 'Piso  en  Centre-Barri Vell. Piso de 2 habitaciones y 66m² en medio del barri vell, en pleno', 'neighborhood': 'Girona - Centre-Barri Vell', 'price': '279.500 €', 'url': 'https://www.habitaclia.com/comprar-piso-de_2_habitaciones_y_66m2_en_medio_del_barri_vell_en_pleno_centre_barri_vell-girona-i4309002466472.htm?f=&geo=c&from=list&lo=55', 'description': 'Piso de 2 habitaciones en medio del Barri Vell y en pleno Centro de Girona, al lado de la Plaça del Vi. Planta alta orie...'}\n",
      "2021-11-29 19:29:56 [scrapy.core.scraper] DEBUG: Scraped from <200 https://www.habitaclia.com/viviendas-en-girones.htm>\n",
      "{'title': 'Dúplex  en  Santa Eugenia. Dúplex de 115m2 con 4 habitaciones luminosas con dos baños compl', 'neighborhood': 'Girona - Santa Eugenia', 'price': '189.000 €', 'url': 'https://www.habitaclia.com/comprar-duplex-de_115m2_con_4_habitaciones_luminosas_con_dos_banos_compl_santa_eugenia-girona-i24188000000931.htm?f=&geo=c&from=list&lo=55', 'description': 'Dúplex de 115 m2 con 4 habitaciones luminosas con dos baños completos, cocina office, comedor con dos ambientes con sali...'}\n",
      "2021-11-29 19:29:56 [scrapy.core.scraper] DEBUG: Scraped from <200 https://www.habitaclia.com/viviendas-en-girones.htm>\n",
      "{'title': 'Casa adosada  en  Pirineus 34. Estrena casa en vilablareix!!\\nte ofrecemos la oportunidad de est', 'neighborhood': 'Vilablareix', 'price': '347.500 €', 'url': 'https://www.habitaclia.com/comprar-casa_adosada-estrena_casa_en_te_ofrecemos_la_oportunidad_de_est_pirineus_34-vilablareix-i24188000000845.htm?f=&geo=c&from=list&lo=55', 'description': 'Estrena casa en Vilablareix!!  Te ofrecemos la oportunidad de estrenar tu nuevo hogar en la localidad de moda de Girona...'}\n",
      "2021-11-29 19:29:56 [scrapy.core.scraper] DEBUG: Scraped from <200 https://www.habitaclia.com/viviendas-en-girones.htm>\n",
      "{'title': 'Ático  en  Eixample Sud-Migdia', 'neighborhood': 'Girona - Eixample Sud-Migdia', 'price': '295.000 €', 'url': 'https://www.habitaclia.com/comprar-atico-eixample_sud_migdia-girona-i24188000000925.htm?f=&geo=c&from=list&lo=55', 'description': 'Piso seminuevo de tres habitaciones espaciosas, una de ellas es la principal y dispone de baño privado y de zona de vest...'}\n",
      "2021-11-29 19:29:56 [scrapy.core.scraper] DEBUG: Scraped from <200 https://www.habitaclia.com/viviendas-en-girones.htm>\n",
      "{'title': 'Piso  Carrer ramon turró. Piso con 3 habitaciones con ascensor, calefacción y aire acondic', 'neighborhood': 'Girona - La Devesa', 'price': '330.000 €', 'url': 'https://www.habitaclia.com/comprar-piso-con_3_habitaciones_con_ascensor_calefaccion_y_aire_acondic_la_devesa-girona-i2055003566600.htm?f=&geo=c&from=list&lo=55', 'description': 'GIRONA | Ramon Turró | Obra Nueva | Pisos de 3, 4 y 5 habitaciones y una de las zonas más atractivas de la ciudad. Clima...'}\n",
      "2021-11-29 19:29:56 [scrapy.core.scraper] DEBUG: Scraped from <200 https://www.habitaclia.com/viviendas-en-girones.htm>\n",
      "{'title': \"Piso  Carrer d'esteve vila. Piso en salt, 3era planta sin ascensor a un super precio!!!!\", 'neighborhood': 'Salt - Barri dels Escriptors', 'price': '67.900 €', 'url': 'https://www.habitaclia.com/comprar-piso-en_3era_planta_sin_ascensor_a_un_super_precio_barri_dels_escriptors-salt-i3052002655283.htm?f=&geo=c&from=list&lo=55', 'description': 'PISO EN SALT, 3ERA PLANTA SIN ASCENSOR, dispone de una superficie de 80m², 4 habitaciones , amplio salón comedor, cocina...'}\n",
      "2021-11-29 19:29:56 [scrapy.core.scraper] DEBUG: Scraped from <200 https://www.habitaclia.com/viviendas-en-girones.htm>\n",
      "{'title': 'La Devesa', 'neighborhood': 'Girona - La Devesa', 'price': '443.500 €', 'url': 'https://www.habitaclia.com/obra_nueva-viviendas-en-girona/promo_10622003671460?geo=c&from=list&lo=56', 'description': 'Edificio viviendas  en Girona, Edificio viviendas La Devesa Girona de 120 m 2  por 443.500 €...'}\n",
      "2021-11-29 19:29:58 [scrapy.core.engine] DEBUG: Crawled (200) <GET https://www.habitaclia.com/viviendas-en-girones-1.htm> (referer: None)\n",
      "2021-11-29 19:29:58 [scrapy.core.scraper] DEBUG: Scraped from <200 https://www.habitaclia.com/viviendas-en-girones-1.htm>\n",
      "{'title': 'Chalet  Albí. Fantástica casa independiente situada en una zona privilegiada,', 'neighborhood': 'Girona - Palau', 'price': '980.000 €', 'url': 'https://www.habitaclia.com/comprar-chalet-fantastica_casa_independiente_situada_en_una_zona_privilegiada_palau-girona-i4509004191013.htm?pag=1&f=&geo=c&from=list&lo=55', 'description': 'Fantástica casa independiente situada en una zona privilegiada de Palau (Girona), de 3 plantas y superficie construida d...'}\n",
      "2021-11-29 19:29:58 [scrapy.core.scraper] DEBUG: Scraped from <200 https://www.habitaclia.com/viviendas-en-girones-1.htm>\n",
      "{'title': 'Piso  Santa clara. Exclusiva vivienda de alto standing en el centro con vistas al r', 'neighborhood': 'Girona - Centre-Barri Vell', 'price': '990.000 €', 'url': 'https://www.habitaclia.com/comprar-piso-exclusiva_vivienda_de_alto_standing_en_el_centro_con_vistas_al_r_centre_barri_vell-girona-i4509004191019.htm?pag=1&f=&geo=c&from=list&lo=55', 'description': 'Exclusivo edificio de Alto Standing, ubicado en el centro de Girona en una de las mejores zonas del casco antiguo con vi...'}\n",
      "2021-11-29 19:29:58 [scrapy.core.scraper] DEBUG: Scraped from <200 https://www.habitaclia.com/viviendas-en-girones-1.htm>\n",
      "{'title': 'Piso  Creu. Espectacular piso totalmente reformado de alto standing ubicado', 'neighborhood': 'Girona - Eixample Nord', 'price': '475.000 €', 'url': 'https://www.habitaclia.com/comprar-piso-espectacular_totalmente_reformado_de_alto_standing_ubicado_eixample_nord-girona-i4509004190979.htm?pag=1&f=&geo=c&from=list&lo=55', 'description': 'Bonito piso totalmente reformado de alto standing,  pensados y diseñados para cubrir las más altas expectativas de confo...'}\n",
      "2021-11-29 19:29:58 [scrapy.core.scraper] DEBUG: Scraped from <200 https://www.habitaclia.com/viviendas-en-girones-1.htm>\n",
      "{'title': 'Casa adosada  en  Cassà de la Selva', 'neighborhood': 'Cassà de la Selva', 'price': '260.000 €', 'url': 'https://www.habitaclia.com/comprar-casa_adosada-en-cassa_de_la_selva-i3114003621257.htm?pag=1&f=&geo=c&from=list&lo=55', 'description': 'Magnifica casa en hilera en venta de 216 m2 ubicada en una zona muy bien comunicada con todos los servicios cerca. Cons...'}\n",
      "2021-11-29 19:29:58 [scrapy.core.scraper] DEBUG: Scraped from <200 https://www.habitaclia.com/viviendas-en-girones-1.htm>\n",
      "{'title': 'Piso  en  Eixample Sud-Migdia', 'neighborhood': 'Girona - Eixample Sud-Migdia', 'price': '238.000 €', 'url': 'https://www.habitaclia.com/comprar-piso-eixample_sud_migdia-girona-i3114003621234.htm?pag=1&f=&geo=c&from=list&lo=55', 'description': 'Gran piso de 155m2, amplio salón comedor de 35m2 con chimenea y salida a balcón, gran cocina con comedor anexo, con cinc...'}\n",
      "2021-11-29 19:29:58 [scrapy.core.scraper] DEBUG: Scraped from <200 https://www.habitaclia.com/viviendas-en-girones-1.htm>\n",
      "{'title': 'Dúplex  Travessia santa eugènia. Duplex  y parking en girona!!!', 'neighborhood': 'Girona - Santa Eugenia', 'price': '155.000 €', 'url': 'https://www.habitaclia.com/comprar-duplex-y_parking_en_santa_eugenia-girona-i3052002655265.htm?pag=1&f=&geo=c&from=list&lo=55', 'description': 'DUPLEX  Y PARKING EN GIRONA!!! dispone de una superficie de 80m² Aprox, 3  habitaciones ( 2 dobles  y 1  individual) , u...'}\n",
      "2021-11-29 19:29:58 [scrapy.core.scraper] DEBUG: Scraped from <200 https://www.habitaclia.com/viviendas-en-girones-1.htm>\n",
      "{'title': 'Piso  Riu freser. Piso con 3 habitaciones con ascensor y calefacción', 'neighborhood': 'Girona - Eixample Sud-Migdia', 'price': '241.000 €', 'url': 'https://www.habitaclia.com/comprar-piso-con_3_habitaciones_con_ascensor_y_calefaccion_eixample_sud_migdia-girona-i2055003567191.htm?pag=1&f=&geo=c&from=list&lo=55', 'description': 'GIRONA - MEDIODÍA / HIPERCOR: Últimos pisos y local de obra nueva. 3 habitaciones con parking incluido en uno de los bar...'}\n",
      "2021-11-29 19:29:58 [scrapy.core.scraper] DEBUG: Scraped from <200 https://www.habitaclia.com/viviendas-en-girones-1.htm>\n",
      "{'title': 'Piso  en  Carrer joaquim vayreda, 63. Oportunitat!', 'neighborhood': 'Girona - La Devesa', 'price': '223.000 €', 'url': 'https://www.habitaclia.com/comprar-piso-oportunitat_calle_joaquim_vayreda_63_la_devesa-girona-i2413004202727.htm?pag=1&f=&geo=c&from=list&lo=55', 'description': 'Zona Devesa, Girona - Pis a reformar de 101 m2 amb increïbles vistes a la ciutat de Girona. Distribuït en rebedor, àmpli...'}\n",
      "2021-11-29 19:29:58 [scrapy.core.scraper] DEBUG: Scraped from <200 https://www.habitaclia.com/viviendas-en-girones-1.htm>\n",
      "{'title': 'Piso  Carrer sant joan baptista la salle', 'neighborhood': 'Girona - Eixample Nord', 'price': '350.000 €', 'url': 'https://www.habitaclia.com/comprar-piso-eixample_nord-girona-i21875004062830.htm?pag=1&f=&geo=c&from=list&lo=55', 'description': 'Pis al CENTRE DE GIRONA, C. Sant Joan Baptista La Salle. El pis consta de rebedor, saló-menjador amb llar de foc, despat...'}\n",
      "2021-11-29 19:29:58 [scrapy.core.scraper] DEBUG: Scraped from <200 https://www.habitaclia.com/viviendas-en-girones-1.htm>\n",
      "{'title': 'Piso  Avinguda lluís companys. Obra nueva', 'neighborhood': 'Vilablareix', 'price': '204.400 €', 'url': 'https://www.habitaclia.com/comprar-piso-obra_nueva-vilablareix-i34612004095776.htm?pag=1&f=&geo=c&from=list&lo=55', 'description': 'Destino, tu hogar. Un viaje en el que te sentirás como en casa.  CULMIA Nou Vilablareix cuenta con pisos exclusivos de...'}\n",
      "2021-11-29 19:29:58 [scrapy.core.scraper] DEBUG: Scraped from <200 https://www.habitaclia.com/viviendas-en-girones-1.htm>\n",
      "{'title': 'Piso  Ferran puig. Pisos de obra nueva', 'neighborhood': 'Girona - La Devesa', 'price': '210.000 €', 'url': 'https://www.habitaclia.com/comprar-piso-s_de_obra_nueva_la_devesa-girona-i2055003567244.htm?pag=1&f=&geo=c&from=list&lo=55', 'description': 'GIRONA - Rda. Ferran Puig: OPORTUNIDAD DE LANZAMIENTO! Pisos y duplex de nueva construcción de 2-3 habitaciones. Garajes...'}\n",
      "2021-11-29 19:29:58 [scrapy.core.scraper] DEBUG: Scraped from <200 https://www.habitaclia.com/viviendas-en-girones-1.htm>\n",
      "{'title': 'Piso  Roberto bolaños avalos', 'neighborhood': 'Girona - Fontajau-Domeny', 'price': '215.000 €', 'url': 'https://www.habitaclia.com/comprar-piso-fontajau_domeny-girona-i4604004049206.htm?pag=1&f=&geo=c&from=list&lo=55', 'description': 'OBRA NUEVA – PARC DOMENY. Planta baja de 55 m² y jardín de 24 m². Consta de dos habitaciones dobles con armarios empotra...'}\n",
      "2021-11-29 19:29:58 [scrapy.core.scraper] DEBUG: Scraped from <200 https://www.habitaclia.com/viviendas-en-girones-1.htm>\n",
      "{'title': 'Casa  en  Bordils. Casa con 13 habitaciones con parking, piscina y calefacción', 'neighborhood': 'Bordils', 'price': '1.195.000 €', 'url': 'https://www.habitaclia.com/comprar-casa-con_13_habitaciones_con_parking_piscina_y_calefaccion-bordils-i528003768889.htm?pag=1&f=&geo=c&from=list&lo=55', 'description': 'Bienvenidos a esta maravillosa masía situada en Bordils. Esta preciosa casa dispone de casi 1.000m2 construidos y 3.600m...'}\n",
      "2021-11-29 19:29:58 [scrapy.core.scraper] DEBUG: Scraped from <200 https://www.habitaclia.com/viviendas-en-girones-1.htm>\n",
      "{'title': 'Piso  en  Centre-Barri Vell. Piso con 3 habitaciones con ascensor y calefacción', 'neighborhood': 'Girona - Centre-Barri Vell', 'price': '270.000 €', 'url': 'https://www.habitaclia.com/comprar-piso-con_3_habitaciones_con_ascensor_y_calefaccion_centre_barri_vell-girona-i4309002466450.htm?pag=1&f=&geo=c&from=list&lo=55', 'description': 'PIS CANTONER DE 140M² I 3 HABITACIONS GRANS, AL COR DEL BARRI VELL DE GIRONA  Pis cantoner de 140m² i 3 habitacions do...'}\n",
      "2021-11-29 19:29:58 [scrapy.core.scraper] DEBUG: Scraped from <200 https://www.habitaclia.com/viviendas-en-girones-1.htm>\n",
      "{'title': 'Dúplex  en  Llagostera. Dúplex en venta en llagostera', 'neighborhood': 'Llagostera', 'price': '139.000 €', 'url': 'https://www.habitaclia.com/comprar-duplex-en_venta_en-llagostera-i9336004240983.htm?pag=1&f=&geo=c&from=list&lo=55', 'description': 'Dúplex en venta con una superficie 89 m2. Salón comedor con suelo de parquet. Cocina office totalmente amueblada, en muy...'}\n",
      "2021-11-29 19:29:58 [scrapy.core.scraper] DEBUG: Scraped from <200 https://www.habitaclia.com/viviendas-en-girones-1.htm>\n",
      "{'title': 'Travessia', 'neighborhood': 'Girona - Eixample Nord', 'price': '363.000 €', 'url': 'https://www.habitaclia.com/obra_nueva-viviendas-en-girona/promo_598003221918?geo=c&from=list&lo=56', 'description': 'Edificio viviendas  en Girona, Edificio viviendas Eixample Nord Girona de 106 m 2  por 363.000 €...'}\n",
      "2021-11-29 19:29:59 [scrapy.core.engine] DEBUG: Crawled (200) <GET https://www.habitaclia.com/viviendas-en-girones-2.htm> (referer: None)\n",
      "2021-11-29 19:29:59 [scrapy.core.scraper] DEBUG: Scraped from <200 https://www.habitaclia.com/viviendas-en-girones-2.htm>\n",
      "{'title': 'Piso  Lluis  pericot', 'neighborhood': 'Girona - Eixample Sud-Migdia', 'price': '249.000 €', 'url': 'https://www.habitaclia.com/comprar-piso-eixample_sud_migdia-girona-i4604004049113.htm?pag=2&f=&geo=c&from=list&lo=55', 'description': 'GIRONA-PERICOT. Impecable Pis de 82m² amb bones vistes. Consta de rebedor, 3 habitacions (2 dobles), 2 banys complets, c...'}\n",
      "2021-11-29 19:29:59 [scrapy.core.scraper] DEBUG: Scraped from <200 https://www.habitaclia.com/viviendas-en-girones-2.htm>\n",
      "{'title': 'Piso  en  Avenida montilivi 1', 'neighborhood': 'Girona - Montilivi', 'price': '325.000 €', 'url': 'https://www.habitaclia.com/comprar-piso-montilivi_1_montilivi-girona-i4604004049077.htm?pag=2&f=&geo=c&from=list&lo=55', 'description': 'GIRONA – NUEVA PROMOCIÓN – MONTILIVI 1. Planta baja de 118 m². Consta de 3 habitaciones (2 dobles y 1 individual) con ar...'}\n",
      "2021-11-29 19:29:59 [scrapy.core.scraper] DEBUG: Scraped from <200 https://www.habitaclia.com/viviendas-en-girones-2.htm>\n",
      "{'title': 'Piso  en  Barri dels Escriptors', 'neighborhood': 'Salt - Barri dels Escriptors', 'price': '75.000 €', 'url': 'https://www.habitaclia.com/comprar-piso-barri_dels_escriptors-salt-i3114003621206.htm?pag=2&f=&geo=c&from=list&lo=55', 'description': 'Amplio piso de 4 habitaciones, un cuarto de baño reformado. Cocina independiente, comedor. Sin calefacción. Ventanas de...'}\n",
      "2021-11-29 19:29:59 [scrapy.core.scraper] DEBUG: Scraped from <200 https://www.habitaclia.com/viviendas-en-girones-2.htm>\n",
      "{'title': 'Masía  en  Cassà de la Selva. Masia en el corazón de les gavarres', 'neighborhood': 'Cassà de la Selva', 'price': '1.150.000 €', 'url': 'https://www.habitaclia.com/comprar-masia-en_el_corazon_de_les_gavarres-cassa_de_la_selva-i4915004245320.htm?pag=2&f=&geo=c&from=list&lo=55', 'description': 'Masía catalana en el corazón de las Gavarres, con terreno de 40.000m2.  Masía de piedra totalmente restaurada, conserv...'}\n",
      "2021-11-29 19:29:59 [scrapy.core.scraper] DEBUG: Scraped from <200 https://www.habitaclia.com/viviendas-en-girones-2.htm>\n",
      "{'title': 'Casa  en  Montilivi. Independiente', 'neighborhood': 'Girona - Montilivi', 'price': '699.000 €', 'url': 'https://www.habitaclia.com/comprar-casa-independiente_montilivi-girona-i4309002466452.htm?pag=2&f=&geo=c&from=list&lo=55', 'description': 'CASA INDEPENDENT DE 5 HABITACIONS A GIRONA, MONTILIVI. 322M² CONSTRUÏTS  Casa independent de 5 habitacions a Girona, M...'}\n",
      "2021-11-29 19:29:59 [scrapy.core.scraper] DEBUG: Scraped from <200 https://www.habitaclia.com/viviendas-en-girones-2.htm>\n",
      "{'title': 'Piso  Carme', 'neighborhood': 'Girona - Centre-Carme', 'price': '195.000 €', 'url': 'https://www.habitaclia.com/comprar-piso-centre_carme-girona-i4604004049161.htm?pag=2&f=&geo=c&from=list&lo=55', 'description': 'GIRONA-CARRER CARME. Impecable Pis de 90m² amb bones vistes. Consta de rebedor, 3 habitacions (2 dobles), 2 banys comple...'}\n",
      "2021-11-29 19:29:59 [scrapy.core.scraper] DEBUG: Scraped from <200 https://www.habitaclia.com/viviendas-en-girones-2.htm>\n",
      "{'title': 'Casa  Baixada can pou. Casa en venta aislada en campllong, de 1.800m2 de parcela y la v', 'neighborhood': 'Campllong', 'price': '299.000 €', 'url': 'https://www.habitaclia.com/comprar-casa-en_venta_aislada_en_de_1800m2_de_parcela_y_la_v-campllong-i3114003621253.htm?pag=2&f=&geo=c&from=list&lo=55', 'description': 'Casa en venta aislada en Campllong, de 1.800m2 de parcela y la vivienda hace 300m2. Con piscina, zona de barbacoa, huert...'}\n",
      "2021-11-29 19:29:59 [scrapy.core.scraper] DEBUG: Scraped from <200 https://www.habitaclia.com/viviendas-en-girones-2.htm>\n",
      "{'title': 'Piso  en  Eixample Nord. Piso con 4 habitaciones con ascensor, parking, calefacción y air', 'neighborhood': 'Girona - Eixample Nord', 'price': '420.000 €', 'url': 'https://www.habitaclia.com/comprar-piso-con_4_habitaciones_con_ascensor_parking_calefaccion_y_air_eixample_nord-girona-i4309002466434.htm?pag=2&f=&geo=c&from=list&lo=55', 'description': 'PISO DE 3 HAB. DOBLES  Y TERRAZA GRANDE EN EL CENTRO DE GIRONA, PK Y TR. INCLUIDOS  Piso planta alta de 3 habitaciones...'}\n",
      "2021-11-29 19:29:59 [scrapy.core.scraper] DEBUG: Scraped from <200 https://www.habitaclia.com/viviendas-en-girones-2.htm>\n",
      "{'title': 'Piso  en  Eixample Nord. Vive a 3 minutos a pie de la estación de gerona y del centro de', 'neighborhood': 'Girona - Eixample Nord', 'price': '179.900 €', 'url': 'https://www.habitaclia.com/comprar-piso-vive_a_3_minutos_a_pie_de_la_estacion_de_gerona_y_del_centro_de_eixample_nord-girona-i24188000000768.htm?pag=2&f=&geo=c&from=list&lo=55', 'description': 'Vive a 3 minutos a pie de la estación de Gerona y del centro de ocio y comercios de la ciudad. Esta vivienda nos ofrece...'}\n",
      "2021-11-29 19:29:59 [scrapy.core.scraper] DEBUG: Scraped from <200 https://www.habitaclia.com/viviendas-en-girones-2.htm>\n",
      "{'title': 'Piso  Caterina albert. Piso con 3 habitaciones con ascensor, calefacción y aire acondic', 'neighborhood': 'Girona - La Devesa', 'price': '222.000 €', 'url': 'https://www.habitaclia.com/comprar-piso-con_3_habitaciones_con_ascensor_calefaccion_y_aire_acondic_la_devesa-girona-i4860003363297.htm?pag=2&f=&geo=c&from=list&lo=55', 'description': 'VISTAS ESPECTACULARES  Vivir en la Devesa es sinónimo de bienestar y comodidad en general, si además lo combinamos con...'}\n",
      "2021-11-29 19:29:59 [scrapy.core.scraper] DEBUG: Scraped from <200 https://www.habitaclia.com/viviendas-en-girones-2.htm>\n",
      "{'title': 'Piso  Pla de salt 13. Piso con 3 habitaciones con ascensor y calefacción', 'neighborhood': 'Salt - Barri dels Escriptors', 'price': '225.000 €', 'url': 'https://www.habitaclia.com/comprar-piso-con_3_habitaciones_con_ascensor_y_calefaccion_barri_dels_escriptors-salt-i4860003363263.htm?pag=2&f=&geo=c&from=list&lo=55', 'description': 'PISO EN CIUTAT JARDÍ GIRONÈS PARC / ESPAI GIRONÈS / SALT  Una manera de comenzar de nuevo  Siempre es mejor empezar...'}\n",
      "2021-11-29 19:29:59 [scrapy.core.scraper] DEBUG: Scraped from <200 https://www.habitaclia.com/viviendas-en-girones-2.htm>\n",
      "{'title': 'Piso  Passatge elisenda de montcada. Ideal  inversores ,rentabilidad 6.24%', 'neighborhood': 'Salt - Centre', 'price': '75.000 €', 'url': 'https://www.habitaclia.com/comprar-piso-ideal_inversores_rentabilidad_624_centre-salt-i3052002655052.htm?pag=2&f=&geo=c&from=list&lo=55', 'description': 'IDEAL  INVERSORES ,RENTABILIDAD 6.24% ,PISO  ALQUILADO 390€ Mensuales, dispone de una superficie de 88m² , 4 habitacione...'}\n",
      "2021-11-29 19:29:59 [scrapy.core.scraper] DEBUG: Scraped from <200 https://www.habitaclia.com/viviendas-en-girones-2.htm>\n",
      "{'title': 'Chalet  en  Llagostera', 'neighborhood': 'Llagostera', 'price': '230.000 €', 'url': 'https://www.habitaclia.com/comprar-chalet-en-llagostera-i3114003621184.htm?pag=2&f=&geo=c&from=list&lo=55', 'description': 'Casa aislada construida en una parcela de 600m2, EN UNA SOLA  PLANTA,  de 200 m2,  Consta de 4 habitaciones, 1 tipo sui...'}\n",
      "2021-11-29 19:29:59 [scrapy.core.scraper] DEBUG: Scraped from <200 https://www.habitaclia.com/viviendas-en-girones-2.htm>\n",
      "{'title': 'Piso  Carrer príncep. Piso con 3 habitaciones con ascensor, calefacción y aire acondic', 'neighborhood': 'Girona - Eixample Nord', 'price': '330.000 €', 'url': 'https://www.habitaclia.com/comprar-piso-con_3_habitaciones_con_ascensor_calefaccion_y_aire_acondic_eixample_nord-girona-i2055003567091.htm?pag=2&f=&geo=c&from=list&lo=55', 'description': 'GIRONA | centro | Pisos de obra nueva en el centro de Girona en venta desde 74 m² útiles y terraza de 6 m². Distribuidos...'}\n",
      "2021-11-29 19:29:59 [scrapy.core.scraper] DEBUG: Scraped from <200 https://www.habitaclia.com/viviendas-en-girones-2.htm>\n",
      "{'title': 'Piso  en  Cassà de la Selva. Pis a cassà de la selva en perfectes condicions, llest per entra', 'neighborhood': 'Cassà de la Selva', 'price': '125.000 €', 'url': 'https://www.habitaclia.com/comprar-piso-pis_a_en_perfectes_condicions_llest_per_entra-cassa_de_la_selva-i3114003621265.htm?pag=2&f=&geo=c&from=list&lo=55', 'description': 'Pis de 81m2 construïts, situat al centre del poble amb piscina comunitària. Consta de dos habitacions dobles, un bany a...'}\n",
      "2021-11-29 19:29:59 [scrapy.core.scraper] DEBUG: Scraped from <200 https://www.habitaclia.com/viviendas-en-girones-2.htm>\n",
      "{'title': 'Montilivi 1', 'neighborhood': 'Girona - Montilivi', 'price': '385.000 €', 'url': 'https://www.habitaclia.com/obra_nueva-viviendas-en-girona/promo_5802003332558?geo=c&from=list&lo=56', 'description': 'Edificio viviendas  en Girona, Edificio viviendas Montilivi Girona de 129 m 2  por 385.000 €...'}\n",
      "2021-11-29 19:29:59 [scrapy.core.engine] INFO: Closing spider (finished)\n",
      "2021-11-29 19:29:59 [scrapy.extensions.feedexport] INFO: Stored csv feed (48 items) in: data.csv\n",
      "2021-11-29 19:29:59 [scrapy.statscollectors] INFO: Dumping Scrapy stats:\n",
      "{'downloader/request_bytes': 790,\n",
      " 'downloader/request_count': 3,\n",
      " 'downloader/request_method_count/GET': 3,\n",
      " 'downloader/response_bytes': 174594,\n",
      " 'downloader/response_count': 3,\n",
      " 'downloader/response_status_count/200': 3,\n",
      " 'elapsed_time_seconds': 3.0899,\n",
      " 'feedexport/success_count/FileFeedStorage': 1,\n",
      " 'finish_reason': 'finished',\n",
      " 'finish_time': datetime.datetime(2021, 11, 29, 18, 29, 59, 363745),\n",
      " 'httpcompression/response_bytes': 797547,\n",
      " 'httpcompression/response_count': 3,\n",
      " 'item_scraped_count': 48,\n",
      " 'log_count/DEBUG': 51,\n",
      " 'log_count/INFO': 11,\n",
      " 'memusage/max': 175730688,\n",
      " 'memusage/startup': 175730688,\n",
      " 'response_received_count': 3,\n",
      " 'scheduler/dequeued': 3,\n",
      " 'scheduler/dequeued/memory': 3,\n",
      " 'scheduler/enqueued': 3,\n",
      " 'scheduler/enqueued/memory': 3,\n",
      " 'start_time': datetime.datetime(2021, 11, 29, 18, 29, 56, 273845)}\n",
      "2021-11-29 19:29:59 [scrapy.core.engine] INFO: Spider closed (finished)\n"
     ]
    }
   ],
   "source": [
    "process = CrawlerProcess(SETTINGS)\n",
    "process.crawl(MySpider) \n",
    "process.start()"
   ]
  },
  {
   "cell_type": "code",
   "execution_count": 5,
   "id": "f2d648a6-ca6b-44e1-818c-538885ee59f6",
   "metadata": {
    "tags": []
   },
   "outputs": [
    {
     "name": "stdout",
     "output_type": "stream",
     "text": [
      "Hacking!!! 👍\n"
     ]
    }
   ],
   "source": [
    "print(emoji.emojize('Hacking!!! :thumbs_up:'))"
   ]
  },
  {
   "cell_type": "code",
   "execution_count": 2,
   "id": "121f7e0e-fe90-445c-bdb6-db417509be4d",
   "metadata": {
    "scrolled": true,
    "tags": []
   },
   "outputs": [
    {
     "data": {
      "text/html": [
       "<div>\n",
       "<style scoped>\n",
       "    .dataframe tbody tr th:only-of-type {\n",
       "        vertical-align: middle;\n",
       "    }\n",
       "\n",
       "    .dataframe tbody tr th {\n",
       "        vertical-align: top;\n",
       "    }\n",
       "\n",
       "    .dataframe thead th {\n",
       "        text-align: right;\n",
       "    }\n",
       "</style>\n",
       "<table border=\"1\" class=\"dataframe\">\n",
       "  <thead>\n",
       "    <tr style=\"text-align: right;\">\n",
       "      <th></th>\n",
       "      <th>title</th>\n",
       "      <th>neighborhood</th>\n",
       "      <th>price</th>\n",
       "      <th>url</th>\n",
       "      <th>description</th>\n",
       "    </tr>\n",
       "  </thead>\n",
       "  <tbody>\n",
       "    <tr>\n",
       "      <th>0</th>\n",
       "      <td>Piso  Ford roig-montjuic. Piso con 3 habitacio...</td>\n",
       "      <td>Girona - Montjuïc</td>\n",
       "      <td>325.000 €</td>\n",
       "      <td>https://www.habitaclia.com/comprar-piso-con_3_...</td>\n",
       "      <td>Fantástico piso esquinero de 3 habitaciones y ...</td>\n",
       "    </tr>\n",
       "    <tr>\n",
       "      <th>1</th>\n",
       "      <td>Piso  Emili grahit. Piso con 6 habitaciones co...</td>\n",
       "      <td>Girona - Eixample Nord</td>\n",
       "      <td>450.000 €</td>\n",
       "      <td>https://www.habitaclia.com/comprar-piso-con_6_...</td>\n",
       "      <td>Piso de 205m2 con Gran Potencial en medio del ...</td>\n",
       "    </tr>\n",
       "    <tr>\n",
       "      <th>2</th>\n",
       "      <td>Ático  en  Eixample Nord. Atico duplex exclusi...</td>\n",
       "      <td>Girona - Eixample Nord</td>\n",
       "      <td>999.000 €</td>\n",
       "      <td>https://www.habitaclia.com/comprar-atico-duple...</td>\n",
       "      <td>Atico dúplex exclusivo en el corazón de Girona...</td>\n",
       "    </tr>\n",
       "    <tr>\n",
       "      <th>3</th>\n",
       "      <td>Piso  Jaume i. Piso con 5 habitaciones con asc...</td>\n",
       "      <td>Girona - Eixample Nord</td>\n",
       "      <td>395.000 €</td>\n",
       "      <td>https://www.habitaclia.com/comprar-piso-con_5_...</td>\n",
       "      <td>PISO DE GRANDES POSIBILIDADES EN EL CORAZÓN D...</td>\n",
       "    </tr>\n",
       "    <tr>\n",
       "      <th>4</th>\n",
       "      <td>Casa adosada  en  Palau. Oportunitat casa a pa...</td>\n",
       "      <td>Girona - Palau</td>\n",
       "      <td>525.000 €</td>\n",
       "      <td>https://www.habitaclia.com/comprar-casa_adosad...</td>\n",
       "      <td>Fantàstica casa a la zona de Palau de Girona. ...</td>\n",
       "    </tr>\n",
       "    <tr>\n",
       "      <th>...</th>\n",
       "      <td>...</td>\n",
       "      <td>...</td>\n",
       "      <td>...</td>\n",
       "      <td>...</td>\n",
       "      <td>...</td>\n",
       "    </tr>\n",
       "    <tr>\n",
       "      <th>75</th>\n",
       "      <td>Piso  en  Calle roger de llúria 8. Disfruta de...</td>\n",
       "      <td>Vilablareix</td>\n",
       "      <td>260.000 €</td>\n",
       "      <td>https://www.habitaclia.com/comprar-piso-disfru...</td>\n",
       "      <td>Buscas un piso con terraza? ¿Quieres vivir en ...</td>\n",
       "    </tr>\n",
       "    <tr>\n",
       "      <th>76</th>\n",
       "      <td>Casa  en  Bordils. Casa con 13 habitaciones co...</td>\n",
       "      <td>Bordils</td>\n",
       "      <td>1.195.000 €</td>\n",
       "      <td>https://www.habitaclia.com/comprar-casa-con_13...</td>\n",
       "      <td>Bienvenidos a esta maravillosa masía situada e...</td>\n",
       "    </tr>\n",
       "    <tr>\n",
       "      <th>77</th>\n",
       "      <td>Chalet  en  Llagostera</td>\n",
       "      <td>Llagostera</td>\n",
       "      <td>365.000 €</td>\n",
       "      <td>https://www.habitaclia.com/comprar-chalet-en-l...</td>\n",
       "      <td>Fantástica casa independiente de 366 m2 en una...</td>\n",
       "    </tr>\n",
       "    <tr>\n",
       "      <th>78</th>\n",
       "      <td>Piso  Carrer de santa eugènia. Piso en santa e...</td>\n",
       "      <td>Girona - Santa Eugenia</td>\n",
       "      <td>95.000 €</td>\n",
       "      <td>https://www.habitaclia.com/comprar-piso-en_san...</td>\n",
       "      <td>PISO EN SANTA EUGENIA ZONA MARISTES, dispone d...</td>\n",
       "    </tr>\n",
       "    <tr>\n",
       "      <th>79</th>\n",
       "      <td>Montjuïc - Fort Roig\\t\\t\\t\\t\\t</td>\n",
       "      <td>Girona - Montjuïc</td>\n",
       "      <td>250.000 €</td>\n",
       "      <td>https://www.habitaclia.com/obra_nueva-vivienda...</td>\n",
       "      <td>Edificio viviendas  en Girona, Edificio vivien...</td>\n",
       "    </tr>\n",
       "  </tbody>\n",
       "</table>\n",
       "<p>80 rows × 5 columns</p>\n",
       "</div>"
      ],
      "text/plain": [
       "                                                title            neighborhood  \\\n",
       "0   Piso  Ford roig-montjuic. Piso con 3 habitacio...       Girona - Montjuïc   \n",
       "1   Piso  Emili grahit. Piso con 6 habitaciones co...  Girona - Eixample Nord   \n",
       "2   Ático  en  Eixample Nord. Atico duplex exclusi...  Girona - Eixample Nord   \n",
       "3   Piso  Jaume i. Piso con 5 habitaciones con asc...  Girona - Eixample Nord   \n",
       "4   Casa adosada  en  Palau. Oportunitat casa a pa...          Girona - Palau   \n",
       "..                                                ...                     ...   \n",
       "75  Piso  en  Calle roger de llúria 8. Disfruta de...             Vilablareix   \n",
       "76  Casa  en  Bordils. Casa con 13 habitaciones co...                 Bordils   \n",
       "77                             Chalet  en  Llagostera              Llagostera   \n",
       "78  Piso  Carrer de santa eugènia. Piso en santa e...  Girona - Santa Eugenia   \n",
       "79                     Montjuïc - Fort Roig\\t\\t\\t\\t\\t       Girona - Montjuïc   \n",
       "\n",
       "          price                                                url  \\\n",
       "0     325.000 €  https://www.habitaclia.com/comprar-piso-con_3_...   \n",
       "1     450.000 €  https://www.habitaclia.com/comprar-piso-con_6_...   \n",
       "2     999.000 €  https://www.habitaclia.com/comprar-atico-duple...   \n",
       "3     395.000 €  https://www.habitaclia.com/comprar-piso-con_5_...   \n",
       "4     525.000 €  https://www.habitaclia.com/comprar-casa_adosad...   \n",
       "..          ...                                                ...   \n",
       "75    260.000 €  https://www.habitaclia.com/comprar-piso-disfru...   \n",
       "76  1.195.000 €  https://www.habitaclia.com/comprar-casa-con_13...   \n",
       "77    365.000 €  https://www.habitaclia.com/comprar-chalet-en-l...   \n",
       "78     95.000 €  https://www.habitaclia.com/comprar-piso-en_san...   \n",
       "79    250.000 €  https://www.habitaclia.com/obra_nueva-vivienda...   \n",
       "\n",
       "                                          description  \n",
       "0   Fantástico piso esquinero de 3 habitaciones y ...  \n",
       "1   Piso de 205m2 con Gran Potencial en medio del ...  \n",
       "2   Atico dúplex exclusivo en el corazón de Girona...  \n",
       "3    PISO DE GRANDES POSIBILIDADES EN EL CORAZÓN D...  \n",
       "4   Fantàstica casa a la zona de Palau de Girona. ...  \n",
       "..                                                ...  \n",
       "75  Buscas un piso con terraza? ¿Quieres vivir en ...  \n",
       "76  Bienvenidos a esta maravillosa masía situada e...  \n",
       "77  Fantástica casa independiente de 366 m2 en una...  \n",
       "78  PISO EN SANTA EUGENIA ZONA MARISTES, dispone d...  \n",
       "79  Edificio viviendas  en Girona, Edificio vivien...  \n",
       "\n",
       "[80 rows x 5 columns]"
      ]
     },
     "execution_count": 2,
     "metadata": {},
     "output_type": "execute_result"
    }
   ],
   "source": [
    "import pandas as pd\n",
    "\n",
    "df=pd.read_csv('data.csv')\n",
    "df"
   ]
  },
  {
   "cell_type": "markdown",
   "id": "51f206c1-26ac-43c2-b0c2-2c0db56e8c61",
   "metadata": {},
   "source": [
    "#### Girona housing for sale dataset\n",
    "This dataset contains first 3 pages of Habitaclia posts about housing for sale in Girona city. It could be used for monitoring prices in specific neighborhood or analyzing average prices while thinking about selling or buying. Moreover, it might serve for answering these questions:\n",
    "- Which is the neighborhood with highest offer of housing?\n",
    "- Which is the most expensive neighborhood?\n",
    "- What's the average size of housing on the market?"
   ]
  },
  {
   "cell_type": "code",
   "execution_count": 3,
   "id": "f0ce583a-444f-4737-a285-c0948a97613d",
   "metadata": {
    "tags": []
   },
   "outputs": [
    {
     "data": {
      "text/plain": [
       "array(['Girona - Montjuïc', 'Girona - Eixample Nord', 'Girona - Palau',\n",
       "       'Girona - Eixample Sud-Migdia', 'Girona - Centre-Barri Vell',\n",
       "       'Girona - Centre-Carme', 'Girona - La Devesa',\n",
       "       'Girona - Fontajau-Domeny', 'Vilablareix',\n",
       "       'Girona - Santa Eugenia', 'Quart', 'Cassà de la Selva',\n",
       "       'Fornells de la Selva', 'Girona - Montilivi', 'Salt - Veïnat',\n",
       "       'Llagostera', 'Sant Gregori', 'Campllong', 'Salt - Centre',\n",
       "       'Bordils', 'Girona - Sant Narcis'], dtype=object)"
      ]
     },
     "execution_count": 3,
     "metadata": {},
     "output_type": "execute_result"
    }
   ],
   "source": [
    "list = df['neighborhood'].unique()\n",
    "list"
   ]
  },
  {
   "cell_type": "code",
   "execution_count": 4,
   "id": "cbc6ae1d-a82c-48ee-86f4-00af66dcc39d",
   "metadata": {
    "tags": []
   },
   "outputs": [
    {
     "name": "stdout",
     "output_type": "stream",
     "text": [
      "6 5\n"
     ]
    }
   ],
   "source": [
    "df_Eixample = df.loc[df['neighborhood'] == 'Girona - Eixample Sud-Migdia']\n",
    "df_Montilivi = df.loc[df['neighborhood'] == 'Girona - Montilivi']\n",
    "print(df_Eixample['title'].count(), df_Montilivi['title'].count())"
   ]
  },
  {
   "cell_type": "code",
   "execution_count": 5,
   "id": "6e4bc9ed-b433-4ab9-9040-704fcfc56076",
   "metadata": {
    "tags": []
   },
   "outputs": [
    {
     "name": "stdout",
     "output_type": "stream",
     "text": [
      "<class 'pandas.core.frame.DataFrame'>\n",
      "RangeIndex: 80 entries, 0 to 79\n",
      "Data columns (total 5 columns):\n",
      " #   Column        Non-Null Count  Dtype \n",
      "---  ------        --------------  ----- \n",
      " 0   title         80 non-null     object\n",
      " 1   neighborhood  80 non-null     object\n",
      " 2   price         79 non-null     object\n",
      " 3   url           80 non-null     object\n",
      " 4   description   80 non-null     object\n",
      "dtypes: object(5)\n",
      "memory usage: 3.2+ KB\n"
     ]
    }
   ],
   "source": [
    "df.info()"
   ]
  },
  {
   "cell_type": "code",
   "execution_count": 6,
   "id": "863f5e1c-5528-44c4-b310-d0872a202ac6",
   "metadata": {
    "tags": []
   },
   "outputs": [
    {
     "data": {
      "text/html": [
       "<div>\n",
       "<style scoped>\n",
       "    .dataframe tbody tr th:only-of-type {\n",
       "        vertical-align: middle;\n",
       "    }\n",
       "\n",
       "    .dataframe tbody tr th {\n",
       "        vertical-align: top;\n",
       "    }\n",
       "\n",
       "    .dataframe thead th {\n",
       "        text-align: right;\n",
       "    }\n",
       "</style>\n",
       "<table border=\"1\" class=\"dataframe\">\n",
       "  <thead>\n",
       "    <tr style=\"text-align: right;\">\n",
       "      <th></th>\n",
       "      <th>title</th>\n",
       "      <th>neighborhood</th>\n",
       "      <th>price</th>\n",
       "      <th>url</th>\n",
       "      <th>description</th>\n",
       "    </tr>\n",
       "  </thead>\n",
       "  <tbody>\n",
       "    <tr>\n",
       "      <th>0</th>\n",
       "      <td>Piso  Ford roig-montjuic. Piso con 3 habitacio...</td>\n",
       "      <td>Girona - Montjuïc</td>\n",
       "      <td>325000.0</td>\n",
       "      <td>https://www.habitaclia.com/comprar-piso-con_3_...</td>\n",
       "      <td>Fantástico piso esquinero de 3 habitaciones y ...</td>\n",
       "    </tr>\n",
       "    <tr>\n",
       "      <th>1</th>\n",
       "      <td>Piso  Emili grahit. Piso con 6 habitaciones co...</td>\n",
       "      <td>Girona - Eixample Nord</td>\n",
       "      <td>450000.0</td>\n",
       "      <td>https://www.habitaclia.com/comprar-piso-con_6_...</td>\n",
       "      <td>Piso de 205m2 con Gran Potencial en medio del ...</td>\n",
       "    </tr>\n",
       "    <tr>\n",
       "      <th>2</th>\n",
       "      <td>Ático  en  Eixample Nord. Atico duplex exclusi...</td>\n",
       "      <td>Girona - Eixample Nord</td>\n",
       "      <td>999000.0</td>\n",
       "      <td>https://www.habitaclia.com/comprar-atico-duple...</td>\n",
       "      <td>Atico dúplex exclusivo en el corazón de Girona...</td>\n",
       "    </tr>\n",
       "    <tr>\n",
       "      <th>3</th>\n",
       "      <td>Piso  Jaume i. Piso con 5 habitaciones con asc...</td>\n",
       "      <td>Girona - Eixample Nord</td>\n",
       "      <td>395000.0</td>\n",
       "      <td>https://www.habitaclia.com/comprar-piso-con_5_...</td>\n",
       "      <td>PISO DE GRANDES POSIBILIDADES EN EL CORAZÓN D...</td>\n",
       "    </tr>\n",
       "    <tr>\n",
       "      <th>4</th>\n",
       "      <td>Casa adosada  en  Palau. Oportunitat casa a pa...</td>\n",
       "      <td>Girona - Palau</td>\n",
       "      <td>525000.0</td>\n",
       "      <td>https://www.habitaclia.com/comprar-casa_adosad...</td>\n",
       "      <td>Fantàstica casa a la zona de Palau de Girona. ...</td>\n",
       "    </tr>\n",
       "  </tbody>\n",
       "</table>\n",
       "</div>"
      ],
      "text/plain": [
       "                                               title            neighborhood  \\\n",
       "0  Piso  Ford roig-montjuic. Piso con 3 habitacio...       Girona - Montjuïc   \n",
       "1  Piso  Emili grahit. Piso con 6 habitaciones co...  Girona - Eixample Nord   \n",
       "2  Ático  en  Eixample Nord. Atico duplex exclusi...  Girona - Eixample Nord   \n",
       "3  Piso  Jaume i. Piso con 5 habitaciones con asc...  Girona - Eixample Nord   \n",
       "4  Casa adosada  en  Palau. Oportunitat casa a pa...          Girona - Palau   \n",
       "\n",
       "      price                                                url  \\\n",
       "0  325000.0  https://www.habitaclia.com/comprar-piso-con_3_...   \n",
       "1  450000.0  https://www.habitaclia.com/comprar-piso-con_6_...   \n",
       "2  999000.0  https://www.habitaclia.com/comprar-atico-duple...   \n",
       "3  395000.0  https://www.habitaclia.com/comprar-piso-con_5_...   \n",
       "4  525000.0  https://www.habitaclia.com/comprar-casa_adosad...   \n",
       "\n",
       "                                         description  \n",
       "0  Fantástico piso esquinero de 3 habitaciones y ...  \n",
       "1  Piso de 205m2 con Gran Potencial en medio del ...  \n",
       "2  Atico dúplex exclusivo en el corazón de Girona...  \n",
       "3   PISO DE GRANDES POSIBILIDADES EN EL CORAZÓN D...  \n",
       "4  Fantàstica casa a la zona de Palau de Girona. ...  "
      ]
     },
     "execution_count": 6,
     "metadata": {},
     "output_type": "execute_result"
    }
   ],
   "source": [
    "df['price'] = df['price'].str.replace('.','').str.replace(' €','').astype(float)\n",
    "df.head()"
   ]
  },
  {
   "cell_type": "code",
   "execution_count": 7,
   "id": "fabc7793-aae0-4b08-b7a5-9d4829a360e9",
   "metadata": {
    "tags": []
   },
   "outputs": [
    {
     "name": "stdout",
     "output_type": "stream",
     "text": [
      "<class 'pandas.core.frame.DataFrame'>\n",
      "RangeIndex: 80 entries, 0 to 79\n",
      "Data columns (total 5 columns):\n",
      " #   Column        Non-Null Count  Dtype  \n",
      "---  ------        --------------  -----  \n",
      " 0   title         80 non-null     object \n",
      " 1   neighborhood  80 non-null     object \n",
      " 2   price         79 non-null     float64\n",
      " 3   url           80 non-null     object \n",
      " 4   description   80 non-null     object \n",
      "dtypes: float64(1), object(4)\n",
      "memory usage: 3.2+ KB\n"
     ]
    }
   ],
   "source": [
    "df.info()"
   ]
  },
  {
   "cell_type": "code",
   "execution_count": 8,
   "id": "a5447537-a2d0-4885-81fc-085d2795bc7d",
   "metadata": {
    "tags": []
   },
   "outputs": [
    {
     "data": {
      "image/png": "[encoded data removed]",
      "text/plain": [
       "<Figure size 1080x288 with 1 Axes>"
      ]
     },
     "metadata": {},
     "output_type": "display_data"
    }
   ],
   "source": [
    "sns.set_theme(style=\"whitegrid\")\n",
    "\n",
    "sns.catplot(data=df, kind=\"bar\",x=\"neighborhood\", y=\"price\",palette=\"dark\", alpha=.6, height=4, aspect=15/4)\n",
    "plt.xlabel(\"Neighborhood\",fontsize=12)\n",
    "plt.ylabel(\"Prices in EUR\",fontsize=12)\n",
    "plt.title(\"Prices of housing by neighborhood\",fontsize=15)\n",
    "plt.xticks(rotation=90)\n",
    "plt.show()"
   ]
  },
  {
   "cell_type": "markdown",
   "id": "bf8824ad-228b-4d8f-88a2-7336f87b707f",
   "metadata": {},
   "source": [
    "#### Notes\n",
    "* Beautiful Soup\n",
    "    - https://realpython.com/beautiful-soup-web-scraper-python/\n",
    "* Selenium\n",
    "    - https://realpython.com/modern-web-automation-with-python-and-selenium/\n",
    "    - https://www.selenium.dev/documentation/es/getting_started/\n",
    "    - https://scrapy.org\n",
    "    - https://selenium-python.readthedocs.io/getting-started.html#simple-usage\n",
    "* Avoid getting blocked\n",
    "    - https://www.codementor.io/@scrapingdog/10-tips-to-avoid-getting-blocked-while-scraping-websites-16papipe62\n",
    "* Comparision Beautiful Soup, Selenium, Scrapy  \n",
    "    - https://medium.com/analytics-vidhya/scrapy-vs-selenium-vs-beautiful-soup-for-web-scraping-24008b6c87b8\n",
    "* Scrapy\n",
    "    - step by step https://letslearnabout.net/tutorial/scrapy-tutorial/python-scrapy-tutorial-for-beginners-01-creating-your-first-spider/\n",
    "    - how to export https://stackoverflow.com/questions/47417332/scrapy-crawlerprocess-not-saving-data-with-crawlspider\n",
    "    - tutorial https://www.tutorialspoint.com/scrapy/scrapy_overview.htm\n",
    "    - selectors https://docs.scrapy.org/en/latest/topics/selectors.html\n",
    "    - tutorial with books https://medium.com/quick-code/python-scrapy-tutorial-for-beginners-02-extract-all-the-data-aa0165501b4c\n",
    "    - https://towardsdatascience.com/run-scrapy-code-from-jupyter-notebook-without-issues-69b7cb79530c\n",
    "    - https://www.jitsejan.com/using-scrapy-in-jupyter-notebook\n",
    "    - https://books.toscrape.com/"
   ]
  }
 ],
 "metadata": {
  "kernelspec": {
   "display_name": "Python 3",
   "language": "python",
   "name": "python3"
  },
  "language_info": {
   "codemirror_mode": {
    "name": "ipython",
    "version": 3
   },
   "file_extension": ".py",
   "mimetype": "text/x-python",
   "name": "python",
   "nbconvert_exporter": "python",
   "pygments_lexer": "ipython3",
   "version": "3.8.8"
  }
 },
 "nbformat": 4,
 "nbformat_minor": 5
}
